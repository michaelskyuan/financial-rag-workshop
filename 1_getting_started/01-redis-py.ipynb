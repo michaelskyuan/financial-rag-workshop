{
 "cells": [
  {
   "cell_type": "markdown",
   "metadata": {
    "id": "R2-i8jBl9GRH"
   },
   "source": [
    "<div align=\"center\">\n",
    "    <div><img src=\"../assets/redis_logo.svg\" style=\"width: 130px\"> </div>\n",
    "    <div style=\"display: inline-block; text-align: center; margin-bottom: 10px;\">\n",
    "        <span style=\"font-size: 36px;\"><b>Introduction to Redis Python</b></span>\n",
    "        <br />\n",
    "    </div>\n",
    "    <br />\n",
    "</div>\n",
    "\n",
    "This notebook introduces [Redis](https://redis.io) and the standard Python client, [redis-py](https://redis-py.readthedocs.io/en/stable/), for interacting with the database. We will explore the basics of Redis setup, data structures, and capabilities like vector search!\n"
   ]
  },
  {
   "cell_type": "markdown",
   "metadata": {
    "id": "ojfRVcU2uPpr"
   },
   "source": [
    "### Install Python Dependencies"
   ]
  },
  {
   "cell_type": "code",
   "execution_count": 1,
   "metadata": {
    "ExecuteTime": {
     "end_time": "2024-06-07T18:51:23.396556Z",
     "start_time": "2024-06-07T18:51:23.392417Z"
    }
   },
   "outputs": [
    {
     "name": "stdout",
     "output_type": "stream",
     "text": [
      "/Users/michael.yuan/work/genai/financial-rag-workshop/1_getting_started\n",
      "/Users/michael.yuan/work/genai/financial-rag-workshop\n"
     ]
    }
   ],
   "source": [
    "import os\n",
    "import warnings\n",
    "warnings.filterwarnings(\"ignore\")\n",
    "dir_path = os.getcwd()\n",
    "parent_directory = os.path.dirname(dir_path)\n",
    "os.environ[\"TOKENIZERS_PARALLELISM\"] = \"false\"\n",
    "os.environ[\"ROOT_DIR\"] = parent_directory\n",
    "print(dir_path)\n",
    "print(parent_directory)"
   ]
  },
  {
   "cell_type": "code",
   "execution_count": 2,
   "metadata": {
    "ExecuteTime": {
     "end_time": "2024-06-07T18:51:25.991030Z",
     "start_time": "2024-06-07T18:51:23.402925Z"
    },
    "colab": {
     "base_uri": "https://localhost:8080/"
    },
    "id": "Tpqa4wdIuPps",
    "outputId": "98d012ed-c460-4d46-bcb2-fdbd86589454"
   },
   "outputs": [
    {
     "name": "stdout",
     "output_type": "stream",
     "text": [
      "Defaulting to user installation because normal site-packages is not writeable\n",
      "Requirement already satisfied: python-dotenv in /Users/michael.yuan/Library/Python/3.9/lib/python/site-packages (from -r /Users/michael.yuan/work/genai/financial-rag-workshop/requirements.txt (line 1)) (1.0.1)\n",
      "Requirement already satisfied: tiktoken in /Users/michael.yuan/Library/Python/3.9/lib/python/site-packages (from -r /Users/michael.yuan/work/genai/financial-rag-workshop/requirements.txt (line 2)) (0.6.0)\n",
      "Requirement already satisfied: langchain in /Users/michael.yuan/Library/Python/3.9/lib/python/site-packages (from -r /Users/michael.yuan/work/genai/financial-rag-workshop/requirements.txt (line 3)) (0.1.14)\n",
      "Requirement already satisfied: langchain-community in /Users/michael.yuan/Library/Python/3.9/lib/python/site-packages (from -r /Users/michael.yuan/work/genai/financial-rag-workshop/requirements.txt (line 4)) (0.0.31)\n",
      "Requirement already satisfied: unstructured[pdf] in /Users/michael.yuan/Library/Python/3.9/lib/python/site-packages (from -r /Users/michael.yuan/work/genai/financial-rag-workshop/requirements.txt (line 5)) (0.13.6)\n",
      "Requirement already satisfied: sentence-transformers in /Users/michael.yuan/Library/Python/3.9/lib/python/site-packages (from -r /Users/michael.yuan/work/genai/financial-rag-workshop/requirements.txt (line 6)) (2.2.2)\n",
      "Requirement already satisfied: pandas in /Users/michael.yuan/Library/Python/3.9/lib/python/site-packages (from -r /Users/michael.yuan/work/genai/financial-rag-workshop/requirements.txt (line 7)) (2.0.3)\n",
      "Requirement already satisfied: pdf2image in /Users/michael.yuan/Library/Python/3.9/lib/python/site-packages (from -r /Users/michael.yuan/work/genai/financial-rag-workshop/requirements.txt (line 8)) (1.17.0)\n",
      "Requirement already satisfied: spacy in /Users/michael.yuan/Library/Python/3.9/lib/python/site-packages (from -r /Users/michael.yuan/work/genai/financial-rag-workshop/requirements.txt (line 9)) (3.7.5)\n",
      "Requirement already satisfied: langgraph in /Users/michael.yuan/Library/Python/3.9/lib/python/site-packages (from -r /Users/michael.yuan/work/genai/financial-rag-workshop/requirements.txt (line 10)) (0.0.51)\n",
      "Requirement already satisfied: redis in /Users/michael.yuan/Library/Python/3.9/lib/python/site-packages (from -r /Users/michael.yuan/work/genai/financial-rag-workshop/requirements.txt (line 11)) (5.2.1)\n",
      "Requirement already satisfied: redisvl in /Users/michael.yuan/Library/Python/3.9/lib/python/site-packages (from -r /Users/michael.yuan/work/genai/financial-rag-workshop/requirements.txt (line 12)) (0.2.0)\n",
      "Requirement already satisfied: langchain-openai in /Users/michael.yuan/Library/Python/3.9/lib/python/site-packages (from -r /Users/michael.yuan/work/genai/financial-rag-workshop/requirements.txt (line 13)) (0.1.1)\n",
      "Requirement already satisfied: openai in /Users/michael.yuan/Library/Python/3.9/lib/python/site-packages (from -r /Users/michael.yuan/work/genai/financial-rag-workshop/requirements.txt (line 14)) (1.16.2)\n",
      "Requirement already satisfied: regex>=2022.1.18 in /Users/michael.yuan/Library/Python/3.9/lib/python/site-packages (from tiktoken->-r /Users/michael.yuan/work/genai/financial-rag-workshop/requirements.txt (line 2)) (2022.10.31)\n",
      "Requirement already satisfied: requests>=2.26.0 in /Users/michael.yuan/Library/Python/3.9/lib/python/site-packages (from tiktoken->-r /Users/michael.yuan/work/genai/financial-rag-workshop/requirements.txt (line 2)) (2.31.0)\n",
      "Requirement already satisfied: PyYAML>=5.3 in /Users/michael.yuan/Library/Python/3.9/lib/python/site-packages (from langchain->-r /Users/michael.yuan/work/genai/financial-rag-workshop/requirements.txt (line 3)) (6.0.1)\n",
      "Requirement already satisfied: SQLAlchemy<3,>=1.4 in /Users/michael.yuan/Library/Python/3.9/lib/python/site-packages (from langchain->-r /Users/michael.yuan/work/genai/financial-rag-workshop/requirements.txt (line 3)) (2.0.29)\n",
      "Requirement already satisfied: aiohttp<4.0.0,>=3.8.3 in /Users/michael.yuan/Library/Python/3.9/lib/python/site-packages (from langchain->-r /Users/michael.yuan/work/genai/financial-rag-workshop/requirements.txt (line 3)) (3.9.5)\n",
      "Requirement already satisfied: async-timeout<5.0.0,>=4.0.0 in /Users/michael.yuan/Library/Python/3.9/lib/python/site-packages (from langchain->-r /Users/michael.yuan/work/genai/financial-rag-workshop/requirements.txt (line 3)) (4.0.3)\n",
      "Requirement already satisfied: dataclasses-json<0.7,>=0.5.7 in /Users/michael.yuan/Library/Python/3.9/lib/python/site-packages (from langchain->-r /Users/michael.yuan/work/genai/financial-rag-workshop/requirements.txt (line 3)) (0.6.4)\n",
      "Requirement already satisfied: jsonpatch<2.0,>=1.33 in /Users/michael.yuan/Library/Python/3.9/lib/python/site-packages (from langchain->-r /Users/michael.yuan/work/genai/financial-rag-workshop/requirements.txt (line 3)) (1.33)\n",
      "Requirement already satisfied: langchain-core<0.2.0,>=0.1.37 in /Users/michael.yuan/Library/Python/3.9/lib/python/site-packages (from langchain->-r /Users/michael.yuan/work/genai/financial-rag-workshop/requirements.txt (line 3)) (0.1.52)\n",
      "Requirement already satisfied: langchain-text-splitters<0.1,>=0.0.1 in /Users/michael.yuan/Library/Python/3.9/lib/python/site-packages (from langchain->-r /Users/michael.yuan/work/genai/financial-rag-workshop/requirements.txt (line 3)) (0.0.1)\n",
      "Requirement already satisfied: langsmith<0.2.0,>=0.1.17 in /Users/michael.yuan/Library/Python/3.9/lib/python/site-packages (from langchain->-r /Users/michael.yuan/work/genai/financial-rag-workshop/requirements.txt (line 3)) (0.1.40)\n",
      "Requirement already satisfied: numpy<2,>=1 in /Users/michael.yuan/Library/Python/3.9/lib/python/site-packages (from langchain->-r /Users/michael.yuan/work/genai/financial-rag-workshop/requirements.txt (line 3)) (1.25.1)\n",
      "Requirement already satisfied: pydantic<3,>=1 in /Users/michael.yuan/Library/Python/3.9/lib/python/site-packages (from langchain->-r /Users/michael.yuan/work/genai/financial-rag-workshop/requirements.txt (line 3)) (2.6.4)\n",
      "Requirement already satisfied: tenacity<9.0.0,>=8.1.0 in /Users/michael.yuan/Library/Python/3.9/lib/python/site-packages (from langchain->-r /Users/michael.yuan/work/genai/financial-rag-workshop/requirements.txt (line 3)) (8.2.2)\n",
      "Requirement already satisfied: chardet in /Users/michael.yuan/Library/Python/3.9/lib/python/site-packages (from unstructured[pdf]->-r /Users/michael.yuan/work/genai/financial-rag-workshop/requirements.txt (line 5)) (5.2.0)\n",
      "Requirement already satisfied: filetype in /Users/michael.yuan/Library/Python/3.9/lib/python/site-packages (from unstructured[pdf]->-r /Users/michael.yuan/work/genai/financial-rag-workshop/requirements.txt (line 5)) (1.2.0)\n",
      "Requirement already satisfied: python-magic in /Users/michael.yuan/Library/Python/3.9/lib/python/site-packages (from unstructured[pdf]->-r /Users/michael.yuan/work/genai/financial-rag-workshop/requirements.txt (line 5)) (0.4.27)\n",
      "Requirement already satisfied: lxml in /Users/michael.yuan/Library/Python/3.9/lib/python/site-packages (from unstructured[pdf]->-r /Users/michael.yuan/work/genai/financial-rag-workshop/requirements.txt (line 5)) (4.9.2)\n",
      "Requirement already satisfied: nltk in /Users/michael.yuan/Library/Python/3.9/lib/python/site-packages (from unstructured[pdf]->-r /Users/michael.yuan/work/genai/financial-rag-workshop/requirements.txt (line 5)) (3.8.1)\n",
      "Requirement already satisfied: tabulate in /Users/michael.yuan/Library/Python/3.9/lib/python/site-packages (from unstructured[pdf]->-r /Users/michael.yuan/work/genai/financial-rag-workshop/requirements.txt (line 5)) (0.9.0)\n",
      "Requirement already satisfied: beautifulsoup4 in /Users/michael.yuan/Library/Python/3.9/lib/python/site-packages (from unstructured[pdf]->-r /Users/michael.yuan/work/genai/financial-rag-workshop/requirements.txt (line 5)) (4.12.3)\n",
      "Requirement already satisfied: emoji in /Users/michael.yuan/Library/Python/3.9/lib/python/site-packages (from unstructured[pdf]->-r /Users/michael.yuan/work/genai/financial-rag-workshop/requirements.txt (line 5)) (2.11.1)\n",
      "Requirement already satisfied: python-iso639 in /Users/michael.yuan/Library/Python/3.9/lib/python/site-packages (from unstructured[pdf]->-r /Users/michael.yuan/work/genai/financial-rag-workshop/requirements.txt (line 5)) (2024.4.27)\n",
      "Requirement already satisfied: langdetect in /Users/michael.yuan/Library/Python/3.9/lib/python/site-packages (from unstructured[pdf]->-r /Users/michael.yuan/work/genai/financial-rag-workshop/requirements.txt (line 5)) (1.0.9)\n",
      "Requirement already satisfied: rapidfuzz in /Users/michael.yuan/Library/Python/3.9/lib/python/site-packages (from unstructured[pdf]->-r /Users/michael.yuan/work/genai/financial-rag-workshop/requirements.txt (line 5)) (3.7.0)\n",
      "Requirement already satisfied: backoff in /Users/michael.yuan/Library/Python/3.9/lib/python/site-packages (from unstructured[pdf]->-r /Users/michael.yuan/work/genai/financial-rag-workshop/requirements.txt (line 5)) (2.2.1)\n",
      "Requirement already satisfied: typing-extensions in /Users/michael.yuan/Library/Python/3.9/lib/python/site-packages (from unstructured[pdf]->-r /Users/michael.yuan/work/genai/financial-rag-workshop/requirements.txt (line 5)) (4.7.1)\n",
      "Requirement already satisfied: unstructured-client in /Users/michael.yuan/Library/Python/3.9/lib/python/site-packages (from unstructured[pdf]->-r /Users/michael.yuan/work/genai/financial-rag-workshop/requirements.txt (line 5)) (0.8.1)\n",
      "Requirement already satisfied: wrapt in /Users/michael.yuan/Library/Python/3.9/lib/python/site-packages (from unstructured[pdf]->-r /Users/michael.yuan/work/genai/financial-rag-workshop/requirements.txt (line 5)) (1.14.0)\n",
      "Requirement already satisfied: onnx in /Users/michael.yuan/Library/Python/3.9/lib/python/site-packages (from unstructured[pdf]->-r /Users/michael.yuan/work/genai/financial-rag-workshop/requirements.txt (line 5)) (1.16.0)\n",
      "Requirement already satisfied: pdfminer.six in /Users/michael.yuan/Library/Python/3.9/lib/python/site-packages (from unstructured[pdf]->-r /Users/michael.yuan/work/genai/financial-rag-workshop/requirements.txt (line 5)) (20231228)\n",
      "Requirement already satisfied: pikepdf in /Users/michael.yuan/Library/Python/3.9/lib/python/site-packages (from unstructured[pdf]->-r /Users/michael.yuan/work/genai/financial-rag-workshop/requirements.txt (line 5)) (8.15.1)\n",
      "Requirement already satisfied: pillow-heif in /Users/michael.yuan/Library/Python/3.9/lib/python/site-packages (from unstructured[pdf]->-r /Users/michael.yuan/work/genai/financial-rag-workshop/requirements.txt (line 5)) (0.16.0)\n",
      "Requirement already satisfied: pypdf in /Users/michael.yuan/Library/Python/3.9/lib/python/site-packages (from unstructured[pdf]->-r /Users/michael.yuan/work/genai/financial-rag-workshop/requirements.txt (line 5)) (4.2.0)\n",
      "Requirement already satisfied: unstructured-inference==0.7.29 in /Users/michael.yuan/Library/Python/3.9/lib/python/site-packages (from unstructured[pdf]->-r /Users/michael.yuan/work/genai/financial-rag-workshop/requirements.txt (line 5)) (0.7.29)\n",
      "Requirement already satisfied: unstructured.pytesseract>=0.3.12 in /Users/michael.yuan/Library/Python/3.9/lib/python/site-packages (from unstructured[pdf]->-r /Users/michael.yuan/work/genai/financial-rag-workshop/requirements.txt (line 5)) (0.3.12)\n",
      "Requirement already satisfied: google-cloud-vision in /Users/michael.yuan/Library/Python/3.9/lib/python/site-packages (from unstructured[pdf]->-r /Users/michael.yuan/work/genai/financial-rag-workshop/requirements.txt (line 5)) (3.7.2)\n",
      "Requirement already satisfied: layoutparser[layoutmodels,tesseract] in /Users/michael.yuan/Library/Python/3.9/lib/python/site-packages (from unstructured-inference==0.7.29->unstructured[pdf]->-r /Users/michael.yuan/work/genai/financial-rag-workshop/requirements.txt (line 5)) (0.3.4)\n",
      "Requirement already satisfied: python-multipart in /Users/michael.yuan/Library/Python/3.9/lib/python/site-packages (from unstructured-inference==0.7.29->unstructured[pdf]->-r /Users/michael.yuan/work/genai/financial-rag-workshop/requirements.txt (line 5)) (0.0.9)\n",
      "Requirement already satisfied: huggingface-hub in /Users/michael.yuan/Library/Python/3.9/lib/python/site-packages (from unstructured-inference==0.7.29->unstructured[pdf]->-r /Users/michael.yuan/work/genai/financial-rag-workshop/requirements.txt (line 5)) (0.22.2)\n",
      "Requirement already satisfied: opencv-python!=4.7.0.68 in /Users/michael.yuan/Library/Python/3.9/lib/python/site-packages (from unstructured-inference==0.7.29->unstructured[pdf]->-r /Users/michael.yuan/work/genai/financial-rag-workshop/requirements.txt (line 5)) (4.9.0.80)\n",
      "Requirement already satisfied: onnxruntime>=1.17.0 in /Users/michael.yuan/Library/Python/3.9/lib/python/site-packages (from unstructured-inference==0.7.29->unstructured[pdf]->-r /Users/michael.yuan/work/genai/financial-rag-workshop/requirements.txt (line 5)) (1.17.3)\n",
      "Requirement already satisfied: transformers>=4.25.1 in /Users/michael.yuan/Library/Python/3.9/lib/python/site-packages (from unstructured-inference==0.7.29->unstructured[pdf]->-r /Users/michael.yuan/work/genai/financial-rag-workshop/requirements.txt (line 5)) (4.40.1)\n",
      "Requirement already satisfied: tqdm in /Users/michael.yuan/Library/Python/3.9/lib/python/site-packages (from sentence-transformers->-r /Users/michael.yuan/work/genai/financial-rag-workshop/requirements.txt (line 6)) (4.66.4)\n",
      "Requirement already satisfied: torch>=1.6.0 in /Users/michael.yuan/Library/Python/3.9/lib/python/site-packages (from sentence-transformers->-r /Users/michael.yuan/work/genai/financial-rag-workshop/requirements.txt (line 6)) (1.13.0)\n",
      "Requirement already satisfied: torchvision in /Users/michael.yuan/Library/Python/3.9/lib/python/site-packages (from sentence-transformers->-r /Users/michael.yuan/work/genai/financial-rag-workshop/requirements.txt (line 6)) (0.14.0)\n",
      "Requirement already satisfied: scikit-learn in /Users/michael.yuan/Library/Python/3.9/lib/python/site-packages (from sentence-transformers->-r /Users/michael.yuan/work/genai/financial-rag-workshop/requirements.txt (line 6)) (1.1.3)\n",
      "Requirement already satisfied: scipy in /Users/michael.yuan/Library/Python/3.9/lib/python/site-packages (from sentence-transformers->-r /Users/michael.yuan/work/genai/financial-rag-workshop/requirements.txt (line 6)) (1.9.3)\n",
      "Requirement already satisfied: sentencepiece in /Users/michael.yuan/Library/Python/3.9/lib/python/site-packages (from sentence-transformers->-r /Users/michael.yuan/work/genai/financial-rag-workshop/requirements.txt (line 6)) (0.1.97)\n"
     ]
    },
    {
     "name": "stdout",
     "output_type": "stream",
     "text": [
      "Requirement already satisfied: python-dateutil>=2.8.2 in /Users/michael.yuan/Library/Python/3.9/lib/python/site-packages (from pandas->-r /Users/michael.yuan/work/genai/financial-rag-workshop/requirements.txt (line 7)) (2.8.2)\n",
      "Requirement already satisfied: pytz>=2020.1 in /Users/michael.yuan/Library/Python/3.9/lib/python/site-packages (from pandas->-r /Users/michael.yuan/work/genai/financial-rag-workshop/requirements.txt (line 7)) (2023.3)\n",
      "Requirement already satisfied: tzdata>=2022.1 in /Users/michael.yuan/Library/Python/3.9/lib/python/site-packages (from pandas->-r /Users/michael.yuan/work/genai/financial-rag-workshop/requirements.txt (line 7)) (2023.3)\n",
      "Requirement already satisfied: pillow in /Users/michael.yuan/Library/Python/3.9/lib/python/site-packages (from pdf2image->-r /Users/michael.yuan/work/genai/financial-rag-workshop/requirements.txt (line 8)) (11.1.0)\n",
      "Requirement already satisfied: spacy-legacy<3.1.0,>=3.0.11 in /Users/michael.yuan/Library/Python/3.9/lib/python/site-packages (from spacy->-r /Users/michael.yuan/work/genai/financial-rag-workshop/requirements.txt (line 9)) (3.0.12)\n",
      "Requirement already satisfied: spacy-loggers<2.0.0,>=1.0.0 in /Users/michael.yuan/Library/Python/3.9/lib/python/site-packages (from spacy->-r /Users/michael.yuan/work/genai/financial-rag-workshop/requirements.txt (line 9)) (1.0.5)\n",
      "Requirement already satisfied: murmurhash<1.1.0,>=0.28.0 in /Users/michael.yuan/Library/Python/3.9/lib/python/site-packages (from spacy->-r /Users/michael.yuan/work/genai/financial-rag-workshop/requirements.txt (line 9)) (1.0.10)\n",
      "Requirement already satisfied: cymem<2.1.0,>=2.0.2 in /Users/michael.yuan/Library/Python/3.9/lib/python/site-packages (from spacy->-r /Users/michael.yuan/work/genai/financial-rag-workshop/requirements.txt (line 9)) (2.0.8)\n",
      "Requirement already satisfied: preshed<3.1.0,>=3.0.2 in /Users/michael.yuan/Library/Python/3.9/lib/python/site-packages (from spacy->-r /Users/michael.yuan/work/genai/financial-rag-workshop/requirements.txt (line 9)) (3.0.9)\n",
      "Requirement already satisfied: thinc<8.3.0,>=8.2.2 in /Users/michael.yuan/Library/Python/3.9/lib/python/site-packages (from spacy->-r /Users/michael.yuan/work/genai/financial-rag-workshop/requirements.txt (line 9)) (8.2.4)\n",
      "Requirement already satisfied: wasabi<1.2.0,>=0.9.1 in /Users/michael.yuan/Library/Python/3.9/lib/python/site-packages (from spacy->-r /Users/michael.yuan/work/genai/financial-rag-workshop/requirements.txt (line 9)) (1.1.3)\n",
      "Requirement already satisfied: srsly<3.0.0,>=2.4.3 in /Users/michael.yuan/Library/Python/3.9/lib/python/site-packages (from spacy->-r /Users/michael.yuan/work/genai/financial-rag-workshop/requirements.txt (line 9)) (2.4.8)\n",
      "Requirement already satisfied: catalogue<2.1.0,>=2.0.6 in /Users/michael.yuan/Library/Python/3.9/lib/python/site-packages (from spacy->-r /Users/michael.yuan/work/genai/financial-rag-workshop/requirements.txt (line 9)) (2.0.10)\n",
      "Requirement already satisfied: weasel<0.5.0,>=0.1.0 in /Users/michael.yuan/Library/Python/3.9/lib/python/site-packages (from spacy->-r /Users/michael.yuan/work/genai/financial-rag-workshop/requirements.txt (line 9)) (0.4.1)\n",
      "Requirement already satisfied: typer<1.0.0,>=0.3.0 in /Users/michael.yuan/Library/Python/3.9/lib/python/site-packages (from spacy->-r /Users/michael.yuan/work/genai/financial-rag-workshop/requirements.txt (line 9)) (0.9.4)\n",
      "Requirement already satisfied: jinja2 in /Users/michael.yuan/Library/Python/3.9/lib/python/site-packages (from spacy->-r /Users/michael.yuan/work/genai/financial-rag-workshop/requirements.txt (line 9)) (3.1.2)\n",
      "Requirement already satisfied: setuptools in /Users/michael.yuan/Library/Python/3.9/lib/python/site-packages (from spacy->-r /Users/michael.yuan/work/genai/financial-rag-workshop/requirements.txt (line 9)) (68.1.0)\n",
      "Requirement already satisfied: packaging>=20.0 in /Users/michael.yuan/Library/Python/3.9/lib/python/site-packages (from spacy->-r /Users/michael.yuan/work/genai/financial-rag-workshop/requirements.txt (line 9)) (23.2)\n",
      "Requirement already satisfied: langcodes<4.0.0,>=3.2.0 in /Users/michael.yuan/Library/Python/3.9/lib/python/site-packages (from spacy->-r /Users/michael.yuan/work/genai/financial-rag-workshop/requirements.txt (line 9)) (3.4.0)\n",
      "Requirement already satisfied: uuid6<2025.0.0,>=2024.1.12 in /Users/michael.yuan/Library/Python/3.9/lib/python/site-packages (from langgraph->-r /Users/michael.yuan/work/genai/financial-rag-workshop/requirements.txt (line 10)) (2024.1.12)\n",
      "Requirement already satisfied: coloredlogs in /Users/michael.yuan/Library/Python/3.9/lib/python/site-packages (from redisvl->-r /Users/michael.yuan/work/genai/financial-rag-workshop/requirements.txt (line 12)) (15.0.1)\n",
      "Requirement already satisfied: anyio<5,>=3.5.0 in /Users/michael.yuan/Library/Python/3.9/lib/python/site-packages (from openai->-r /Users/michael.yuan/work/genai/financial-rag-workshop/requirements.txt (line 14)) (3.6.2)\n",
      "Requirement already satisfied: distro<2,>=1.7.0 in /Users/michael.yuan/Library/Python/3.9/lib/python/site-packages (from openai->-r /Users/michael.yuan/work/genai/financial-rag-workshop/requirements.txt (line 14)) (1.9.0)\n",
      "Requirement already satisfied: httpx<1,>=0.23.0 in /Users/michael.yuan/Library/Python/3.9/lib/python/site-packages (from openai->-r /Users/michael.yuan/work/genai/financial-rag-workshop/requirements.txt (line 14)) (0.27.0)\n",
      "Requirement already satisfied: sniffio in /Users/michael.yuan/Library/Python/3.9/lib/python/site-packages (from openai->-r /Users/michael.yuan/work/genai/financial-rag-workshop/requirements.txt (line 14)) (1.3.0)\n",
      "Requirement already satisfied: aiosignal>=1.1.2 in /Users/michael.yuan/Library/Python/3.9/lib/python/site-packages (from aiohttp<4.0.0,>=3.8.3->langchain->-r /Users/michael.yuan/work/genai/financial-rag-workshop/requirements.txt (line 3)) (1.3.1)\n",
      "Requirement already satisfied: attrs>=17.3.0 in /Users/michael.yuan/Library/Python/3.9/lib/python/site-packages (from aiohttp<4.0.0,>=3.8.3->langchain->-r /Users/michael.yuan/work/genai/financial-rag-workshop/requirements.txt (line 3)) (23.1.0)\n",
      "Requirement already satisfied: frozenlist>=1.1.1 in /Users/michael.yuan/Library/Python/3.9/lib/python/site-packages (from aiohttp<4.0.0,>=3.8.3->langchain->-r /Users/michael.yuan/work/genai/financial-rag-workshop/requirements.txt (line 3)) (1.3.3)\n",
      "Requirement already satisfied: multidict<7.0,>=4.5 in /Users/michael.yuan/Library/Python/3.9/lib/python/site-packages (from aiohttp<4.0.0,>=3.8.3->langchain->-r /Users/michael.yuan/work/genai/financial-rag-workshop/requirements.txt (line 3)) (6.0.4)\n",
      "Requirement already satisfied: yarl<2.0,>=1.0 in /Users/michael.yuan/Library/Python/3.9/lib/python/site-packages (from aiohttp<4.0.0,>=3.8.3->langchain->-r /Users/michael.yuan/work/genai/financial-rag-workshop/requirements.txt (line 3)) (1.9.2)\n",
      "Requirement already satisfied: idna>=2.8 in /Users/michael.yuan/Library/Python/3.9/lib/python/site-packages (from anyio<5,>=3.5.0->openai->-r /Users/michael.yuan/work/genai/financial-rag-workshop/requirements.txt (line 14)) (3.4)\n",
      "Requirement already satisfied: marshmallow<4.0.0,>=3.18.0 in /Users/michael.yuan/Library/Python/3.9/lib/python/site-packages (from dataclasses-json<0.7,>=0.5.7->langchain->-r /Users/michael.yuan/work/genai/financial-rag-workshop/requirements.txt (line 3)) (3.21.1)\n",
      "Requirement already satisfied: typing-inspect<1,>=0.4.0 in /Users/michael.yuan/Library/Python/3.9/lib/python/site-packages (from dataclasses-json<0.7,>=0.5.7->langchain->-r /Users/michael.yuan/work/genai/financial-rag-workshop/requirements.txt (line 3)) (0.9.0)\n",
      "Requirement already satisfied: certifi in /Users/michael.yuan/Library/Python/3.9/lib/python/site-packages (from httpx<1,>=0.23.0->openai->-r /Users/michael.yuan/work/genai/financial-rag-workshop/requirements.txt (line 14)) (2023.5.7)\n",
      "Requirement already satisfied: httpcore==1.* in /Users/michael.yuan/Library/Python/3.9/lib/python/site-packages (from httpx<1,>=0.23.0->openai->-r /Users/michael.yuan/work/genai/financial-rag-workshop/requirements.txt (line 14)) (1.0.5)\n",
      "Requirement already satisfied: h11<0.15,>=0.13 in /Users/michael.yuan/Library/Python/3.9/lib/python/site-packages (from httpcore==1.*->httpx<1,>=0.23.0->openai->-r /Users/michael.yuan/work/genai/financial-rag-workshop/requirements.txt (line 14)) (0.14.0)\n"
     ]
    },
    {
     "name": "stdout",
     "output_type": "stream",
     "text": [
      "Requirement already satisfied: filelock in /Users/michael.yuan/Library/Python/3.9/lib/python/site-packages (from huggingface-hub->unstructured-inference==0.7.29->unstructured[pdf]->-r /Users/michael.yuan/work/genai/financial-rag-workshop/requirements.txt (line 5)) (3.13.3)\n",
      "Requirement already satisfied: fsspec>=2023.5.0 in /Users/michael.yuan/Library/Python/3.9/lib/python/site-packages (from huggingface-hub->unstructured-inference==0.7.29->unstructured[pdf]->-r /Users/michael.yuan/work/genai/financial-rag-workshop/requirements.txt (line 5)) (2024.3.1)\n",
      "Requirement already satisfied: jsonpointer>=1.9 in /Users/michael.yuan/Library/Python/3.9/lib/python/site-packages (from jsonpatch<2.0,>=1.33->langchain->-r /Users/michael.yuan/work/genai/financial-rag-workshop/requirements.txt (line 3)) (2.3)\n",
      "Requirement already satisfied: language-data>=1.2 in /Users/michael.yuan/Library/Python/3.9/lib/python/site-packages (from langcodes<4.0.0,>=3.2.0->spacy->-r /Users/michael.yuan/work/genai/financial-rag-workshop/requirements.txt (line 9)) (1.2.0)\n",
      "Requirement already satisfied: orjson<4.0.0,>=3.9.14 in /Users/michael.yuan/Library/Python/3.9/lib/python/site-packages (from langsmith<0.2.0,>=0.1.17->langchain->-r /Users/michael.yuan/work/genai/financial-rag-workshop/requirements.txt (line 3)) (3.10.0)\n",
      "Requirement already satisfied: annotated-types>=0.4.0 in /Users/michael.yuan/Library/Python/3.9/lib/python/site-packages (from pydantic<3,>=1->langchain->-r /Users/michael.yuan/work/genai/financial-rag-workshop/requirements.txt (line 3)) (0.6.0)\n",
      "Requirement already satisfied: pydantic-core==2.16.3 in /Users/michael.yuan/Library/Python/3.9/lib/python/site-packages (from pydantic<3,>=1->langchain->-r /Users/michael.yuan/work/genai/financial-rag-workshop/requirements.txt (line 3)) (2.16.3)\n",
      "Requirement already satisfied: six>=1.5 in /Users/michael.yuan/Library/Python/3.9/lib/python/site-packages (from python-dateutil>=2.8.2->pandas->-r /Users/michael.yuan/work/genai/financial-rag-workshop/requirements.txt (line 7)) (1.16.0)\n",
      "Requirement already satisfied: charset-normalizer<4,>=2 in /Users/michael.yuan/Library/Python/3.9/lib/python/site-packages (from requests>=2.26.0->tiktoken->-r /Users/michael.yuan/work/genai/financial-rag-workshop/requirements.txt (line 2)) (3.2.0)\n",
      "Requirement already satisfied: urllib3<3,>=1.21.1 in /Users/michael.yuan/Library/Python/3.9/lib/python/site-packages (from requests>=2.26.0->tiktoken->-r /Users/michael.yuan/work/genai/financial-rag-workshop/requirements.txt (line 2)) (2.0.3)\n",
      "Requirement already satisfied: blis<0.8.0,>=0.7.8 in /Users/michael.yuan/Library/Python/3.9/lib/python/site-packages (from thinc<8.3.0,>=8.2.2->spacy->-r /Users/michael.yuan/work/genai/financial-rag-workshop/requirements.txt (line 9)) (0.7.11)\n",
      "Requirement already satisfied: confection<1.0.0,>=0.0.1 in /Users/michael.yuan/Library/Python/3.9/lib/python/site-packages (from thinc<8.3.0,>=8.2.2->spacy->-r /Users/michael.yuan/work/genai/financial-rag-workshop/requirements.txt (line 9)) (0.1.5)\n",
      "Requirement already satisfied: tokenizers<0.20,>=0.19 in /Users/michael.yuan/Library/Python/3.9/lib/python/site-packages (from transformers>=4.25.1->unstructured-inference==0.7.29->unstructured[pdf]->-r /Users/michael.yuan/work/genai/financial-rag-workshop/requirements.txt (line 5)) (0.19.1)\n",
      "Requirement already satisfied: safetensors>=0.4.1 in /Users/michael.yuan/Library/Python/3.9/lib/python/site-packages (from transformers>=4.25.1->unstructured-inference==0.7.29->unstructured[pdf]->-r /Users/michael.yuan/work/genai/financial-rag-workshop/requirements.txt (line 5)) (0.4.3)\n",
      "Requirement already satisfied: click<9.0.0,>=7.1.1 in /Users/michael.yuan/Library/Python/3.9/lib/python/site-packages (from typer<1.0.0,>=0.3.0->spacy->-r /Users/michael.yuan/work/genai/financial-rag-workshop/requirements.txt (line 9)) (8.1.4)\n",
      "Requirement already satisfied: cloudpathlib<1.0.0,>=0.7.0 in /Users/michael.yuan/Library/Python/3.9/lib/python/site-packages (from weasel<0.5.0,>=0.1.0->spacy->-r /Users/michael.yuan/work/genai/financial-rag-workshop/requirements.txt (line 9)) (0.18.1)\n",
      "Requirement already satisfied: smart-open<8.0.0,>=5.2.1 in /Users/michael.yuan/Library/Python/3.9/lib/python/site-packages (from weasel<0.5.0,>=0.1.0->spacy->-r /Users/michael.yuan/work/genai/financial-rag-workshop/requirements.txt (line 9)) (7.0.4)\n",
      "Requirement already satisfied: soupsieve>1.2 in /Users/michael.yuan/Library/Python/3.9/lib/python/site-packages (from beautifulsoup4->unstructured[pdf]->-r /Users/michael.yuan/work/genai/financial-rag-workshop/requirements.txt (line 5)) (2.4.1)\n",
      "Requirement already satisfied: humanfriendly>=9.1 in /Users/michael.yuan/Library/Python/3.9/lib/python/site-packages (from coloredlogs->redisvl->-r /Users/michael.yuan/work/genai/financial-rag-workshop/requirements.txt (line 12)) (10.0)\n",
      "Requirement already satisfied: google-api-core[grpc]!=2.0.*,!=2.1.*,!=2.10.*,!=2.2.*,!=2.3.*,!=2.4.*,!=2.5.*,!=2.6.*,!=2.7.*,!=2.8.*,!=2.9.*,<3.0.0dev,>=1.34.1 in /Users/michael.yuan/Library/Python/3.9/lib/python/site-packages (from google-cloud-vision->unstructured[pdf]->-r /Users/michael.yuan/work/genai/financial-rag-workshop/requirements.txt (line 5)) (2.19.0)\n",
      "Requirement already satisfied: google-auth!=2.24.0,!=2.25.0,<3.0.0dev,>=2.14.1 in /Users/michael.yuan/Library/Python/3.9/lib/python/site-packages (from google-cloud-vision->unstructured[pdf]->-r /Users/michael.yuan/work/genai/financial-rag-workshop/requirements.txt (line 5)) (2.29.0)\n",
      "Requirement already satisfied: proto-plus<2.0.0dev,>=1.22.3 in /Users/michael.yuan/Library/Python/3.9/lib/python/site-packages (from google-cloud-vision->unstructured[pdf]->-r /Users/michael.yuan/work/genai/financial-rag-workshop/requirements.txt (line 5)) (1.23.0)\n",
      "Requirement already satisfied: protobuf!=3.20.0,!=3.20.1,!=4.21.0,!=4.21.1,!=4.21.2,!=4.21.3,!=4.21.4,!=4.21.5,<5.0.0dev,>=3.19.5 in /Users/michael.yuan/Library/Python/3.9/lib/python/site-packages (from google-cloud-vision->unstructured[pdf]->-r /Users/michael.yuan/work/genai/financial-rag-workshop/requirements.txt (line 5)) (4.23.4)\n",
      "Requirement already satisfied: MarkupSafe>=2.0 in /Users/michael.yuan/Library/Python/3.9/lib/python/site-packages (from jinja2->spacy->-r /Users/michael.yuan/work/genai/financial-rag-workshop/requirements.txt (line 9)) (2.1.3)\n",
      "Requirement already satisfied: joblib in /Users/michael.yuan/Library/Python/3.9/lib/python/site-packages (from nltk->unstructured[pdf]->-r /Users/michael.yuan/work/genai/financial-rag-workshop/requirements.txt (line 5)) (1.2.0)\n",
      "Requirement already satisfied: cryptography>=36.0.0 in /Users/michael.yuan/Library/Python/3.9/lib/python/site-packages (from pdfminer.six->unstructured[pdf]->-r /Users/michael.yuan/work/genai/financial-rag-workshop/requirements.txt (line 5)) (39.0.1)\n",
      "Requirement already satisfied: Deprecated in /Users/michael.yuan/Library/Python/3.9/lib/python/site-packages (from pikepdf->unstructured[pdf]->-r /Users/michael.yuan/work/genai/financial-rag-workshop/requirements.txt (line 5)) (1.2.13)\n",
      "Requirement already satisfied: threadpoolctl>=2.0.0 in /Users/michael.yuan/Library/Python/3.9/lib/python/site-packages (from scikit-learn->sentence-transformers->-r /Users/michael.yuan/work/genai/financial-rag-workshop/requirements.txt (line 6)) (3.1.0)\n",
      "Requirement already satisfied: jsonpath-python>=1.0.6 in /Users/michael.yuan/Library/Python/3.9/lib/python/site-packages (from unstructured-client->unstructured[pdf]->-r /Users/michael.yuan/work/genai/financial-rag-workshop/requirements.txt (line 5)) (1.0.6)\n",
      "Requirement already satisfied: marshmallow-enum>=1.5.1 in /Users/michael.yuan/Library/Python/3.9/lib/python/site-packages (from unstructured-client->unstructured[pdf]->-r /Users/michael.yuan/work/genai/financial-rag-workshop/requirements.txt (line 5)) (1.5.1)\n",
      "Requirement already satisfied: mypy-extensions>=0.4.3 in /Users/michael.yuan/Library/Python/3.9/lib/python/site-packages (from unstructured-client->unstructured[pdf]->-r /Users/michael.yuan/work/genai/financial-rag-workshop/requirements.txt (line 5)) (1.0.0)\n",
      "Requirement already satisfied: pyparsing>=3.0.9 in /Users/michael.yuan/Library/Python/3.9/lib/python/site-packages (from unstructured-client->unstructured[pdf]->-r /Users/michael.yuan/work/genai/financial-rag-workshop/requirements.txt (line 5)) (3.1.2)\n"
     ]
    },
    {
     "name": "stdout",
     "output_type": "stream",
     "text": [
      "Requirement already satisfied: cffi>=1.12 in /Users/michael.yuan/Library/Python/3.9/lib/python/site-packages (from cryptography>=36.0.0->pdfminer.six->unstructured[pdf]->-r /Users/michael.yuan/work/genai/financial-rag-workshop/requirements.txt (line 5)) (1.16.0)\n",
      "Requirement already satisfied: googleapis-common-protos<2.0.dev0,>=1.56.2 in /Users/michael.yuan/Library/Python/3.9/lib/python/site-packages (from google-api-core[grpc]!=2.0.*,!=2.1.*,!=2.10.*,!=2.2.*,!=2.3.*,!=2.4.*,!=2.5.*,!=2.6.*,!=2.7.*,!=2.8.*,!=2.9.*,<3.0.0dev,>=1.34.1->google-cloud-vision->unstructured[pdf]->-r /Users/michael.yuan/work/genai/financial-rag-workshop/requirements.txt (line 5)) (1.63.0)\n",
      "Requirement already satisfied: grpcio<2.0dev,>=1.33.2 in /Users/michael.yuan/Library/Python/3.9/lib/python/site-packages (from google-api-core[grpc]!=2.0.*,!=2.1.*,!=2.10.*,!=2.2.*,!=2.3.*,!=2.4.*,!=2.5.*,!=2.6.*,!=2.7.*,!=2.8.*,!=2.9.*,<3.0.0dev,>=1.34.1->google-cloud-vision->unstructured[pdf]->-r /Users/michael.yuan/work/genai/financial-rag-workshop/requirements.txt (line 5)) (1.63.0)\n",
      "Requirement already satisfied: grpcio-status<2.0.dev0,>=1.33.2 in /Users/michael.yuan/Library/Python/3.9/lib/python/site-packages (from google-api-core[grpc]!=2.0.*,!=2.1.*,!=2.10.*,!=2.2.*,!=2.3.*,!=2.4.*,!=2.5.*,!=2.6.*,!=2.7.*,!=2.8.*,!=2.9.*,<3.0.0dev,>=1.34.1->google-cloud-vision->unstructured[pdf]->-r /Users/michael.yuan/work/genai/financial-rag-workshop/requirements.txt (line 5)) (1.62.2)\n",
      "Requirement already satisfied: cachetools<6.0,>=2.0.0 in /Users/michael.yuan/Library/Python/3.9/lib/python/site-packages (from google-auth!=2.24.0,!=2.25.0,<3.0.0dev,>=2.14.1->google-cloud-vision->unstructured[pdf]->-r /Users/michael.yuan/work/genai/financial-rag-workshop/requirements.txt (line 5)) (5.3.1)\n",
      "Requirement already satisfied: pyasn1-modules>=0.2.1 in /Users/michael.yuan/Library/Python/3.9/lib/python/site-packages (from google-auth!=2.24.0,!=2.25.0,<3.0.0dev,>=2.14.1->google-cloud-vision->unstructured[pdf]->-r /Users/michael.yuan/work/genai/financial-rag-workshop/requirements.txt (line 5)) (0.4.0)\n",
      "Requirement already satisfied: rsa<5,>=3.1.4 in /Users/michael.yuan/Library/Python/3.9/lib/python/site-packages (from google-auth!=2.24.0,!=2.25.0,<3.0.0dev,>=2.14.1->google-cloud-vision->unstructured[pdf]->-r /Users/michael.yuan/work/genai/financial-rag-workshop/requirements.txt (line 5)) (4.9)\n",
      "Requirement already satisfied: marisa-trie>=0.7.7 in /Users/michael.yuan/Library/Python/3.9/lib/python/site-packages (from language-data>=1.2->langcodes<4.0.0,>=3.2.0->spacy->-r /Users/michael.yuan/work/genai/financial-rag-workshop/requirements.txt (line 9)) (1.2.0)\n",
      "Requirement already satisfied: flatbuffers in /Users/michael.yuan/Library/Python/3.9/lib/python/site-packages (from onnxruntime>=1.17.0->unstructured-inference==0.7.29->unstructured[pdf]->-r /Users/michael.yuan/work/genai/financial-rag-workshop/requirements.txt (line 5)) (24.3.25)\n",
      "Requirement already satisfied: sympy in /Users/michael.yuan/Library/Python/3.9/lib/python/site-packages (from onnxruntime>=1.17.0->unstructured-inference==0.7.29->unstructured[pdf]->-r /Users/michael.yuan/work/genai/financial-rag-workshop/requirements.txt (line 5)) (1.12)\n",
      "Requirement already satisfied: iopath in /Users/michael.yuan/Library/Python/3.9/lib/python/site-packages (from layoutparser[layoutmodels,tesseract]->unstructured-inference==0.7.29->unstructured[pdf]->-r /Users/michael.yuan/work/genai/financial-rag-workshop/requirements.txt (line 5)) (0.1.10)\n",
      "Requirement already satisfied: pdfplumber in /Users/michael.yuan/Library/Python/3.9/lib/python/site-packages (from layoutparser[layoutmodels,tesseract]->unstructured-inference==0.7.29->unstructured[pdf]->-r /Users/michael.yuan/work/genai/financial-rag-workshop/requirements.txt (line 5)) (0.11.0)\n",
      "Requirement already satisfied: effdet in /Users/michael.yuan/Library/Python/3.9/lib/python/site-packages (from layoutparser[layoutmodels,tesseract]->unstructured-inference==0.7.29->unstructured[pdf]->-r /Users/michael.yuan/work/genai/financial-rag-workshop/requirements.txt (line 5)) (0.4.1)\n",
      "Requirement already satisfied: pytesseract in /Users/michael.yuan/Library/Python/3.9/lib/python/site-packages (from layoutparser[layoutmodels,tesseract]->unstructured-inference==0.7.29->unstructured[pdf]->-r /Users/michael.yuan/work/genai/financial-rag-workshop/requirements.txt (line 5)) (0.3.10)\n",
      "Requirement already satisfied: pycparser in /Users/michael.yuan/Library/Python/3.9/lib/python/site-packages (from cffi>=1.12->cryptography>=36.0.0->pdfminer.six->unstructured[pdf]->-r /Users/michael.yuan/work/genai/financial-rag-workshop/requirements.txt (line 5)) (2.21)\n",
      "Requirement already satisfied: pyasn1<0.7.0,>=0.4.6 in /Users/michael.yuan/Library/Python/3.9/lib/python/site-packages (from pyasn1-modules>=0.2.1->google-auth!=2.24.0,!=2.25.0,<3.0.0dev,>=2.14.1->google-cloud-vision->unstructured[pdf]->-r /Users/michael.yuan/work/genai/financial-rag-workshop/requirements.txt (line 5)) (0.6.0)\n",
      "Requirement already satisfied: timm>=0.9.2 in /Users/michael.yuan/Library/Python/3.9/lib/python/site-packages (from effdet->layoutparser[layoutmodels,tesseract]->unstructured-inference==0.7.29->unstructured[pdf]->-r /Users/michael.yuan/work/genai/financial-rag-workshop/requirements.txt (line 5)) (0.9.16)\n",
      "Requirement already satisfied: pycocotools>=2.0.2 in /Users/michael.yuan/Library/Python/3.9/lib/python/site-packages (from effdet->layoutparser[layoutmodels,tesseract]->unstructured-inference==0.7.29->unstructured[pdf]->-r /Users/michael.yuan/work/genai/financial-rag-workshop/requirements.txt (line 5)) (2.0.7)\n",
      "Requirement already satisfied: omegaconf>=2.0 in /Users/michael.yuan/Library/Python/3.9/lib/python/site-packages (from effdet->layoutparser[layoutmodels,tesseract]->unstructured-inference==0.7.29->unstructured[pdf]->-r /Users/michael.yuan/work/genai/financial-rag-workshop/requirements.txt (line 5)) (2.3.0)\n",
      "Requirement already satisfied: portalocker in /Users/michael.yuan/Library/Python/3.9/lib/python/site-packages (from iopath->layoutparser[layoutmodels,tesseract]->unstructured-inference==0.7.29->unstructured[pdf]->-r /Users/michael.yuan/work/genai/financial-rag-workshop/requirements.txt (line 5)) (2.8.2)\n",
      "Requirement already satisfied: pypdfium2>=4.18.0 in /Users/michael.yuan/Library/Python/3.9/lib/python/site-packages (from pdfplumber->layoutparser[layoutmodels,tesseract]->unstructured-inference==0.7.29->unstructured[pdf]->-r /Users/michael.yuan/work/genai/financial-rag-workshop/requirements.txt (line 5)) (4.28.0)\n",
      "Requirement already satisfied: mpmath>=0.19 in /Users/michael.yuan/Library/Python/3.9/lib/python/site-packages (from sympy->onnxruntime>=1.17.0->unstructured-inference==0.7.29->unstructured[pdf]->-r /Users/michael.yuan/work/genai/financial-rag-workshop/requirements.txt (line 5)) (1.3.0)\n",
      "Requirement already satisfied: antlr4-python3-runtime==4.9.* in /Users/michael.yuan/Library/Python/3.9/lib/python/site-packages (from omegaconf>=2.0->effdet->layoutparser[layoutmodels,tesseract]->unstructured-inference==0.7.29->unstructured[pdf]->-r /Users/michael.yuan/work/genai/financial-rag-workshop/requirements.txt (line 5)) (4.9.3)\n",
      "Requirement already satisfied: matplotlib>=2.1.0 in /Users/michael.yuan/Library/Python/3.9/lib/python/site-packages (from pycocotools>=2.0.2->effdet->layoutparser[layoutmodels,tesseract]->unstructured-inference==0.7.29->unstructured[pdf]->-r /Users/michael.yuan/work/genai/financial-rag-workshop/requirements.txt (line 5)) (3.7.1)\n",
      "Requirement already satisfied: contourpy>=1.0.1 in /Users/michael.yuan/Library/Python/3.9/lib/python/site-packages (from matplotlib>=2.1.0->pycocotools>=2.0.2->effdet->layoutparser[layoutmodels,tesseract]->unstructured-inference==0.7.29->unstructured[pdf]->-r /Users/michael.yuan/work/genai/financial-rag-workshop/requirements.txt (line 5)) (1.0.7)\n",
      "Requirement already satisfied: cycler>=0.10 in /Users/michael.yuan/Library/Python/3.9/lib/python/site-packages (from matplotlib>=2.1.0->pycocotools>=2.0.2->effdet->layoutparser[layoutmodels,tesseract]->unstructured-inference==0.7.29->unstructured[pdf]->-r /Users/michael.yuan/work/genai/financial-rag-workshop/requirements.txt (line 5)) (0.11.0)\n",
      "Requirement already satisfied: fonttools>=4.22.0 in /Users/michael.yuan/Library/Python/3.9/lib/python/site-packages (from matplotlib>=2.1.0->pycocotools>=2.0.2->effdet->layoutparser[layoutmodels,tesseract]->unstructured-inference==0.7.29->unstructured[pdf]->-r /Users/michael.yuan/work/genai/financial-rag-workshop/requirements.txt (line 5)) (4.39.3)\n",
      "Requirement already satisfied: kiwisolver>=1.0.1 in /Users/michael.yuan/Library/Python/3.9/lib/python/site-packages (from matplotlib>=2.1.0->pycocotools>=2.0.2->effdet->layoutparser[layoutmodels,tesseract]->unstructured-inference==0.7.29->unstructured[pdf]->-r /Users/michael.yuan/work/genai/financial-rag-workshop/requirements.txt (line 5)) (1.4.4)\n",
      "Requirement already satisfied: importlib-resources>=3.2.0 in /Users/michael.yuan/Library/Python/3.9/lib/python/site-packages (from matplotlib>=2.1.0->pycocotools>=2.0.2->effdet->layoutparser[layoutmodels,tesseract]->unstructured-inference==0.7.29->unstructured[pdf]->-r /Users/michael.yuan/work/genai/financial-rag-workshop/requirements.txt (line 5)) (5.12.0)\n"
     ]
    },
    {
     "name": "stdout",
     "output_type": "stream",
     "text": [
      "Requirement already satisfied: zipp>=3.1.0 in /Users/michael.yuan/Library/Python/3.9/lib/python/site-packages (from importlib-resources>=3.2.0->matplotlib>=2.1.0->pycocotools>=2.0.2->effdet->layoutparser[layoutmodels,tesseract]->unstructured-inference==0.7.29->unstructured[pdf]->-r /Users/michael.yuan/work/genai/financial-rag-workshop/requirements.txt (line 5)) (3.16.1)\n",
      "\n",
      "\u001b[1m[\u001b[0m\u001b[34;49mnotice\u001b[0m\u001b[1;39;49m]\u001b[0m\u001b[39;49m A new release of pip is available: \u001b[0m\u001b[31;49m23.2.1\u001b[0m\u001b[39;49m -> \u001b[0m\u001b[32;49m25.2\u001b[0m\n",
      "\u001b[1m[\u001b[0m\u001b[34;49mnotice\u001b[0m\u001b[1;39;49m]\u001b[0m\u001b[39;49m To update, run: \u001b[0m\u001b[32;49m/Library/Developer/CommandLineTools/usr/bin/python3 -m pip install --upgrade pip\u001b[0m\n",
      "Note: you may need to restart the kernel to use updated packages.\n"
     ]
    }
   ],
   "source": [
    "%pip install -r $ROOT_DIR/requirements.txt"
   ]
  },
  {
   "cell_type": "code",
   "execution_count": 3,
   "metadata": {
    "ExecuteTime": {
     "end_time": "2024-05-23T00:32:34.392860Z",
     "start_time": "2024-05-23T00:32:34.390438Z"
    },
    "id": "dyPfCO3pkB7M"
   },
   "outputs": [],
   "source": [
    "import os\n",
    "dir_path = os.getcwd()\n",
    "parent_directory = os.path.dirname(dir_path)\n",
    "# Replace values below with your own if using Redis Cloud instance\n",
    "REDIS_HOST = os.getenv(\"REDIS_HOST\", \"localhost\")\n",
    "REDIS_PORT = os.getenv(\"REDIS_PORT\", \"6379\")\n",
    "REDIS_PASSWORD = os.getenv(\"REDIS_PASSWORD\", \"\")\n",
    "\n",
    "# If SSL is enabled on the endpoint, use rediss:// as the URL prefix\n",
    "REDIS_URL = f\"redis://:{REDIS_PASSWORD}@{REDIS_HOST}:{REDIS_PORT}\""
   ]
  },
  {
   "cell_type": "markdown",
   "metadata": {},
   "source": [
    "## Hello World Redis\n",
    "\n",
    "Now let's connect to the Redis db and get a basic feel for the most common\n",
    "commands and data structures."
   ]
  },
  {
   "cell_type": "code",
   "execution_count": 4,
   "metadata": {
    "ExecuteTime": {
     "end_time": "2024-05-23T00:32:34.397597Z",
     "start_time": "2024-05-23T00:32:34.393408Z"
    }
   },
   "outputs": [
    {
     "data": {
      "text/plain": [
       "True"
      ]
     },
     "execution_count": 4,
     "metadata": {},
     "output_type": "execute_result"
    }
   ],
   "source": [
    "import redis\n",
    "import json\n",
    "import numpy as np\n",
    "\n",
    "from time import sleep\n",
    "\n",
    "# Connect with the Redis Python Client\n",
    "client = redis.Redis.from_url(REDIS_URL)\n",
    "\n",
    "client.ping()"
   ]
  },
  {
   "cell_type": "code",
   "execution_count": 5,
   "metadata": {
    "ExecuteTime": {
     "end_time": "2024-05-23T00:32:34.401041Z",
     "start_time": "2024-05-23T00:32:34.398723Z"
    }
   },
   "outputs": [
    {
     "data": {
      "text/plain": [
       "0"
      ]
     },
     "execution_count": 5,
     "metadata": {},
     "output_type": "execute_result"
    }
   ],
   "source": [
    "client.dbsize() # should be empty"
   ]
  },
  {
   "cell_type": "markdown",
   "metadata": {},
   "source": [
    "Redis, at it's core, is a simple key/value store. It supports a number of interesting\n",
    "and flexible data structures that can solve a variatey of business and operational\n",
    "problems."
   ]
  },
  {
   "cell_type": "markdown",
   "metadata": {},
   "source": [
    "### Strings\n",
    "\n",
    "The basic string data type can be accessed using set/get methods. You can also place a\n",
    "TTL policy (expiration) on any key in Redis."
   ]
  },
  {
   "cell_type": "code",
   "execution_count": 6,
   "metadata": {
    "ExecuteTime": {
     "end_time": "2024-05-23T00:32:34.403792Z",
     "start_time": "2024-05-23T00:32:34.401521Z"
    }
   },
   "outputs": [
    {
     "data": {
      "text/plain": [
       "True"
      ]
     },
     "execution_count": 6,
     "metadata": {},
     "output_type": "execute_result"
    }
   ],
   "source": [
    "client.set(\"hello\", \"world\")"
   ]
  },
  {
   "cell_type": "code",
   "execution_count": 7,
   "metadata": {
    "ExecuteTime": {
     "end_time": "2024-05-23T00:32:34.406029Z",
     "start_time": "2024-05-23T00:32:34.404232Z"
    }
   },
   "outputs": [
    {
     "data": {
      "text/plain": [
       "b'world'"
      ]
     },
     "execution_count": 7,
     "metadata": {},
     "output_type": "execute_result"
    }
   ],
   "source": [
    "client.get(\"hello\")"
   ]
  },
  {
   "cell_type": "code",
   "execution_count": 8,
   "metadata": {
    "ExecuteTime": {
     "end_time": "2024-05-23T00:32:34.408790Z",
     "start_time": "2024-05-23T00:32:34.406568Z"
    }
   },
   "outputs": [
    {
     "data": {
      "text/plain": [
       "1"
      ]
     },
     "execution_count": 8,
     "metadata": {},
     "output_type": "execute_result"
    }
   ],
   "source": [
    "client.delete(\"hello\")"
   ]
  },
  {
   "cell_type": "code",
   "execution_count": 9,
   "metadata": {
    "ExecuteTime": {
     "end_time": "2024-05-23T00:32:38.419852Z",
     "start_time": "2024-05-23T00:32:34.409200Z"
    }
   },
   "outputs": [],
   "source": [
    "client.set(\"hello\", \"world\")\n",
    "client.expire(\"hello\", time=3)\n",
    "\n",
    "sleep(4)\n",
    "\n",
    "# should be EMPTY\n",
    "client.get(\"hello\")"
   ]
  },
  {
   "cell_type": "markdown",
   "metadata": {},
   "source": [
    "### Hashes\n",
    "Hashes are collections of key/value pairs that are grouped together. It gets\n",
    "serialized as a string in Redis, but can hold a variety of data in each field.\n",
    "\n",
    "You can think of a Hash as a one-level deep Python dictionary.\n"
   ]
  },
  {
   "cell_type": "code",
   "execution_count": 10,
   "metadata": {
    "ExecuteTime": {
     "end_time": "2024-05-23T00:32:38.427086Z",
     "start_time": "2024-05-23T00:32:38.422679Z"
    }
   },
   "outputs": [],
   "source": [
    "obj = {\n",
    "    \"user\": \"john\",\n",
    "    \"age\": 45,\n",
    "    \"job\": \"dentist\",\n",
    "    \"bio\": \"long form text of john's bio\",\n",
    "    \"user_embedding\": np.array([0.3, 0.4, -0.8], dtype=np.float32).tobytes() # cast vectors to bytes string\n",
    "}"
   ]
  },
  {
   "cell_type": "code",
   "execution_count": 11,
   "metadata": {
    "ExecuteTime": {
     "end_time": "2024-05-23T00:32:38.439697Z",
     "start_time": "2024-05-23T00:32:38.433465Z"
    }
   },
   "outputs": [
    {
     "data": {
      "text/plain": [
       "5"
      ]
     },
     "execution_count": 11,
     "metadata": {},
     "output_type": "execute_result"
    }
   ],
   "source": [
    "client.hset(\"user:john\", mapping=obj)"
   ]
  },
  {
   "cell_type": "code",
   "execution_count": 12,
   "metadata": {
    "ExecuteTime": {
     "end_time": "2024-05-23T00:32:38.445184Z",
     "start_time": "2024-05-23T00:32:38.440807Z"
    }
   },
   "outputs": [
    {
     "data": {
      "text/plain": [
       "{b'user': b'john',\n",
       " b'age': b'45',\n",
       " b'job': b'dentist',\n",
       " b'bio': b\"long form text of john's bio\",\n",
       " b'user_embedding': b'\\x9a\\x99\\x99>\\xcd\\xcc\\xcc>\\xcd\\xccL\\xbf'}"
      ]
     },
     "execution_count": 12,
     "metadata": {},
     "output_type": "execute_result"
    }
   ],
   "source": [
    "client.hgetall(\"user:john\")"
   ]
  },
  {
   "cell_type": "code",
   "execution_count": 13,
   "metadata": {
    "ExecuteTime": {
     "end_time": "2024-05-23T00:32:38.449074Z",
     "start_time": "2024-05-23T00:32:38.446031Z"
    }
   },
   "outputs": [
    {
     "data": {
      "text/plain": [
       "1"
      ]
     },
     "execution_count": 13,
     "metadata": {},
     "output_type": "execute_result"
    }
   ],
   "source": [
    "client.delete(\"user:john\")"
   ]
  },
  {
   "cell_type": "markdown",
   "metadata": {},
   "source": [
    "### JSON\n",
    "With the JSON capabilitie enabled, Redis can be a drop-in replacement for MongoDB\n",
    "or other slower document databases. You can store nested and structured JSON data\n",
    "directly in Redis."
   ]
  },
  {
   "cell_type": "code",
   "execution_count": 14,
   "metadata": {
    "ExecuteTime": {
     "end_time": "2024-05-23T00:32:38.453067Z",
     "start_time": "2024-05-23T00:32:38.449681Z"
    }
   },
   "outputs": [
    {
     "data": {
      "text/plain": [
       "True"
      ]
     },
     "execution_count": 14,
     "metadata": {},
     "output_type": "execute_result"
    }
   ],
   "source": [
    "# set a JSON obj\n",
    "obj = {\n",
    "    \"user\": \"john\",\n",
    "    \"metadata\": {\n",
    "        \"age\": 45,\n",
    "        \"job\": \"dentist\",\n",
    "    },\n",
    "    \"user_embedding\": [0.3, 0.4, -0.8]\n",
    "}\n",
    "\n",
    "client.json().set(\"user:john\", \"$\", obj)"
   ]
  },
  {
   "cell_type": "code",
   "execution_count": 15,
   "metadata": {
    "ExecuteTime": {
     "end_time": "2024-05-23T00:32:38.456072Z",
     "start_time": "2024-05-23T00:32:38.453634Z"
    }
   },
   "outputs": [
    {
     "data": {
      "text/plain": [
       "{'user': 'john',\n",
       " 'metadata': {'age': 45, 'job': 'dentist'},\n",
       " 'user_embedding': [0.3, 0.4, -0.8]}"
      ]
     },
     "execution_count": 15,
     "metadata": {},
     "output_type": "execute_result"
    }
   ],
   "source": [
    "# get user JSON obj\n",
    "client.json().get(\"user:john\")"
   ]
  },
  {
   "cell_type": "code",
   "execution_count": 16,
   "metadata": {
    "ExecuteTime": {
     "end_time": "2024-05-23T00:32:38.459178Z",
     "start_time": "2024-05-23T00:32:38.456717Z"
    }
   },
   "outputs": [
    {
     "data": {
      "text/plain": [
       "[3]"
      ]
     },
     "execution_count": 16,
     "metadata": {},
     "output_type": "execute_result"
    }
   ],
   "source": [
    "# grab array length for embedding field\n",
    "client.json().arrlen(\"user:john\", \"$.user_embedding\")"
   ]
  },
  {
   "cell_type": "code",
   "execution_count": 17,
   "metadata": {
    "ExecuteTime": {
     "end_time": "2024-05-23T00:32:38.462185Z",
     "start_time": "2024-05-23T00:32:38.459782Z"
    }
   },
   "outputs": [
    {
     "data": {
      "text/plain": [
       "[[b'user', b'metadata', b'user_embedding']]"
      ]
     },
     "execution_count": 17,
     "metadata": {},
     "output_type": "execute_result"
    }
   ],
   "source": [
    "# grab obj keys\n",
    "client.json().objkeys(\"user:john\", \"$\")"
   ]
  },
  {
   "cell_type": "code",
   "execution_count": 18,
   "metadata": {
    "ExecuteTime": {
     "end_time": "2024-05-23T00:32:38.464556Z",
     "start_time": "2024-05-23T00:32:38.462653Z"
    }
   },
   "outputs": [
    {
     "data": {
      "text/plain": [
       "1"
      ]
     },
     "execution_count": 18,
     "metadata": {},
     "output_type": "execute_result"
    }
   ],
   "source": [
    "# delete user JSON\n",
    "client.delete(\"user:john\")"
   ]
  },
  {
   "cell_type": "markdown",
   "metadata": {},
   "source": [
    "### Lists\n",
    "Lists store sequences of information... potentially list of messages in an LLM\n",
    "converstion flow, or really any list of items in a queue."
   ]
  },
  {
   "cell_type": "code",
   "execution_count": 19,
   "metadata": {
    "ExecuteTime": {
     "end_time": "2024-05-23T00:32:38.467789Z",
     "start_time": "2024-05-23T00:32:38.465078Z"
    }
   },
   "outputs": [
    {
     "data": {
      "text/plain": [
       "2"
      ]
     },
     "execution_count": 19,
     "metadata": {},
     "output_type": "execute_result"
    }
   ],
   "source": [
    "# add items to a list\n",
    "client.rpush(\"messages:john\", *[\n",
    "    json.dumps({\"role\": \"user\", \"content\": \"Hello what can you do for me?\"}),\n",
    "    json.dumps({\"role\": \"assistant\", \"content\": \"Hi, I am a helpful virtual assistant.\"})\n",
    "])"
   ]
  },
  {
   "cell_type": "code",
   "execution_count": 20,
   "metadata": {
    "ExecuteTime": {
     "end_time": "2024-05-23T00:32:38.470719Z",
     "start_time": "2024-05-23T00:32:38.468331Z"
    }
   },
   "outputs": [
    {
     "data": {
      "text/plain": [
       "[{'role': 'user', 'content': 'Hello what can you do for me?'},\n",
       " {'role': 'assistant', 'content': 'Hi, I am a helpful virtual assistant.'}]"
      ]
     },
     "execution_count": 20,
     "metadata": {},
     "output_type": "execute_result"
    }
   ],
   "source": [
    "# list all items in the list using indices\n",
    "[json.loads(msg) for msg in client.lrange(\"messages:john\", 0, -1)]"
   ]
  },
  {
   "cell_type": "code",
   "execution_count": 21,
   "metadata": {
    "ExecuteTime": {
     "end_time": "2024-05-23T00:32:38.473248Z",
     "start_time": "2024-05-23T00:32:38.471226Z"
    }
   },
   "outputs": [
    {
     "data": {
      "text/plain": [
       "2"
      ]
     },
     "execution_count": 21,
     "metadata": {},
     "output_type": "execute_result"
    }
   ],
   "source": [
    "# count items in the list\n",
    "client.llen(\"messages:john\")"
   ]
  },
  {
   "cell_type": "code",
   "execution_count": 22,
   "metadata": {
    "ExecuteTime": {
     "end_time": "2024-05-23T00:32:38.475728Z",
     "start_time": "2024-05-23T00:32:38.473665Z"
    }
   },
   "outputs": [
    {
     "data": {
      "text/plain": [
       "b'{\"role\": \"assistant\", \"content\": \"Hi, I am a helpful virtual assistant.\"}'"
      ]
     },
     "execution_count": 22,
     "metadata": {},
     "output_type": "execute_result"
    }
   ],
   "source": [
    "# pop the first item from the list and push to another list\n",
    "client.rpoplpush(\"messages:john\", \"read_messages:john\")"
   ]
  },
  {
   "cell_type": "code",
   "execution_count": 23,
   "metadata": {
    "ExecuteTime": {
     "end_time": "2024-05-23T00:32:38.478009Z",
     "start_time": "2024-05-23T00:32:38.476148Z"
    }
   },
   "outputs": [
    {
     "data": {
      "text/plain": [
       "[b'{\"role\": \"assistant\", \"content\": \"Hi, I am a helpful virtual assistant.\"}']"
      ]
     },
     "execution_count": 23,
     "metadata": {},
     "output_type": "execute_result"
    }
   ],
   "source": [
    "client.lrange(\"read_messages:john\", 0, -1)"
   ]
  },
  {
   "cell_type": "code",
   "execution_count": 24,
   "metadata": {
    "ExecuteTime": {
     "end_time": "2024-05-23T00:32:38.480423Z",
     "start_time": "2024-05-23T00:32:38.478486Z"
    }
   },
   "outputs": [
    {
     "data": {
      "text/plain": [
       "2"
      ]
     },
     "execution_count": 24,
     "metadata": {},
     "output_type": "execute_result"
    }
   ],
   "source": [
    "# list cleanup\n",
    "client.delete(\"messages:john\", \"read_messages:john\")"
   ]
  },
  {
   "cell_type": "markdown",
   "metadata": {},
   "source": [
    "### Pipelines\n",
    "All Redis commands can be pipelined to gain some round trip latency improvements."
   ]
  },
  {
   "cell_type": "code",
   "execution_count": 25,
   "metadata": {
    "ExecuteTime": {
     "end_time": "2024-05-23T00:32:38.483944Z",
     "start_time": "2024-05-23T00:32:38.480832Z"
    }
   },
   "outputs": [],
   "source": [
    "with client.pipeline(transaction=False) as pipe:\n",
    "    for i in range(50):\n",
    "        pipe.json().set(f\"user:{i}\", \"$\", obj)\n",
    "    # execute batch\n",
    "    pipe.execute()"
   ]
  },
  {
   "cell_type": "code",
   "execution_count": 26,
   "metadata": {
    "ExecuteTime": {
     "end_time": "2024-05-23T00:32:38.486937Z",
     "start_time": "2024-05-23T00:32:38.484577Z"
    }
   },
   "outputs": [
    {
     "data": {
      "text/plain": [
       "50"
      ]
     },
     "execution_count": 26,
     "metadata": {},
     "output_type": "execute_result"
    }
   ],
   "source": [
    "client.dbsize()"
   ]
  },
  {
   "cell_type": "code",
   "execution_count": 27,
   "metadata": {
    "ExecuteTime": {
     "end_time": "2024-05-23T00:32:38.496421Z",
     "start_time": "2024-05-23T00:32:38.487405Z"
    }
   },
   "outputs": [
    {
     "data": {
      "text/plain": [
       "True"
      ]
     },
     "execution_count": 27,
     "metadata": {},
     "output_type": "execute_result"
    }
   ],
   "source": [
    "# clean up!\n",
    "client.flushall()"
   ]
  },
  {
   "cell_type": "markdown",
   "metadata": {},
   "source": [
    "## Intro to Vector Search in Redis\n",
    "\n",
    "Now that we have the basics down, we will dive into the fundamentals of vector\n",
    "search in Redis using the base Python client."
   ]
  },
  {
   "cell_type": "markdown",
   "metadata": {
    "id": "XVMewycguPps"
   },
   "source": [
    "### Dataset Preparation (PDF Documents)\n",
    "\n",
    "To best demonstrate Redis as a vector database layer, we will load a single\n",
    "financial (10k filings) doc and preprocess it using some helpers from LangChain:\n",
    "\n",
    "- `UnstructuredFileLoader` is not the only document loader type that LangChain provides. Docs: https://python.langchain.com/docs/integrations/document_loaders/unstructured_file\n",
    "- `RecursiveCharacterTextSplitter` is what we use to create smaller chunks of text from the doc. Docs: https://python.langchain.com/docs/modules/data_connection/document_transformers/text_splitters/recursive_text_splitter\n"
   ]
  },
  {
   "cell_type": "code",
   "execution_count": 28,
   "metadata": {
    "ExecuteTime": {
     "end_time": "2024-05-23T00:32:38.499561Z",
     "start_time": "2024-05-23T00:32:38.497145Z"
    },
    "colab": {
     "base_uri": "https://localhost:8080/"
    },
    "id": "8MetibQiuPpt",
    "outputId": "191df44e-074b-4482-84fc-ceabc0d98f52"
   },
   "outputs": [
    {
     "name": "stdout",
     "output_type": "stream",
     "text": [
      "Listing available documents ... ['/Users/michael.yuan/work/genai/financial-rag-workshop/resources/10K/nke-10k-2023.pdf']\n"
     ]
    }
   ],
   "source": [
    "from langchain.text_splitter import RecursiveCharacterTextSplitter\n",
    "from langchain.document_loaders import UnstructuredFileLoader\n",
    "\n",
    "# Load list of pdfs from a folder\n",
    "data_path = f\"{parent_directory}/resources/10K\"\n",
    "docs = [os.path.join(data_path, file) for file in os.listdir(data_path)]\n",
    "\n",
    "print(\"Listing available documents ...\", docs)"
   ]
  },
  {
   "cell_type": "code",
   "execution_count": 29,
   "metadata": {
    "ExecuteTime": {
     "end_time": "2024-05-23T00:32:47.043683Z",
     "start_time": "2024-05-23T00:32:38.502631Z"
    }
   },
   "outputs": [
    {
     "name": "stdout",
     "output_type": "stream",
     "text": [
      "Done preprocessing. Created 180 chunks of the original pdf /Users/michael.yuan/work/genai/financial-rag-workshop/resources/10K/nke-10k-2023.pdf\n"
     ]
    }
   ],
   "source": [
    "# fetch the Nike PDF\n",
    "doc = [doc for doc in docs if \"nke\" in doc][0]\n",
    "\n",
    "# set up the file loader/extractor and text splitter to create chunks\n",
    "loader = UnstructuredFileLoader(doc, mode=\"single\", strategy=\"fast\")\n",
    "text_splitter = RecursiveCharacterTextSplitter(chunk_size=2500, chunk_overlap=0)\n",
    "\n",
    "# extract, load, and make chunks\n",
    "chunks = loader.load_and_split(text_splitter)\n",
    "\n",
    "print(\"Done preprocessing. Created\", len(chunks), \"chunks of the original pdf\", doc)"
   ]
  },
  {
   "cell_type": "code",
   "execution_count": 30,
   "metadata": {
    "ExecuteTime": {
     "end_time": "2024-05-23T00:32:47.045555Z",
     "start_time": "2024-05-23T00:32:47.044220Z"
    },
    "colab": {
     "base_uri": "https://localhost:8080/"
    },
    "id": "CHBpJGlruPpu",
    "outputId": "5f159641-856b-4d4f-87d7-ee3b0f17fb84"
   },
   "outputs": [
    {
     "name": "stdout",
     "output_type": "stream",
     "text": [
      "NIKE is a consumer products company and the relative popularity of various sports and fitness activities and changing design trends affect the demand for our products, services and experiences. The athletic footwear, apparel and equipment industry is highly competitive both in the United States and worldwide. We compete internationally with a significant number of athletic and leisure footwear companies, athletic and leisure apparel companies, sports equipment companies, private labels and large companies that have diversified lines of athletic and leisure footwear, apparel and equipment. We also compete with other companies for the production capacity of contract manufacturers that produce our products. In addition, we and our contract manufacturers compete with other companies and industries for raw materials used in our products. Our NIKE Direct operations, both through our digital commerce operations and retail stores, also compete with multi-brand retailers, which sell our products through their digital platforms and physical stores, and with digital commerce platforms. In addition, we compete with respect to the digital services and experiences we are able to offer our consumers, including fitness and activity apps; sport, fitness and wellness content and services; and digital services and features in retail stores that enhance the consumer experience.\n",
      "\n",
      "Product offerings, technologies, marketing expenditures (including expenditures for advertising and endorsements), pricing, costs of production, customer service, digital commerce platforms, digital services and experiences and social media presence are areas of intense competition. These, in addition to ongoing rapid changes in technology, a reduction in barriers to the creation of new footwear and apparel companies and consumer preferences in the markets for athletic and leisure footwear, apparel, and equipment, services and experiences, constitute significant risk factors in our operations. In addition, the competitive nature of retail, including shifts in the ways in which consumers shop, and the continued proliferation of digital commerce, constitutes a risk factor implicating our NIKE Direct and wholesale operations. If we do not adequately and timely anticipate and respond to our competitors, our costs may increase, demand for our products may decline, possibly significantly, or we may need to reduce wholesale or suggested retail prices for our products.\n",
      "\n",
      "2023 FORM 10-K 10\n",
      "\n",
      "Table of Contents\n"
     ]
    }
   ],
   "source": [
    "# Take a look at content from a chunk\n",
    "print(chunks[25].page_content)"
   ]
  },
  {
   "cell_type": "markdown",
   "metadata": {
    "id": "W8X2VgYUuPpv"
   },
   "source": [
    "### Text embedding generation with SentenceTransformers"
   ]
  },
  {
   "cell_type": "markdown",
   "metadata": {},
   "source": [
    "#### SentenceTransformer Models Cache folder\n",
    "We are using `SentenceTransformer` in this demo and here we specify the cache folder. If you already downloaded the models in a local file system, set this folder here, otherwise the library tries to download the models in this folder if not available locally.\n",
    "\n",
    "In particular, these models will be downloaded if not present in the cache folder:\n",
    "\n",
    "models/models--sentence-transformers--all-MiniLM-L6-v2\n"
   ]
  },
  {
   "cell_type": "code",
   "execution_count": 31,
   "metadata": {
    "ExecuteTime": {
     "end_time": "2024-05-23T00:32:47.047292Z",
     "start_time": "2024-05-23T00:32:47.046080Z"
    }
   },
   "outputs": [],
   "source": [
    "#setting the local downloaded sentence transformer models f\n",
    "os.environ[\"TRANSFORMERS_CACHE\"] = f\"{parent_directory}/models\""
   ]
  },
  {
   "cell_type": "code",
   "execution_count": 32,
   "metadata": {
    "ExecuteTime": {
     "end_time": "2024-05-23T00:32:59.211792Z",
     "start_time": "2024-05-23T00:32:47.047752Z"
    },
    "colab": {
     "base_uri": "https://localhost:8080/",
     "height": 465,
     "referenced_widgets": [
      "d92b0de158f94030b6c9156b8f12cc6c",
      "3ca3c6a4716d4096b6913c5ac5c15500",
      "bb75843d0f6840dc90513ebc6857da6e",
      "249e853a0b05429491c2d3147d3667e0",
      "50077d692b3c463fa2922e07832f2229",
      "63f94704cfcf4662839aa460b42e9c0a",
      "707cd800f65a4e43a9969f6ac4322629",
      "6429283e79f34a5fbce86dc173424615",
      "4e98fb057e8d40f7b3a2cdb34c7e8ae7",
      "5cfa9c97f882461a8c7dd2bb267639c0",
      "ffcc3e9520a04ff3b656c9a1c570b857",
      "d24c7bce8290487094150146b518ad87",
      "417c738d291e484db654ffbff81d230e",
      "c3e9746ac3ad43b683813a09bb11a400",
      "f283f45e6dd244738e67cd573e46c500",
      "50d9a22918c8458ead7e4bcbd4bb0e14",
      "58b8500439ff4d9fa34c6b6d7f64e7f0",
      "d1bc2447ef6141719ead7a8b572e93a6",
      "829c6a0adb514d47b6e20dfddbd84f28",
      "5c5c93b19d1841c28624fc6906e8aec2",
      "1908379cd85c43eb85e8a919c81dcb27",
      "1392e6f30c4847429b5e0a88a2a89712",
      "0c98c0118de5446bad5416179a029591",
      "70a03a03e501462089b2229944cab6e4",
      "92033f24500a4534bf9aa0db1b66afd2",
      "f411421ea73647a6b71242128ae4314d",
      "2d905e45162448c3b08c8b18359db4e1",
      "b3e2d9559f9a4425af9a3e654a15a45c",
      "af8fb1374f674db0acd1848426651457",
      "f610967e35834f8aa163f9b858ad100d",
      "e36d84f0201e4b13966902c7816276ec",
      "e5ae0decccca4e72bd565df0e6bdd75a",
      "2f65048f27ee4fc5bc932eb9c4eedb19",
      "e778621a3492447bac297fa98b9ae8b2",
      "7bf512fb78554f1fa31d2390d481cffe",
      "e5cd47efc6e84d2ab694ba8fb9dbad10",
      "23b59a446f6a48239ada51ec328ef829",
      "4758ae87506a4d20b6e970ab0183a568",
      "b0e7149f5d634fe798c026ead2024c9d",
      "803c0dd4496541d58887c6881478d736",
      "fe39155c447d4911be8e525d2b816449",
      "b56688ab060448e98799919ab645c3b2",
      "2e4f2048a01a411d8c4fd685c1132cb5",
      "f73152264e3e4a488de0ed086d09389f",
      "31dbb4b8dc3c4029a52ce8f60f5d786e",
      "92945b3344354095ae42da4107e0ca85",
      "72a087953d41453598ada25ea308d758",
      "aedf119b99944d4bb3c1cb146396c068",
      "409427b1277147d3a7bfb63b83776bb9",
      "71519aa859b84f6d9905dd587b329cc1",
      "1e8e79d2c3514055afe3dca4eeffb196",
      "847b3bc8c13642e899fc20aaf92cce17",
      "0905de0daac840b888fbea85f5a53424",
      "8917cc859c2a403c9340f30c85ae92d8",
      "d4d97043d2e64de582a6c1005a7c5461",
      "4792d0d390004e099baf04421c8991ff",
      "a727471800a84574aa11066d3a668bbd",
      "7f82dfde4b6742daaa698fb92947962d",
      "941ef72b4dfa45e5b62518c50f5c1b41",
      "a6f68aaebec44588b13d84535a3a21b2",
      "bf2566d86a8446118eba25b73f1e0e6c",
      "f3a7f25383564258b7026f770db41889",
      "6ccdac3c8f074cef88abd0e422fca83d",
      "9df5561964194fa1b5d23dc0534e486f",
      "ff4953b5869c4b538fe009c212c51905",
      "7dd4d505670048be8316419ef146a35a",
      "f5bf93a1ef854aecac757f852d7c12f4",
      "8e0a1196dd1b43a481f37f3aafb0dcdc",
      "4860d0495030446c8781cf8e735a92f3",
      "0ea6b24eab7c438badf5e7cc8930fc4d",
      "bec3dac114434db08e0cbe0a11b73738",
      "605c7298ca2d43798d651ab58bcaf760",
      "0c2b0dba9da14550883ee45ef314a475",
      "804bad2b87c043d3888948dec90d48b8",
      "c362b07fa96148e79ba31da66bea32d2",
      "f411cceeafc4456bab39da08262bf250",
      "799d273eb7c94d90948596c9e6435d47",
      "9ac987b105a547649f5c18383b45e033",
      "11c97ec49ef1411791a8a2d044e85deb",
      "7b27a4f09d8f458cae81163a98d3db0b",
      "9aa8da964e4147ebb6003bbe8d42288d",
      "cdd620a175eb4b44b04510e8002bcdd0",
      "4fc19dba35b04216bf99f14148161c9b",
      "a23a1591fb30487ea049e16c2008a1a2",
      "cfc987412c034e80a0e75d2ddc44c66f",
      "bb8258cf34154aec906ac6d7d674f8a5",
      "9db5b30c2c4240cd899f53008b075165",
      "99bd49982e4c47ada8b58a5964de166e",
      "9576acc791bc423f90f46e778aebeae5",
      "c5ad2f6f319f4c8ca3157a12d3fdab55",
      "0b30591dac104e61b84e0ed989015c20",
      "c4937d854e8443ce98fbb67e98e8823c",
      "a516a26232be4d189388bda9deea5913",
      "3bbfe30620674561a9c11d3a0237c78a",
      "ee9c7709465b47d896b44a58621b3c11",
      "7cb17e544d8e4a1a82d25999a12303fe",
      "42b6cafdab5a40608bf1a826b069238a",
      "347a421a7b7b4458b6daf99f624f740c",
      "a4f01ac0a49640c6a94b4e6727c180be",
      "368d4b4baa784ccc995b398e8fb86d47",
      "e2e3fecad67b43d8a999d8e0b9d6af6a",
      "910947a07b1142f989be614e663cd4d1",
      "b42a1a2ff4d647088a74e4323b2bce6d",
      "002b4d0804e94c45bb022d0b62cc7115",
      "88a0d0aee31c4c9ea08cc07faf580fb9",
      "09f3adba65fe44fab16fe53eda6ffad1",
      "c04f9160ec0c4a21b54dad2f0675adbe",
      "ea28d1c947f84a9cac89190b7d2af401",
      "dd8e39dfff9c40328391a0bdf16fe2dc",
      "2ee00a6c54674af296ac554e3d7beaf7",
      "ad2e309cdc4d4af1920ea645528ce914",
      "e29cf73eac724dd0b1490662040f93c4",
      "5cf9cce671654d828a5cb15297e4dc77",
      "1ff3e1f9eb344118a4588feaa8171734",
      "9e9bc5bec01e44d9be7070f2942eaa09",
      "3640f29317474438a728b6f8beaff4a6",
      "17ec418a815c4fc8b52acb1e86b32990",
      "483526c227044456a80d27400714bd4c",
      "efc5fe5a030f4f8d966ea9cbdb255497",
      "a956abc114b44dbf9a348ce881a73315",
      "193d12bc2d53460e818d150116015a22",
      "25109429cf0449e08ac53e9e4e2b334b",
      "d30345e01c40452eaefa5977baac9202",
      "ac8a7a2ec5ac4763bd1c701fd5c01351",
      "962288b7e4ba4d83977a49dff22f4fe7",
      "b2e5f218d4f24356b670dd5a660315f4",
      "aed506f8091049df82d2b4a2d7f45372",
      "be6d7de5c7e440cead1ae5f54d38dc55",
      "78cb60cd425040369d61f5d96d32da8e",
      "d92d39e85cb6452d965221cedf0b6571",
      "2cea07322293454db6ef622cca36a339",
      "e4a99a6df6984fe088ed74b2f83e390d",
      "c78868d8e7594c9eb91ed3b703ac8a85",
      "def9a840c1de4667a889133941a58ca9",
      "d101d1ce87ab4ebf85ac055dc003c836",
      "f78fbc1390024ed3aba9fc2c5849cdbf",
      "29fb964e708a4f168c3b871fa3630448",
      "705d0311fbf44605abdd55e68f33fdb0",
      "898fd091cbea4af0a483d6020840ef4b",
      "adf3eba20c4f483a82150f0438bf8e19",
      "0ecd8059efdb462fa9a5589013b389c2",
      "83da3627c45f4a828dc410f2850ca1e5",
      "508018ecc7b645fe931e5ba634f50cc7",
      "91a9488f85ec470a9b60fc851a535196",
      "e3fd696a0a3649f9847fb60c4316f078",
      "f8e5eb701ca74528a87cfb3ed68ff068",
      "833d08d4182d45f78ab83f88cac6cad8",
      "2285c1f10ba249cdb642cf80b2bad70c",
      "190f9c85da4545d0bfb044f10c6909a7",
      "f5a6df5771af4312a4b462ffada36e54",
      "1773989923ce4c59bd0069bc9a21ecf5",
      "04fb2906d0884dcb9d75912556313ffa",
      "2742a2516d1d4fb8ace292cd1481e4c3",
      "95e3a1b5872247b98f922e1e57736bfb"
     ]
    },
    "id": "LnNBNI4-PA3Y",
    "outputId": "32581b2a-93c7-4191-f8a2-ad1efc83b81b"
   },
   "outputs": [
    {
     "data": {
      "application/vnd.jupyter.widget-view+json": {
       "model_id": "67256a7f452c442cba2bfb49889a576f",
       "version_major": 2,
       "version_minor": 0
      },
      "text/plain": [
       ".gitattributes: 0.00B [00:00, ?B/s]"
      ]
     },
     "metadata": {},
     "output_type": "display_data"
    },
    {
     "data": {
      "application/vnd.jupyter.widget-view+json": {
       "model_id": "3bbc0c2e8a9143b9ab426daabc6b3f29",
       "version_major": 2,
       "version_minor": 0
      },
      "text/plain": [
       "config.json:   0%|          | 0.00/190 [00:00<?, ?B/s]"
      ]
     },
     "metadata": {},
     "output_type": "display_data"
    },
    {
     "data": {
      "application/vnd.jupyter.widget-view+json": {
       "model_id": "3c08523f5df74453a97543c142f9c3c2",
       "version_major": 2,
       "version_minor": 0
      },
      "text/plain": [
       "README.md: 0.00B [00:00, ?B/s]"
      ]
     },
     "metadata": {},
     "output_type": "display_data"
    },
    {
     "data": {
      "application/vnd.jupyter.widget-view+json": {
       "model_id": "9b4ea87e11e24bd38bae7fed3296e2ba",
       "version_major": 2,
       "version_minor": 0
      },
      "text/plain": [
       "config.json:   0%|          | 0.00/612 [00:00<?, ?B/s]"
      ]
     },
     "metadata": {},
     "output_type": "display_data"
    },
    {
     "data": {
      "application/vnd.jupyter.widget-view+json": {
       "model_id": "3c32e101443540b2b1d3a8c523216511",
       "version_major": 2,
       "version_minor": 0
      },
      "text/plain": [
       "config_sentence_transformers.json:   0%|          | 0.00/116 [00:00<?, ?B/s]"
      ]
     },
     "metadata": {},
     "output_type": "display_data"
    },
    {
     "data": {
      "application/vnd.jupyter.widget-view+json": {
       "model_id": "2cc0dd68654c49dc822409c23db2e3f0",
       "version_major": 2,
       "version_minor": 0
      },
      "text/plain": [
       "data_config.json: 0.00B [00:00, ?B/s]"
      ]
     },
     "metadata": {},
     "output_type": "display_data"
    },
    {
     "data": {
      "application/vnd.jupyter.widget-view+json": {
       "model_id": "624cb66ca39d49abb74eb379728f8b8d",
       "version_major": 2,
       "version_minor": 0
      },
      "text/plain": [
       "model.safetensors:   0%|          | 0.00/90.9M [00:00<?, ?B/s]"
      ]
     },
     "metadata": {},
     "output_type": "display_data"
    },
    {
     "data": {
      "application/vnd.jupyter.widget-view+json": {
       "model_id": "873b81f9a93d445d9b8f518407b20949",
       "version_major": 2,
       "version_minor": 0
      },
      "text/plain": [
       "model.onnx:   0%|          | 0.00/90.4M [00:00<?, ?B/s]"
      ]
     },
     "metadata": {},
     "output_type": "display_data"
    },
    {
     "data": {
      "application/vnd.jupyter.widget-view+json": {
       "model_id": "5079848614944f848c721d96efbb57fa",
       "version_major": 2,
       "version_minor": 0
      },
      "text/plain": [
       "model_O1.onnx:   0%|          | 0.00/90.4M [00:00<?, ?B/s]"
      ]
     },
     "metadata": {},
     "output_type": "display_data"
    },
    {
     "data": {
      "application/vnd.jupyter.widget-view+json": {
       "model_id": "1d9f9c44ac3d47e7902fe95888dc0c14",
       "version_major": 2,
       "version_minor": 0
      },
      "text/plain": [
       "model_O2.onnx:   0%|          | 0.00/90.3M [00:00<?, ?B/s]"
      ]
     },
     "metadata": {},
     "output_type": "display_data"
    },
    {
     "data": {
      "application/vnd.jupyter.widget-view+json": {
       "model_id": "23866735c3f644ce989d37c8f07e1a2e",
       "version_major": 2,
       "version_minor": 0
      },
      "text/plain": [
       "model_O3.onnx:   0%|          | 0.00/90.3M [00:00<?, ?B/s]"
      ]
     },
     "metadata": {},
     "output_type": "display_data"
    },
    {
     "data": {
      "application/vnd.jupyter.widget-view+json": {
       "model_id": "9f78db72d5ff4dfc923dbe5bbf927a15",
       "version_major": 2,
       "version_minor": 0
      },
      "text/plain": [
       "model_O4.onnx:   0%|          | 0.00/45.2M [00:00<?, ?B/s]"
      ]
     },
     "metadata": {},
     "output_type": "display_data"
    },
    {
     "data": {
      "application/vnd.jupyter.widget-view+json": {
       "model_id": "f485ad05e2484c3b8c838dde8d045651",
       "version_major": 2,
       "version_minor": 0
      },
      "text/plain": [
       "model_qint8_arm64.onnx:   0%|          | 0.00/23.0M [00:00<?, ?B/s]"
      ]
     },
     "metadata": {},
     "output_type": "display_data"
    },
    {
     "data": {
      "application/vnd.jupyter.widget-view+json": {
       "model_id": "dfa3065fd91a4324a42d0c20566605df",
       "version_major": 2,
       "version_minor": 0
      },
      "text/plain": [
       "model_qint8_avx512.onnx:   0%|          | 0.00/23.0M [00:00<?, ?B/s]"
      ]
     },
     "metadata": {},
     "output_type": "display_data"
    },
    {
     "data": {
      "application/vnd.jupyter.widget-view+json": {
       "model_id": "56cc41992c3745a9a07af6ce92c1e7f5",
       "version_major": 2,
       "version_minor": 0
      },
      "text/plain": [
       "model_qint8_avx512_vnni.onnx:   0%|          | 0.00/23.0M [00:00<?, ?B/s]"
      ]
     },
     "metadata": {},
     "output_type": "display_data"
    },
    {
     "data": {
      "application/vnd.jupyter.widget-view+json": {
       "model_id": "1742df7630d648739ae800d97a18d55a",
       "version_major": 2,
       "version_minor": 0
      },
      "text/plain": [
       "model_quint8_avx2.onnx:   0%|          | 0.00/23.0M [00:00<?, ?B/s]"
      ]
     },
     "metadata": {},
     "output_type": "display_data"
    },
    {
     "data": {
      "application/vnd.jupyter.widget-view+json": {
       "model_id": "443f124e863c40efab568d7377128714",
       "version_major": 2,
       "version_minor": 0
      },
      "text/plain": [
       "openvino_model.bin:   0%|          | 0.00/90.3M [00:00<?, ?B/s]"
      ]
     },
     "metadata": {},
     "output_type": "display_data"
    },
    {
     "data": {
      "application/vnd.jupyter.widget-view+json": {
       "model_id": "52a152bf13664270b990dc8247b57991",
       "version_major": 2,
       "version_minor": 0
      },
      "text/plain": [
       "openvino_model.xml: 0.00B [00:00, ?B/s]"
      ]
     },
     "metadata": {},
     "output_type": "display_data"
    },
    {
     "data": {
      "application/vnd.jupyter.widget-view+json": {
       "model_id": "c911e28b05b44b278936ea8a48edb10f",
       "version_major": 2,
       "version_minor": 0
      },
      "text/plain": [
       "openvino_model_qint8_quantized.bin:   0%|          | 0.00/22.9M [00:00<?, ?B/s]"
      ]
     },
     "metadata": {},
     "output_type": "display_data"
    },
    {
     "data": {
      "application/vnd.jupyter.widget-view+json": {
       "model_id": "e21e07700d974717b5117cd1503109e2",
       "version_major": 2,
       "version_minor": 0
      },
      "text/plain": [
       "openvino_model_qint8_quantized.xml: 0.00B [00:00, ?B/s]"
      ]
     },
     "metadata": {},
     "output_type": "display_data"
    },
    {
     "data": {
      "application/vnd.jupyter.widget-view+json": {
       "model_id": "bab111cb6c7d471285d0a8783fc5af96",
       "version_major": 2,
       "version_minor": 0
      },
      "text/plain": [
       "pytorch_model.bin:   0%|          | 0.00/90.9M [00:00<?, ?B/s]"
      ]
     },
     "metadata": {},
     "output_type": "display_data"
    },
    {
     "data": {
      "application/vnd.jupyter.widget-view+json": {
       "model_id": "138cc03f3ddf4d4c921a0ceeb29cfe5e",
       "version_major": 2,
       "version_minor": 0
      },
      "text/plain": [
       "sentence_bert_config.json:   0%|          | 0.00/53.0 [00:00<?, ?B/s]"
      ]
     },
     "metadata": {},
     "output_type": "display_data"
    },
    {
     "data": {
      "application/vnd.jupyter.widget-view+json": {
       "model_id": "8f7031b84c0d4f7491a5b8bae1aba532",
       "version_major": 2,
       "version_minor": 0
      },
      "text/plain": [
       "special_tokens_map.json:   0%|          | 0.00/112 [00:00<?, ?B/s]"
      ]
     },
     "metadata": {},
     "output_type": "display_data"
    },
    {
     "data": {
      "application/vnd.jupyter.widget-view+json": {
       "model_id": "fa358f20b26442c9a5f3c986d9aaf4b7",
       "version_major": 2,
       "version_minor": 0
      },
      "text/plain": [
       "tokenizer.json: 0.00B [00:00, ?B/s]"
      ]
     },
     "metadata": {},
     "output_type": "display_data"
    },
    {
     "data": {
      "application/vnd.jupyter.widget-view+json": {
       "model_id": "99a035b5b8c74d80b153d0d4d3eeb25b",
       "version_major": 2,
       "version_minor": 0
      },
      "text/plain": [
       "tokenizer_config.json:   0%|          | 0.00/350 [00:00<?, ?B/s]"
      ]
     },
     "metadata": {},
     "output_type": "display_data"
    },
    {
     "data": {
      "application/vnd.jupyter.widget-view+json": {
       "model_id": "8548215393ba4a14a9066cf76a62aff8",
       "version_major": 2,
       "version_minor": 0
      },
      "text/plain": [
       "train_script.py: 0.00B [00:00, ?B/s]"
      ]
     },
     "metadata": {},
     "output_type": "display_data"
    },
    {
     "data": {
      "application/vnd.jupyter.widget-view+json": {
       "model_id": "058eb0792bb54c9d955899e4c9e0896e",
       "version_major": 2,
       "version_minor": 0
      },
      "text/plain": [
       "vocab.txt: 0.00B [00:00, ?B/s]"
      ]
     },
     "metadata": {},
     "output_type": "display_data"
    },
    {
     "data": {
      "application/vnd.jupyter.widget-view+json": {
       "model_id": "be0bb168a7ab4bd19790893c538dd402",
       "version_major": 2,
       "version_minor": 0
      },
      "text/plain": [
       "modules.json:   0%|          | 0.00/349 [00:00<?, ?B/s]"
      ]
     },
     "metadata": {},
     "output_type": "display_data"
    }
   ],
   "source": [
    "from sentence_transformers import SentenceTransformer\n",
    "\n",
    "# load model - may take a minute or two to download the first time\n",
    "model = SentenceTransformer('sentence-transformers/all-MiniLM-L6-v2', cache_folder=os.getenv(\"TRANSFORMERS_CACHE\", f\"{parent_directory}/models\"))"
   ]
  },
  {
   "cell_type": "code",
   "execution_count": 33,
   "metadata": {
    "ExecuteTime": {
     "end_time": "2024-05-23T00:33:00.802413Z",
     "start_time": "2024-05-23T00:32:59.212921Z"
    },
    "colab": {
     "base_uri": "https://localhost:8080/"
    },
    "id": "-41dOyVpOgDI",
    "outputId": "b6675ce3-b17b-4cb9-b4ee-11309172e95a"
   },
   "outputs": [
    {
     "name": "stdout",
     "output_type": "stream",
     "text": [
      "CPU times: user 12.1 s, sys: 2.49 s, total: 14.6 s\n",
      "Wall time: 3.61 s\n"
     ]
    },
    {
     "data": {
      "text/plain": [
       "True"
      ]
     },
     "execution_count": 33,
     "metadata": {},
     "output_type": "execute_result"
    }
   ],
   "source": [
    "%%time\n",
    "\n",
    "# create embeddings\n",
    "chunk_embeddings = model.encode([chunk.page_content for chunk in chunks])\n",
    "len(chunk_embeddings) == len(chunks)"
   ]
  },
  {
   "cell_type": "code",
   "execution_count": 34,
   "metadata": {
    "ExecuteTime": {
     "end_time": "2024-05-23T00:33:00.804625Z",
     "start_time": "2024-05-23T00:33:00.802940Z"
    }
   },
   "outputs": [
    {
     "name": "stdout",
     "output_type": "stream",
     "text": [
      "embedding dim should be 384\n"
     ]
    }
   ],
   "source": [
    "print(f\"embedding dim should be {len(chunk_embeddings[0])}\")"
   ]
  },
  {
   "cell_type": "markdown",
   "metadata": {
    "id": "3A6PexJgVDGB"
   },
   "source": [
    "### Set up some helper functions\n",
    "\n",
    "Helper functions to encode the single query vector and display redis search results"
   ]
  },
  {
   "cell_type": "code",
   "execution_count": 35,
   "metadata": {
    "ExecuteTime": {
     "end_time": "2024-05-23T00:33:00.806851Z",
     "start_time": "2024-05-23T00:33:00.805054Z"
    },
    "id": "9y0Xc4jVVCCI"
   },
   "outputs": [],
   "source": [
    "import pandas as pd\n",
    "\n",
    "\n",
    "def encode_one(input):\n",
    "    return model.encode(input).astype(np.float32).tobytes()\n",
    "\n",
    "\n",
    "def table_view(res):\n",
    "    if res.total == 0:\n",
    "        print(\"No documents found.\")\n",
    "        return None\n",
    "    \n",
    "    res_df = pd.DataFrame([t.__dict__ for t in res.docs ]).drop(columns=[\"payload\"])\n",
    "    return res_df\n"
   ]
  },
  {
   "cell_type": "markdown",
   "metadata": {
    "id": "ylykfqxeuPpy"
   },
   "source": [
    "### Define a schema and create an index\n",
    "Below we connect to Redis and create an index for vector search that contains a single text field and vector field."
   ]
  },
  {
   "cell_type": "code",
   "execution_count": 36,
   "metadata": {
    "ExecuteTime": {
     "end_time": "2024-05-23T00:33:00.812751Z",
     "start_time": "2024-05-23T00:33:00.807335Z"
    },
    "id": "xufdXgR6uPpy"
   },
   "outputs": [],
   "source": [
    "from redis.commands.search.field import TagField, TextField, VectorField\n",
    "from redis.commands.search.indexDefinition import IndexDefinition, IndexType\n",
    "from redis.commands.search.query import Query\n",
    "\n",
    "\n",
    "index_name = \"redispy\"\n",
    "key_prefix = f\"doc:{index_name}\"\n",
    "\n",
    "\n",
    "def create_index(index_type: str = \"FLAT\"):       # Creates a FLAT index by default\n",
    "    try:\n",
    "        # check to see if index exists\n",
    "        client.ft(index_name).info()\n",
    "        print(\"Index already exists!\")\n",
    "    except:\n",
    "        # define schema\n",
    "        schema = (\n",
    "            TagField(\"doc_id\"),                    # Tag Field - synthetic ID\n",
    "            TextField(\"content\"),                  # Text Field\n",
    "            VectorField(\"chunk_vector\",            # Vector Field\n",
    "                index_type, {                      # Vector Index Type: FLAT or HNSW\n",
    "                    \"TYPE\": \"FLOAT32\",\n",
    "                    \"DIM\": 384,                    # Number of Vector Dimensions\n",
    "                    \"DISTANCE_METRIC\": \"COSINE\",   # Vector Search Distance Metric\n",
    "                }\n",
    "            ),\n",
    "        )\n",
    "\n",
    "        # index Definition\n",
    "        definition = IndexDefinition(prefix=[key_prefix], index_type=IndexType.HASH)\n",
    "\n",
    "        # create Index\n",
    "        client.ft(index_name).create_index(fields=schema, definition=definition)"
   ]
  },
  {
   "cell_type": "code",
   "execution_count": 37,
   "metadata": {
    "ExecuteTime": {
     "end_time": "2024-05-23T00:33:00.817512Z",
     "start_time": "2024-05-23T00:33:00.813265Z"
    },
    "id": "CMMYwKXPuPpz"
   },
   "outputs": [],
   "source": [
    "# Create the index\n",
    "create_index()"
   ]
  },
  {
   "cell_type": "code",
   "execution_count": 38,
   "metadata": {
    "ExecuteTime": {
     "end_time": "2024-05-23T00:33:00.821294Z",
     "start_time": "2024-05-23T00:33:00.817996Z"
    },
    "colab": {
     "base_uri": "https://localhost:8080/"
    },
    "id": "YmIoE7MZuPpz",
    "outputId": "c514624d-2767-409b-e946-0294279f8d91"
   },
   "outputs": [
    {
     "data": {
      "text/plain": [
       "{'index_name': 'redispy',\n",
       " 'index_options': [],\n",
       " 'index_definition': [b'key_type',\n",
       "  b'HASH',\n",
       "  b'prefixes',\n",
       "  [b'doc:redispy'],\n",
       "  b'default_score',\n",
       "  b'1',\n",
       "  b'indexes_all',\n",
       "  b'false'],\n",
       " 'attributes': [[b'identifier',\n",
       "   b'doc_id',\n",
       "   b'attribute',\n",
       "   b'doc_id',\n",
       "   b'type',\n",
       "   b'TAG',\n",
       "   b'SEPARATOR',\n",
       "   b','],\n",
       "  [b'identifier',\n",
       "   b'content',\n",
       "   b'attribute',\n",
       "   b'content',\n",
       "   b'type',\n",
       "   b'TEXT',\n",
       "   b'WEIGHT',\n",
       "   b'1'],\n",
       "  [b'identifier',\n",
       "   b'chunk_vector',\n",
       "   b'attribute',\n",
       "   b'chunk_vector',\n",
       "   b'type',\n",
       "   b'VECTOR',\n",
       "   b'algorithm',\n",
       "   b'FLAT',\n",
       "   b'data_type',\n",
       "   b'FLOAT32',\n",
       "   b'dim',\n",
       "   384,\n",
       "   b'distance_metric',\n",
       "   b'COSINE']],\n",
       " 'num_docs': 0,\n",
       " 'max_doc_id': 0,\n",
       " 'num_terms': 0,\n",
       " 'num_records': 0,\n",
       " 'inverted_sz_mb': '0',\n",
       " 'vector_index_sz_mb': '0',\n",
       " 'total_inverted_index_blocks': 0,\n",
       " 'offset_vectors_sz_mb': '0',\n",
       " 'doc_table_size_mb': '0.01532745361328125',\n",
       " 'sortable_values_size_mb': '0',\n",
       " 'key_table_size_mb': '2.288818359375e-5',\n",
       " 'tag_overhead_sz_mb': '0',\n",
       " 'text_overhead_sz_mb': '0',\n",
       " 'total_index_memory_sz_mb': '0.015350341796875',\n",
       " 'geoshapes_sz_mb': '0',\n",
       " 'records_per_doc_avg': 'nan',\n",
       " 'bytes_per_record_avg': 'nan',\n",
       " 'offsets_per_term_avg': 'nan',\n",
       " 'offset_bits_per_record_avg': 'nan',\n",
       " 'hash_indexing_failures': 0,\n",
       " 'total_indexing_time': '0',\n",
       " 'indexing': 0,\n",
       " 'percent_indexed': '1',\n",
       " 'number_of_uses': 1,\n",
       " 'cleaning': 0,\n",
       " 'gc_stats': [b'bytes_collected',\n",
       "  b'0',\n",
       "  b'total_ms_run',\n",
       "  b'0',\n",
       "  b'total_cycles',\n",
       "  b'0',\n",
       "  b'average_cycle_time_ms',\n",
       "  b'nan',\n",
       "  b'last_run_time_ms',\n",
       "  b'0',\n",
       "  b'gc_numeric_trees_missed',\n",
       "  b'0',\n",
       "  b'gc_blocks_denied',\n",
       "  b'0'],\n",
       " 'cursor_stats': [b'global_idle',\n",
       "  0,\n",
       "  b'global_total',\n",
       "  0,\n",
       "  b'index_capacity',\n",
       "  128,\n",
       "  b'index_total',\n",
       "  0],\n",
       " 'dialect_stats': [b'dialect_1',\n",
       "  0,\n",
       "  b'dialect_2',\n",
       "  0,\n",
       "  b'dialect_3',\n",
       "  0,\n",
       "  b'dialect_4',\n",
       "  0],\n",
       " 'Index Errors': [b'indexing failures',\n",
       "  0,\n",
       "  b'last indexing error',\n",
       "  b'N/A',\n",
       "  b'last indexing error key',\n",
       "  b'N/A',\n",
       "  b'background indexing status',\n",
       "  b'OK'],\n",
       " 'field statistics': [[b'identifier',\n",
       "   b'doc_id',\n",
       "   b'attribute',\n",
       "   b'doc_id',\n",
       "   b'Index Errors',\n",
       "   [b'indexing failures',\n",
       "    0,\n",
       "    b'last indexing error',\n",
       "    b'N/A',\n",
       "    b'last indexing error key',\n",
       "    b'N/A']],\n",
       "  [b'identifier',\n",
       "   b'content',\n",
       "   b'attribute',\n",
       "   b'content',\n",
       "   b'Index Errors',\n",
       "   [b'indexing failures',\n",
       "    0,\n",
       "    b'last indexing error',\n",
       "    b'N/A',\n",
       "    b'last indexing error key',\n",
       "    b'N/A']],\n",
       "  [b'identifier',\n",
       "   b'chunk_vector',\n",
       "   b'attribute',\n",
       "   b'chunk_vector',\n",
       "   b'Index Errors',\n",
       "   [b'indexing failures',\n",
       "    0,\n",
       "    b'last indexing error',\n",
       "    b'N/A',\n",
       "    b'last indexing error key',\n",
       "    b'N/A'],\n",
       "   b'memory',\n",
       "   0,\n",
       "   b'marked_deleted',\n",
       "   0]]}"
      ]
     },
     "execution_count": 38,
     "metadata": {},
     "output_type": "execute_result"
    }
   ],
   "source": [
    "# Check the info related to the newly created index\n",
    "client.ft(index_name).info()"
   ]
  },
  {
   "cell_type": "markdown",
   "metadata": {
    "id": "Qrj-jeGmBRTL"
   },
   "source": [
    "### Process and load data using Redis\n",
    "Below we use a Redis pipeline (not a transaction) to batch send writes to Redis. This method helps with throughput significantly. The batch_size param can be customized and benchmarked on your hardware and with your data. We typically recommend starting small (100-200) and increasing as needed."
   ]
  },
  {
   "cell_type": "code",
   "execution_count": 39,
   "metadata": {
    "ExecuteTime": {
     "end_time": "2024-05-23T00:33:00.868997Z",
     "start_time": "2024-05-23T00:33:00.821745Z"
    },
    "id": "XHsODPikuPp1"
   },
   "outputs": [],
   "source": [
    "# load expects an iterable of dictionaries\n",
    "\n",
    "batch_size = 200\n",
    "\n",
    "with client.pipeline(transaction=False) as pipe:\n",
    "    for i, chunk in enumerate(chunks):\n",
    "        data = {\n",
    "            'doc_id': f\"{i}\",\n",
    "            'content': chunk.page_content,\n",
    "            # For HASH -- must convert embeddings to bytes\n",
    "            'chunk_vector': np.array(chunk_embeddings[i]).astype(np.float32).tobytes()\n",
    "        }\n",
    "        pipe.hset(f\"{key_prefix}:{i}\", mapping=data)\n",
    "        # execute in \"mini batches\"\n",
    "        if i % batch_size == 0:\n",
    "            res = pipe.execute()\n",
    "\n",
    "    # cleanup final batch execution\n",
    "    res = pipe.execute()"
   ]
  },
  {
   "cell_type": "code",
   "execution_count": 40,
   "metadata": {
    "ExecuteTime": {
     "end_time": "2024-05-23T00:33:00.872046Z",
     "start_time": "2024-05-23T00:33:00.869646Z"
    },
    "colab": {
     "base_uri": "https://localhost:8080/"
    },
    "id": "pY9Ja6VduPp1",
    "outputId": "9b4e46e9-1771-45bc-83c5-a2a943da411e"
   },
   "outputs": [
    {
     "data": {
      "text/plain": [
       "True"
      ]
     },
     "execution_count": 40,
     "metadata": {},
     "output_type": "execute_result"
    }
   ],
   "source": [
    "# check the data size in Redis\n",
    "len(chunks) == client.dbsize()"
   ]
  },
  {
   "cell_type": "code",
   "execution_count": 41,
   "metadata": {
    "ExecuteTime": {
     "end_time": "2024-05-23T00:33:00.874683Z",
     "start_time": "2024-05-23T00:33:00.872489Z"
    },
    "colab": {
     "base_uri": "https://localhost:8080/"
    },
    "id": "xa5zeoZ1uPp7",
    "outputId": "7322de1c-1367-46ff-dcd4-25a721c096a3"
   },
   "outputs": [
    {
     "data": {
      "text/plain": [
       "{b'chunk_vector': b'\\xb5\\x1fh\\xbd\\xa6\\xe2\\x00\\xbe.\\xba\\xa5\\xbc\\x1d\\\\\\t=\\xe0\\xa9\\x8f<#\\x95\\xcf= \\x14\\xb9<\\xe8\\x9d\\xb0<\\xf6\\xf94;\\xb2O\\x1a\\xbd,h\\x07=\\x17\\xe3\\xb4=\\xc1\\xe8\\x9a\\xbd{\\ny\\xbdN\\r;;\\x93~G=\\xa8\\xdb\\xa3\\xbb=\\xf9\\xc5\\xbc`\\xdcA\\xbd\\x06\\x9aH=m\\x8b\\x1b=\\xa0O\\xb8\\xbd\\x9fg\\x95\\xbc\\xfb\\t\\xe7:an5<2$q\\xbc\\x13\\xdb\\x98\\xbc\\xb5~h=\\xc1\\xb62\\xbd\\x92\\xf4\\xfa\\xbcW\\x89{\\xbd\\x1b\\xec\\xc2\\xbc\\xae\\xd5\\xc3=s\\x12x=\\x875\\xfb=\\x8b\\x08B\\xbd\\xa6x\\xc7=\\xf9I\\x91\\xbc\\xf2\\x952=tT5=\\x88t\\x97<\\x14I\\x92\\xbd\\xd2\\xed\\x95\\xbd\\xec\\x87\\xa4=F\\xba\\xbf\\xbc<\\x1b*=\\x9f\\x05^\\xbd\\x9e\\x15B=v>6\\xbc\\xbf\\xf4\\xaf=1!\\x97;4\\xcb4<\\x81\\xfd\\xf4<b\\x11\\xae<p?,\\xbci\\xd1\\xb6\\xbcY\\x9bt\\xbcu\\x1eQ=X\\x88\\xc2<\\x81\\x03\\xdc<\\xe9^\\xfd<\\xc71\\x8a\\xbd.\\x04\\'\\xbd\\xe1\\xe64=\\x17\\x1a\\n=\\'\\xdd\\xba\\xba\\x07i\\xb49+\\x05\\r\\xbd\\xfd\\xfd\\xf8<I\\xa1\\xf0\\xbd)\\xe5\\xb2\\xbc\\xc8\\x8c_\\xba|I\\x83\\xbd;\\xc0W=\\xbd\\r\\x96\\xbd\\xbdZ\\xf09\\xe9\\xf4\\xad\\xbc\\xa2\\x8d\\xc4=\\x9a\\xb6;<ST\\x97\\xbd\\xd0;\\x8c\\xbd\\xff\\x02\\xbd<\\xf8\\xf1h:\\x05\\xde\\xc4;\\xa8\\x03\\x1b=\\xf7\\xd7\\x8b\\xbc\\xffe\\xb8\\xbb\\x84{\\x91=\\xbd\\x08\\'=\\xcakV=\\xbecw\\xbd\\xf0\\x1f\\xba\\xbd\\xd3\\xad\\xe8\\xbc\\xaci\\x8d\\xbc\\x08\\xf4\\x0c\\xbd:\\xae\\x06=\\x99 \\xb4<\\r\\xe5\\xc9<\\xc6M\\x88=\\xd6-~=oU\\x98<6-o=w6\\xbf\\xbdN\\x03\\xc1\\xbc\\xa8\\xfd\\xa1\\xbdw\\x82\\xc6\\xbcP\\x1a6\\xbd\\xf1p\\xa8=\\xf7\\x14\\x03\\xbd~<,=`\\xac\\x85\\xbdE\\xd6\\n<\\x13>\\xde\\xbc\\x80\\x86,\\xbc.\\x01\\xdf\\xbc^\\n[<!\\xad\\x04\\xbc\\x12\\'\\x0e=\\xb4\\x0b\\x9b=\\x9a\\xdc\\xcc\\xbc\\x02\\x00\\x8e=gp\\x89=\\xa1i\\x89\\xbc1\\xc3\\x05\\xbck\\xd2\\xfb\\xbd\\xdb\\xfb\\xbf\\xbc(\\xdf\\xab\\xbc1Bp\\tI+\\xfe\\xbbEY\\xf5<}\\x93\\x1e:7a\\xcf<\\x9f\\x8b;\\xbd\\xcb\\x96\\x0c=~\\xa4\\x13=\\xb7\\xf6\\xf7<\\xb8\\r\\x8a\\xbd\\xf3N\\xac=\\x95i\\n\\xbd\\x8e\\xa2\\xd8<\\xbd\\x18\\x01=\\x0f\\xea[\\xbd(y7<t\\x90\\x90<\\x16\\x0ea\\xbci@\\xaa<\\xb3\\x95\\xae=\\x81}#\\xbd\\x8cX\\xaf=c9\\x03<F\\xbf6\\xbdL\\xfce\\xba,\\xe0h\\xbd\\xfc\\xb5B=\\x1b\\x00\\xbc\\xbd\\xb8\\xe2,<\\x98xb\\xbcx\\xd3H=Q+\\x86=\\x8c\\xedY\\xbd\\xeajh<\\xed\\x8c\"\\xbd:\\x0c\\xf0;6\\xf3\\xc0\\xbc\\x1a\\xffq<hF\\x16\\xbd\\xd2[\\x1b=65\\xd7\\xbd\\x1a\\tG=\\x15m\\x01;\\xac\\xb2\\xb7\\xbc\\x1c\\xeb\\x89\\xbb\\xa5\\xbe\\x18\\xbd\\x8c\\x01U;M\\x7f+=\\x8c#\\x1d=\\x06H\\xe8=\\x00\\xb6\\x86\\xbd\\xeb\\xc8\\x18\\xbd\\n\\xf1#=\\x99P,=\\xf1\\xdf\\xa8\\xbdY \\x14<,\\xf7\\xd3\\xbd\\xf5\\x97\\x95\\xbb\\xadw\"\\xbd\\xb8\\xac\\x9f\\xbdb\\xfc\\x89<\\xaf\\xfd\\xa8=\\x812\\x14>\\x84[\\x13\\xbd]\\xf5\\xe1\\xbc\\x1a\\xaa\\x12\\xbe\\x12\\xfd\\xdd\\xb9\\xe0%@;\\x96\\x11\\xec<{\\xad\\xcf\\xbb\\xbeS\\xa6:\\xfe__<\\x1d\\x0cN=\\x0f\\xa1\\x80\\xbb\\xdbJ\\xab<\\xe8\\xe8\\xa5\\xbaaU\\x87\\xbd\\xf9\\x06\\x9c=[\\xeb&=z\\x125<4J:\\xbd\\xe7\\xffD<\\xfd\\xfaF\\xbd\\xb5)><\\x96\\x08\\x1c=\\xbf\\xa4\\x8c\\xbd\\xe2\\x86S<W<J=\\x1e\\xce\\x10\\xb8\\x8e\\\\m\\xbd\\x0e\\x92\\xca\\xbc\\xf9\\x03\\xb8\\xbc\\xa7\\xe5#\\xbd\\xfb\\x08\\xd3\\xbdi\\xae\\x9b=tDn<Y\\xcb\\x03\\x8ad\\xd8\\x07\\xbczJ\\xbc\\xbc\\xf1\\xff\"\\xbd\\xac\\xcbq\\xbd\\x90\\xae\\x08\\xbe-l\\xba<\\xd0\\x0fL=m\\xed\\x83\\xbc\\xf3\\xd62<\\n\\xb2\\x1f=[?\\xeb<\\x042>\\xbdw\\xaa\\xba;Kt\\x98;\\xd0zi\\xbch\\xef-\\xbc\\x8a\\x9a\\xdc\\xbcw\\x12\\xe2:3\\xa5\\xdc<\"\\xcc\\xd5\\xbc\\x1e;d<Z\\xa1n=\\xa19\\x00<\\xd1\\xb2\\xcc<\\xea\\x02(\\xbd)\\xf7h\\xbb6\\xe2|<H\\x99\\x82=\\x8b\\xf7\\x88<\\x0e`\\xb6=\\xd2\\xa3\\x8e=\\xf93\\x9a\\xbdS\\xbf\\xba;\\x95\\x87\\x8c=^\\xfc\\xd8\\xbdZY\\xda\\xbd\\xec\\xc6\\xb2<\\xbb\\x86\\x89\\xbd\\xa4\\x8e\\xae<\\x0f%\\x01\\xbb\\xfa\\x16n=\\x9av\\x92\\xbc\\xc4\\xd6\\xc1\\xbc5h\\xbf=o\\x02\\xf1<\\xb2\\xf3\\xb1\\xbc1T\\xf9<_{\\xf5\\xbb\\xf9\\xc6a=l\\xbbR\\xbd\\x08\\xfb>\\xbd\\x10\\x8f.=\\xf9B\\xc4\\xbc\\xd0\\xb9n=\\x19\\xd7\\x0c\\xbd\\xb3\\x9b\\x93=\\x84\\xb5.\\xbd\\x1a\\x8c\\xd0\\xbbP\\xff\\x98\\xbd\\xd6f\\xd1\\xbb\\xeaj\\xfb<\\xaf[\\xfa=\\xec\\xfd\\x90\\xbb\\xa3jG=\\x03\\xd9\\xb1=\\x01\\x98\\x8c\\xbd\\xc3\\x97F\\xbd\\xad\\xc78;N\\x07\\xa3\\xbb\\x0f\\xaaT\\xbd\\xa1\\x12\\xfb<uf\\xc6\\xbdR\\xb9\\x14<s,\\x8a\\xbd3\\x88\\x1b\\xbd\\xab\\xaa\\xad<eV\\x96=\\xec H=X\\xbd\\xf1\\xbdb\\xe3n=\\x86\\xe7\\xf1\\xbcY\\xcaJ=\\xc7\\x9b<\\xbd<2\\x14=\\xe5\\x18(=t9[=\\xafwW=-[\\xaf=\\xfch*;U\\xca\\xff<\\xa1\\xcaP<A\\xa4\\xa6<\\xf7\\x19*<\\xae\\x90\\xa7<uU\\xaf\\xbd\\x92R}\\xb3\\nW\\x80<\\x9b\\x81C=G\\x96$=\\x98\\xe2\\x99=z\\xce\\x95<\\xe8CZ;O`\\x19\\xbc\\x0b\\xa3a\\xbd\\xa7\\xd8\\x98\\xbdS\"\\x90=;\\x16\\xc5<\\x0b\\xff\\xfa</\\x13\\x00\\xbe\\xd3;\\xf3\\xbc\\xdaK\\x92\\xbd\\x16n\\x80\\xbdd\\x07\\xc5\\xbd\\xd9\\x1e\\xe0<\\xb6q\\x1a\\xbc\\x88g!=4,B\\xbd\\xffh\"\\xbd\\xa6p\\xa4=PN;\\xbd\\x9d\\x07%\\xbd\\x81\\x16\\xdb\\xbc\\x9b\\xbdc<W\\xb4\\x0b\\xbb\\xd1\\xe2\\x8d=\\xff\\xffr<\\xa0?W\\xbd\\r\\xb4\\x01=m\\x18\\x1e=\\xb2\\xd5`\\xbd}\\xb3\\xb0\\xbd\\x89\\xf7G=\\x9e\\xe6\\x1d\\xbdA\\x1aX=\\xec\\xc3\\xdc\\xbc\\xb36\\xe1<\\xbd\\xd2P\\xbdWa\\xac\\xbd*C\\xfc\\xbc\\x18e7=a#\\x98=\\xc1\\xe7\\xbb<\\xf9\\xc9\\xc8\\xbdV\\xf9j\\xbd9w\\x81=\\x01hU\\xbd\\\\\\x9b\\x9a\\xbc\\xa3G\\xee\\xbc\\xaa\\xca\\xfa\\xbb\\xea=S=\\xb5\\x19!\\xbdZ\\xaf\\x0e=\\xfc\\xb5\\xeb\\xbd\\'\\x816\\xbd\\xd3v\\xc0\\xbc`\\x96J\\xbd\\x9d\\r\\x11\\xbc\\x03{\\xdd\\xbd\\ny\\xe8\\xbc0\\xc2\\xef<',\n",
       " b'content': b\"NIKE, Inc.(Exact name of Registrant as specified in its charter)Oregon93-0584541(State or other jurisdiction of incorporation)(IRS Employer Identification No.)One Bowerman Drive, Beaverton, Oregon 97005-6453(Address of principal executive offices and zip code)(503) 671-6453(Registrant's telephone number, including area code)SECURITIES REGISTERED PURSUANT TO SECTION 12(B) OF THE ACT:Class B Common StockNKENew York Stock Exchange(Title of each class)(Trading symbol)(Name of each exchange on which registered)SECURITIES REGISTERED PURSUANT TO SECTION 12(G) OF THE ACT:NONE\\n\\nTable of ContentsUNITED STATESSECURITIES AND EXCHANGE COMMISSIONWashington, D.C. 20549FORM 10-K(Mark One)\\xe2\\x98\\x91 ANNUAL REPORT PURSUANT TO SECTION 13 OR 15(D) OF THE SECURITIES EXCHANGE ACT OF 1934FOR THE FISCAL YEAR ENDED MAY 31, 2023OR\\xe2\\x98\\x90 TRANSITION REPORT PURSUANT TO SECTION 13 OR 15(D) OF THE SECURITIES EXCHANGE ACT OF 1934FOR THE TRANSITION PERIOD FROM TO .Commission File No. 1-10635\\n\\nAs of November 30, 2022, the aggregate market values of the Registrant's Common Stock held by non-affiliates were:Class A$7,831,564,572 Class B136,467,702,472 $144,299,267,044\",\n",
       " b'doc_id': b'0'}"
      ]
     },
     "execution_count": 41,
     "metadata": {},
     "output_type": "execute_result"
    }
   ],
   "source": [
    "client.hgetall(f\"{key_prefix}:0\")"
   ]
  },
  {
   "cell_type": "markdown",
   "metadata": {
    "id": "oBMVO9RQuPp7"
   },
   "source": [
    "### Query the database\n",
    "Now we can use the Redis search index to perform vector similarity search operations.\n",
    "\n",
    "The code below takes a user input, converts to embeddings, and fetches the top 2 most semantically similar chunks from Redis."
   ]
  },
  {
   "cell_type": "code",
   "execution_count": 42,
   "metadata": {
    "ExecuteTime": {
     "end_time": "2024-05-23T00:33:00.967067Z",
     "start_time": "2024-05-23T00:33:00.875162Z"
    },
    "colab": {
     "base_uri": "https://localhost:8080/",
     "height": 112
    },
    "id": "fp3I3jo4uPp8",
    "outputId": "2d32fa64-a010-4f8c-9b3c-191b44c8e66e"
   },
   "outputs": [
    {
     "data": {
      "text/html": [
       "<div>\n",
       "<style scoped>\n",
       "    .dataframe tbody tr th:only-of-type {\n",
       "        vertical-align: middle;\n",
       "    }\n",
       "\n",
       "    .dataframe tbody tr th {\n",
       "        vertical-align: top;\n",
       "    }\n",
       "\n",
       "    .dataframe thead th {\n",
       "        text-align: right;\n",
       "    }\n",
       "</style>\n",
       "<table border=\"1\" class=\"dataframe\">\n",
       "  <thead>\n",
       "    <tr style=\"text-align: right;\">\n",
       "      <th></th>\n",
       "      <th>id</th>\n",
       "      <th>vector_distance</th>\n",
       "      <th>content</th>\n",
       "    </tr>\n",
       "  </thead>\n",
       "  <tbody>\n",
       "    <tr>\n",
       "      <th>0</th>\n",
       "      <td>doc:redispy:85</td>\n",
       "      <td>0.321347296238</td>\n",
       "      <td>TOTAL NIKE BRAND Converse\\n\\n$\\n\\n1,932 (4,841...</td>\n",
       "    </tr>\n",
       "    <tr>\n",
       "      <th>1</th>\n",
       "      <td>doc:redispy:84</td>\n",
       "      <td>0.328033447266</td>\n",
       "      <td>As discussed in Note 15 — Operating Segments a...</td>\n",
       "    </tr>\n",
       "  </tbody>\n",
       "</table>\n",
       "</div>"
      ],
      "text/plain": [
       "               id vector_distance  \\\n",
       "0  doc:redispy:85  0.321347296238   \n",
       "1  doc:redispy:84  0.328033447266   \n",
       "\n",
       "                                             content  \n",
       "0  TOTAL NIKE BRAND Converse\\n\\n$\\n\\n1,932 (4,841...  \n",
       "1  As discussed in Note 15 — Operating Segments a...  "
      ]
     },
     "execution_count": 42,
     "metadata": {},
     "output_type": "execute_result"
    }
   ],
   "source": [
    "# Grab user input\n",
    "_input = \"Nike profit margins and company performance\"\n",
    "\n",
    "query = (\n",
    "    Query(\"*=>[KNN 2 @chunk_vector $vector as vector_distance]\")\n",
    "     .sort_by(\"vector_distance\")\n",
    "     .return_fields(\"content\", \"vector_distance\")\n",
    "     .paging(0, 2)\n",
    "     .dialect(2)\n",
    ")\n",
    "\n",
    "query_params = {\n",
    "    \"vector\": np.array(model.encode(_input), dtype=np.float32).tobytes()\n",
    "}\n",
    "\n",
    "res = client.ft(index_name).search(query, query_params)\n",
    "\n",
    "table_view(res)"
   ]
  },
  {
   "cell_type": "code",
   "execution_count": 43,
   "metadata": {
    "ExecuteTime": {
     "end_time": "2024-05-23T00:33:00.982775Z",
     "start_time": "2024-05-23T00:33:00.967554Z"
    },
    "colab": {
     "base_uri": "https://localhost:8080/",
     "height": 175
    },
    "id": "VH2tTqYWCgpM",
    "outputId": "e3cf413e-1ccc-4922-e155-92fc6fe64fa3"
   },
   "outputs": [
    {
     "data": {
      "text/html": [
       "<div>\n",
       "<style scoped>\n",
       "    .dataframe tbody tr th:only-of-type {\n",
       "        vertical-align: middle;\n",
       "    }\n",
       "\n",
       "    .dataframe tbody tr th {\n",
       "        vertical-align: top;\n",
       "    }\n",
       "\n",
       "    .dataframe thead th {\n",
       "        text-align: right;\n",
       "    }\n",
       "</style>\n",
       "<table border=\"1\" class=\"dataframe\">\n",
       "  <thead>\n",
       "    <tr style=\"text-align: right;\">\n",
       "      <th></th>\n",
       "      <th>id</th>\n",
       "      <th>vector_distance</th>\n",
       "      <th>doc_id</th>\n",
       "      <th>content</th>\n",
       "    </tr>\n",
       "  </thead>\n",
       "  <tbody>\n",
       "    <tr>\n",
       "      <th>0</th>\n",
       "      <td>doc:redispy:118</td>\n",
       "      <td>0.3587500453</td>\n",
       "      <td>118</td>\n",
       "      <td>NIKE, INC. CONSOLIDATED STATEMENTS OF INCOME\\n...</td>\n",
       "    </tr>\n",
       "    <tr>\n",
       "      <th>1</th>\n",
       "      <td>doc:redispy:158</td>\n",
       "      <td>0.360825419426</td>\n",
       "      <td>158</td>\n",
       "      <td>Tax (expense) benefit Gain (loss) net of tax\\n...</td>\n",
       "    </tr>\n",
       "    <tr>\n",
       "      <th>2</th>\n",
       "      <td>doc:redispy:84</td>\n",
       "      <td>0.328033447266</td>\n",
       "      <td>84</td>\n",
       "      <td>As discussed in Note 15 — Operating Segments a...</td>\n",
       "    </tr>\n",
       "    <tr>\n",
       "      <th>3</th>\n",
       "      <td>doc:redispy:85</td>\n",
       "      <td>0.321347296238</td>\n",
       "      <td>85</td>\n",
       "      <td>TOTAL NIKE BRAND Converse\\n\\n$\\n\\n1,932 (4,841...</td>\n",
       "    </tr>\n",
       "  </tbody>\n",
       "</table>\n",
       "</div>"
      ],
      "text/plain": [
       "                id vector_distance doc_id  \\\n",
       "0  doc:redispy:118    0.3587500453    118   \n",
       "1  doc:redispy:158  0.360825419426    158   \n",
       "2   doc:redispy:84  0.328033447266     84   \n",
       "3   doc:redispy:85  0.321347296238     85   \n",
       "\n",
       "                                             content  \n",
       "0  NIKE, INC. CONSOLIDATED STATEMENTS OF INCOME\\n...  \n",
       "1  Tax (expense) benefit Gain (loss) net of tax\\n...  \n",
       "2  As discussed in Note 15 — Operating Segments a...  \n",
       "3  TOTAL NIKE BRAND Converse\\n\\n$\\n\\n1,932 (4,841...  "
      ]
     },
     "execution_count": 43,
     "metadata": {},
     "output_type": "execute_result"
    }
   ],
   "source": [
    "# Example of sorting by a field other than vector_distance\n",
    "query = (\n",
    "    Query(\"*=>[KNN 4 @chunk_vector $vector as vector_distance]\")\n",
    "     .sort_by(\"doc_id\")\n",
    "     .return_fields(\"doc_id\", \"content\", \"vector_distance\")\n",
    "     .paging(0, 4)\n",
    "     .dialect(2)\n",
    ")\n",
    "\n",
    "query_params = {\n",
    "    \"vector\": encode_one(_input)\n",
    "}\n",
    "\n",
    "res = client.ft(index_name).search(query, query_params)\n",
    "\n",
    "table_view(res)"
   ]
  },
  {
   "cell_type": "markdown",
   "metadata": {
    "id": "i5SCvkAvuPp8"
   },
   "source": [
    "### Range Queries\n",
    "Range queries allow you to set a pre defined \"threshold\" for which we want to return documents"
   ]
  },
  {
   "cell_type": "code",
   "execution_count": 44,
   "metadata": {
    "ExecuteTime": {
     "end_time": "2024-05-23T00:33:01.000596Z",
     "start_time": "2024-05-23T00:33:00.983401Z"
    },
    "colab": {
     "base_uri": "https://localhost:8080/",
     "height": 363
    },
    "id": "HTrphv_NuPp8",
    "outputId": "45632bde-d94e-4244-d62c-594c4334026e"
   },
   "outputs": [
    {
     "data": {
      "text/html": [
       "<div>\n",
       "<style scoped>\n",
       "    .dataframe tbody tr th:only-of-type {\n",
       "        vertical-align: middle;\n",
       "    }\n",
       "\n",
       "    .dataframe tbody tr th {\n",
       "        vertical-align: top;\n",
       "    }\n",
       "\n",
       "    .dataframe thead th {\n",
       "        text-align: right;\n",
       "    }\n",
       "</style>\n",
       "<table border=\"1\" class=\"dataframe\">\n",
       "  <thead>\n",
       "    <tr style=\"text-align: right;\">\n",
       "      <th></th>\n",
       "      <th>id</th>\n",
       "      <th>vector_distance</th>\n",
       "      <th>content</th>\n",
       "    </tr>\n",
       "  </thead>\n",
       "  <tbody>\n",
       "    <tr>\n",
       "      <th>0</th>\n",
       "      <td>doc:redispy:85</td>\n",
       "      <td>0.321347296238</td>\n",
       "      <td>TOTAL NIKE BRAND Converse\\n\\n$\\n\\n1,932 (4,841...</td>\n",
       "    </tr>\n",
       "    <tr>\n",
       "      <th>1</th>\n",
       "      <td>doc:redispy:84</td>\n",
       "      <td>0.328033447266</td>\n",
       "      <td>As discussed in Note 15 — Operating Segments a...</td>\n",
       "    </tr>\n",
       "    <tr>\n",
       "      <th>2</th>\n",
       "      <td>doc:redispy:118</td>\n",
       "      <td>0.3587500453</td>\n",
       "      <td>NIKE, INC. CONSOLIDATED STATEMENTS OF INCOME\\n...</td>\n",
       "    </tr>\n",
       "    <tr>\n",
       "      <th>3</th>\n",
       "      <td>doc:redispy:158</td>\n",
       "      <td>0.360825419426</td>\n",
       "      <td>Tax (expense) benefit Gain (loss) net of tax\\n...</td>\n",
       "    </tr>\n",
       "    <tr>\n",
       "      <th>4</th>\n",
       "      <td>doc:redispy:81</td>\n",
       "      <td>0.363789558411</td>\n",
       "      <td>NIKE Brand revenues, which represented over 90...</td>\n",
       "    </tr>\n",
       "    <tr>\n",
       "      <th>5</th>\n",
       "      <td>doc:redispy:82</td>\n",
       "      <td>0.370122730732</td>\n",
       "      <td>Lower margin in our NIKE Direct business, driv...</td>\n",
       "    </tr>\n",
       "    <tr>\n",
       "      <th>6</th>\n",
       "      <td>doc:redispy:80</td>\n",
       "      <td>0.386211395264</td>\n",
       "      <td>4,780 (508)\\n\\n7 % -80 %\\n\\nTOTAL NIKE BRAND W...</td>\n",
       "    </tr>\n",
       "    <tr>\n",
       "      <th>7</th>\n",
       "      <td>doc:redispy:86</td>\n",
       "      <td>0.393619000912</td>\n",
       "      <td>Apparel revenues increased 9% on a currency-ne...</td>\n",
       "    </tr>\n",
       "    <tr>\n",
       "      <th>8</th>\n",
       "      <td>doc:redispy:89</td>\n",
       "      <td>0.394768118858</td>\n",
       "      <td>3 % -4 %\\n\\n13 % 4 %\\n\\n1,494 190\\n\\n8 % 23 %\\...</td>\n",
       "    </tr>\n",
       "    <tr>\n",
       "      <th>9</th>\n",
       "      <td>doc:redispy:159</td>\n",
       "      <td>0.395310044289</td>\n",
       "      <td>ASIA PACIFIC &amp; LATIN AMERICA\\n\\n(1)\\n\\nGLOBAL ...</td>\n",
       "    </tr>\n",
       "  </tbody>\n",
       "</table>\n",
       "</div>"
      ],
      "text/plain": [
       "                id vector_distance  \\\n",
       "0   doc:redispy:85  0.321347296238   \n",
       "1   doc:redispy:84  0.328033447266   \n",
       "2  doc:redispy:118    0.3587500453   \n",
       "3  doc:redispy:158  0.360825419426   \n",
       "4   doc:redispy:81  0.363789558411   \n",
       "5   doc:redispy:82  0.370122730732   \n",
       "6   doc:redispy:80  0.386211395264   \n",
       "7   doc:redispy:86  0.393619000912   \n",
       "8   doc:redispy:89  0.394768118858   \n",
       "9  doc:redispy:159  0.395310044289   \n",
       "\n",
       "                                             content  \n",
       "0  TOTAL NIKE BRAND Converse\\n\\n$\\n\\n1,932 (4,841...  \n",
       "1  As discussed in Note 15 — Operating Segments a...  \n",
       "2  NIKE, INC. CONSOLIDATED STATEMENTS OF INCOME\\n...  \n",
       "3  Tax (expense) benefit Gain (loss) net of tax\\n...  \n",
       "4  NIKE Brand revenues, which represented over 90...  \n",
       "5  Lower margin in our NIKE Direct business, driv...  \n",
       "6  4,780 (508)\\n\\n7 % -80 %\\n\\nTOTAL NIKE BRAND W...  \n",
       "7  Apparel revenues increased 9% on a currency-ne...  \n",
       "8  3 % -4 %\\n\\n13 % 4 %\\n\\n1,494 190\\n\\n8 % 23 %\\...  \n",
       "9  ASIA PACIFIC & LATIN AMERICA\\n\\n(1)\\n\\nGLOBAL ...  "
      ]
     },
     "execution_count": 44,
     "metadata": {},
     "output_type": "execute_result"
    }
   ],
   "source": [
    "query = (\n",
    "    Query(\"@chunk_vector:[VECTOR_RANGE $radius $vector]=>{$YIELD_DISTANCE_AS: vector_distance}\")\n",
    "     .sort_by(\"vector_distance\")\n",
    "     .return_fields(\"content\", \"vector_distance\")\n",
    "     .dialect(2)\n",
    ")\n",
    "\n",
    "# Find all vectors within 0.8 of the query vector\n",
    "query_params = {\n",
    "    \"radius\": 0.8,\n",
    "    \"vector\": encode_one(_input)\n",
    "}\n",
    "\n",
    "res = client.ft(index_name).search(query, query_params)\n",
    "table_view(res)"
   ]
  },
  {
   "cell_type": "markdown",
   "metadata": {
    "id": "IELiO9e4uPp9"
   },
   "source": [
    "### Add filter statements\n",
    "Redis queries can contain both vector search and traditional filters (numeric, tags, text, geo) in one single command."
   ]
  },
  {
   "cell_type": "code",
   "execution_count": 45,
   "metadata": {
    "ExecuteTime": {
     "end_time": "2024-05-23T00:33:01.016691Z",
     "start_time": "2024-05-23T00:33:01.001106Z"
    },
    "colab": {
     "base_uri": "https://localhost:8080/",
     "height": 112
    },
    "id": "qkzGPmMnuPp-",
    "outputId": "92068e8f-689c-4fae-ca3d-046315ac53b4"
   },
   "outputs": [
    {
     "data": {
      "text/html": [
       "<div>\n",
       "<style scoped>\n",
       "    .dataframe tbody tr th:only-of-type {\n",
       "        vertical-align: middle;\n",
       "    }\n",
       "\n",
       "    .dataframe tbody tr th {\n",
       "        vertical-align: top;\n",
       "    }\n",
       "\n",
       "    .dataframe thead th {\n",
       "        text-align: right;\n",
       "    }\n",
       "</style>\n",
       "<table border=\"1\" class=\"dataframe\">\n",
       "  <thead>\n",
       "    <tr style=\"text-align: right;\">\n",
       "      <th></th>\n",
       "      <th>id</th>\n",
       "      <th>vector_distance</th>\n",
       "      <th>content</th>\n",
       "    </tr>\n",
       "  </thead>\n",
       "  <tbody>\n",
       "    <tr>\n",
       "      <th>0</th>\n",
       "      <td>doc:redispy:81</td>\n",
       "      <td>0.363789558411</td>\n",
       "      <td>NIKE Brand revenues, which represented over 90...</td>\n",
       "    </tr>\n",
       "    <tr>\n",
       "      <th>1</th>\n",
       "      <td>doc:redispy:74</td>\n",
       "      <td>0.453679800034</td>\n",
       "      <td>NIKE designs, develops, markets and sells athl...</td>\n",
       "    </tr>\n",
       "  </tbody>\n",
       "</table>\n",
       "</div>"
      ],
      "text/plain": [
       "               id vector_distance  \\\n",
       "0  doc:redispy:81  0.363789558411   \n",
       "1  doc:redispy:74  0.453679800034   \n",
       "\n",
       "                                             content  \n",
       "0  NIKE Brand revenues, which represented over 90...  \n",
       "1  NIKE designs, develops, markets and sells athl...  "
      ]
     },
     "execution_count": 45,
     "metadata": {},
     "output_type": "execute_result"
    }
   ],
   "source": [
    "# filter for docs that contain \"profit\" in the content field and do KNN vector search\n",
    "query = (\n",
    "    Query(\"@content:profit=>[KNN 2 @chunk_vector $vector as vector_distance]\")\n",
    "     .sort_by(\"vector_distance\")\n",
    "     .return_fields(\"content\", \"vector_distance\")\n",
    "     .paging(0, 2)\n",
    "     .dialect(2)\n",
    ")\n",
    "\n",
    "query_params = {\n",
    "    \"vector\": encode_one(_input)\n",
    "}\n",
    "\n",
    "res = client.ft(index_name).search(query, query_params)\n",
    "table_view(res)"
   ]
  },
  {
   "cell_type": "code",
   "execution_count": 46,
   "metadata": {
    "ExecuteTime": {
     "end_time": "2024-05-23T00:33:01.021868Z",
     "start_time": "2024-05-23T00:33:01.017366Z"
    },
    "id": "XpL7r3tquPp-"
   },
   "outputs": [
    {
     "data": {
      "text/plain": [
       "b'OK'"
      ]
     },
     "execution_count": 46,
     "metadata": {},
     "output_type": "execute_result"
    }
   ],
   "source": [
    "# lets clean up our index\n",
    "client.ft(index_name).dropindex(True)"
   ]
  },
  {
   "cell_type": "markdown",
   "metadata": {
    "id": "BeJA5u14uPp-"
   },
   "source": [
    "### What about JSON Support?\n",
    "\n",
    "Redis also allows you to store data in JSON objects. The JSON fields can contain metadata and vectors. Below is a simple example of indexing JSON data."
   ]
  },
  {
   "cell_type": "code",
   "execution_count": 47,
   "metadata": {
    "ExecuteTime": {
     "end_time": "2024-05-23T00:33:01.029230Z",
     "start_time": "2024-05-23T00:33:01.022464Z"
    },
    "colab": {
     "base_uri": "https://localhost:8080/"
    },
    "id": "-V_gPbmguPp-",
    "outputId": "45f4ec9e-90cf-4390-aee7-a0bc16633489"
   },
   "outputs": [
    {
     "data": {
      "text/plain": [
       "b'OK'"
      ]
     },
     "execution_count": 47,
     "metadata": {},
     "output_type": "execute_result"
    }
   ],
   "source": [
    "# schema\n",
    "schema = (\n",
    "    TextField(\"$.content\",                     # Text Field (JSON path)\n",
    "        as_name=\"content\"                      # Text Field Alias -- required for JSON\n",
    "    ),\n",
    "    VectorField(\"$.chunk_vector\",              # Vector Field (JSON path)\n",
    "        \"FLAT\", {                              # Vector Index Type: FLAT or HNSW\n",
    "            \"TYPE\": \"FLOAT32\",\n",
    "            \"DIM\": 384,                        # Number of Vector Dimensions\n",
    "            \"DISTANCE_METRIC\": \"COSINE\",       # Vector Search Distance Metric\n",
    "        },\n",
    "        as_name=\"chunk_vector\"                 # Vector Field Alias -- required for JSON\n",
    "    ),\n",
    ")\n",
    "\n",
    "# index Definition\n",
    "definition = IndexDefinition(prefix=[key_prefix], index_type=IndexType.JSON) # select JSON here\n",
    "\n",
    "# create Index\n",
    "client.ft(index_name).create_index(fields=schema, definition=definition)"
   ]
  },
  {
   "cell_type": "code",
   "execution_count": 48,
   "metadata": {
    "ExecuteTime": {
     "end_time": "2024-05-23T00:33:01.032818Z",
     "start_time": "2024-05-23T00:33:01.029807Z"
    },
    "colab": {
     "base_uri": "https://localhost:8080/"
    },
    "id": "rh7NKirOuPp_",
    "outputId": "94681570-d8d4-40f9-a37e-10f129d9b9fb"
   },
   "outputs": [
    {
     "data": {
      "text/plain": [
       "{'index_name': 'redispy',\n",
       " 'index_options': [],\n",
       " 'index_definition': [b'key_type',\n",
       "  b'JSON',\n",
       "  b'prefixes',\n",
       "  [b'doc:redispy'],\n",
       "  b'default_score',\n",
       "  b'1',\n",
       "  b'indexes_all',\n",
       "  b'false'],\n",
       " 'attributes': [[b'identifier',\n",
       "   b'$.content',\n",
       "   b'attribute',\n",
       "   b'content',\n",
       "   b'type',\n",
       "   b'TEXT',\n",
       "   b'WEIGHT',\n",
       "   b'1'],\n",
       "  [b'identifier',\n",
       "   b'$.chunk_vector',\n",
       "   b'attribute',\n",
       "   b'chunk_vector',\n",
       "   b'type',\n",
       "   b'VECTOR',\n",
       "   b'algorithm',\n",
       "   b'FLAT',\n",
       "   b'data_type',\n",
       "   b'FLOAT32',\n",
       "   b'dim',\n",
       "   384,\n",
       "   b'distance_metric',\n",
       "   b'COSINE']],\n",
       " 'num_docs': 0,\n",
       " 'max_doc_id': 0,\n",
       " 'num_terms': 0,\n",
       " 'num_records': 0,\n",
       " 'inverted_sz_mb': '0',\n",
       " 'vector_index_sz_mb': '0',\n",
       " 'total_inverted_index_blocks': 0,\n",
       " 'offset_vectors_sz_mb': '0',\n",
       " 'doc_table_size_mb': '0.01532745361328125',\n",
       " 'sortable_values_size_mb': '0',\n",
       " 'key_table_size_mb': '2.288818359375e-5',\n",
       " 'tag_overhead_sz_mb': '0',\n",
       " 'text_overhead_sz_mb': '0',\n",
       " 'total_index_memory_sz_mb': '0.015350341796875',\n",
       " 'geoshapes_sz_mb': '0',\n",
       " 'records_per_doc_avg': 'nan',\n",
       " 'bytes_per_record_avg': 'nan',\n",
       " 'offsets_per_term_avg': 'nan',\n",
       " 'offset_bits_per_record_avg': 'nan',\n",
       " 'hash_indexing_failures': 0,\n",
       " 'total_indexing_time': '0',\n",
       " 'indexing': 0,\n",
       " 'percent_indexed': '1',\n",
       " 'number_of_uses': 1,\n",
       " 'cleaning': 0,\n",
       " 'gc_stats': [b'bytes_collected',\n",
       "  b'0',\n",
       "  b'total_ms_run',\n",
       "  b'0',\n",
       "  b'total_cycles',\n",
       "  b'0',\n",
       "  b'average_cycle_time_ms',\n",
       "  b'nan',\n",
       "  b'last_run_time_ms',\n",
       "  b'0',\n",
       "  b'gc_numeric_trees_missed',\n",
       "  b'0',\n",
       "  b'gc_blocks_denied',\n",
       "  b'0'],\n",
       " 'cursor_stats': [b'global_idle',\n",
       "  0,\n",
       "  b'global_total',\n",
       "  0,\n",
       "  b'index_capacity',\n",
       "  128,\n",
       "  b'index_total',\n",
       "  0],\n",
       " 'dialect_stats': [b'dialect_1',\n",
       "  0,\n",
       "  b'dialect_2',\n",
       "  0,\n",
       "  b'dialect_3',\n",
       "  0,\n",
       "  b'dialect_4',\n",
       "  0],\n",
       " 'Index Errors': [b'indexing failures',\n",
       "  0,\n",
       "  b'last indexing error',\n",
       "  b'N/A',\n",
       "  b'last indexing error key',\n",
       "  b'N/A',\n",
       "  b'background indexing status',\n",
       "  b'OK'],\n",
       " 'field statistics': [[b'identifier',\n",
       "   b'$.content',\n",
       "   b'attribute',\n",
       "   b'content',\n",
       "   b'Index Errors',\n",
       "   [b'indexing failures',\n",
       "    0,\n",
       "    b'last indexing error',\n",
       "    b'N/A',\n",
       "    b'last indexing error key',\n",
       "    b'N/A']],\n",
       "  [b'identifier',\n",
       "   b'$.chunk_vector',\n",
       "   b'attribute',\n",
       "   b'chunk_vector',\n",
       "   b'Index Errors',\n",
       "   [b'indexing failures',\n",
       "    0,\n",
       "    b'last indexing error',\n",
       "    b'N/A',\n",
       "    b'last indexing error key',\n",
       "    b'N/A'],\n",
       "   b'memory',\n",
       "   0,\n",
       "   b'marked_deleted',\n",
       "   0]]}"
      ]
     },
     "execution_count": 48,
     "metadata": {},
     "output_type": "execute_result"
    }
   ],
   "source": [
    "client.ft(index_name).info()"
   ]
  },
  {
   "cell_type": "code",
   "execution_count": 49,
   "metadata": {
    "ExecuteTime": {
     "end_time": "2024-05-23T00:33:01.110976Z",
     "start_time": "2024-05-23T00:33:01.033354Z"
    },
    "id": "UawMtBgSuPp_"
   },
   "outputs": [],
   "source": [
    "# Write JSON data to the index\n",
    "\n",
    "batch_size = 200\n",
    "\n",
    "with client.pipeline(transaction=False) as pipe:\n",
    "    for i, chunk in enumerate(chunks):\n",
    "        redis_key = f\"{key_prefix}:{i}\"\n",
    "        data = {\n",
    "            'content': chunk.page_content,\n",
    "            'chunk_vector': chunk_embeddings[i].tolist() # notice that we don't need to convert JSON embeddings to bytes\n",
    "        }\n",
    "        #print(data)\n",
    "        pipe.json().set(redis_key, \"$\", data)\n",
    "        # mini batch\n",
    "        if i % batch_size == 0:\n",
    "            res = pipe.execute()\n",
    "\n",
    "    res = pipe.execute() # make sure to use mini batches if working with larger datasets"
   ]
  },
  {
   "cell_type": "code",
   "execution_count": 50,
   "metadata": {
    "ExecuteTime": {
     "end_time": "2024-05-23T00:33:01.116813Z",
     "start_time": "2024-05-23T00:33:01.111847Z"
    },
    "colab": {
     "base_uri": "https://localhost:8080/"
    },
    "id": "aoJljsrAuPp_",
    "outputId": "5a5cf3f8-a12c-46ca-82cd-86cadb330c6a"
   },
   "outputs": [
    {
     "data": {
      "text/plain": [
       "[{'content': \"NIKE, Inc.(Exact name of Registrant as specified in its charter)Oregon93-0584541(State or other jurisdiction of incorporation)(IRS Employer Identification No.)One Bowerman Drive, Beaverton, Oregon 97005-6453(Address of principal executive offices and zip code)(503) 671-6453(Registrant's telephone number, including area code)SECURITIES REGISTERED PURSUANT TO SECTION 12(B) OF THE ACT:Class B Common StockNKENew York Stock Exchange(Title of each class)(Trading symbol)(Name of each exchange on which registered)SECURITIES REGISTERED PURSUANT TO SECTION 12(G) OF THE ACT:NONE\\n\\nTable of ContentsUNITED STATESSECURITIES AND EXCHANGE COMMISSIONWashington, D.C. 20549FORM 10-K(Mark One)☑ ANNUAL REPORT PURSUANT TO SECTION 13 OR 15(D) OF THE SECURITIES EXCHANGE ACT OF 1934FOR THE FISCAL YEAR ENDED MAY 31, 2023OR☐ TRANSITION REPORT PURSUANT TO SECTION 13 OR 15(D) OF THE SECURITIES EXCHANGE ACT OF 1934FOR THE TRANSITION PERIOD FROM TO .Commission File No. 1-10635\\n\\nAs of November 30, 2022, the aggregate market values of the Registrant's Common Stock held by non-affiliates were:Class A$7,831,564,572 Class B136,467,702,472 $144,299,267,044\",\n",
       "  'chunk_vector': [-0.056670863181352615,\n",
       "   -0.12586459517478943,\n",
       "   -0.02023037895560265,\n",
       "   0.03353511169552803,\n",
       "   0.017537057399749756,\n",
       "   0.10135867446660995,\n",
       "   0.02259260416030884,\n",
       "   0.021559670567512512,\n",
       "   0.002761480864137411,\n",
       "   -0.03767365962266922,\n",
       "   0.03305833041667938,\n",
       "   0.08832376450300217,\n",
       "   -0.0756392553448677,\n",
       "   -0.06080101057887077,\n",
       "   0.002854186575859785,\n",
       "   0.04870469495654106,\n",
       "   -0.005000550299882889,\n",
       "   -0.02416669763624668,\n",
       "   -0.04732930660247803,\n",
       "   0.04897501319646835,\n",
       "   0.037974763661623,\n",
       "   -0.0899956226348877,\n",
       "   -0.01823788695037365,\n",
       "   0.0017626875778660178,\n",
       "   0.01107367966324091,\n",
       "   -0.014718102291226389,\n",
       "   -0.01865915022790432,\n",
       "   0.05676146224141121,\n",
       "   -0.04363131895661354,\n",
       "   -0.03063419833779335,\n",
       "   -0.06141027435660362,\n",
       "   -0.023794224485754967,\n",
       "   0.09562240540981291,\n",
       "   0.06056446954607963,\n",
       "   0.12266068905591963,\n",
       "   -0.047371428459882736,\n",
       "   0.0973980873823166,\n",
       "   -0.017735468223690987,\n",
       "   0.04360003024339676,\n",
       "   0.04426999390125275,\n",
       "   0.018488183617591854,\n",
       "   -0.07142844796180725,\n",
       "   -0.07320751249790192,\n",
       "   0.08033737540245056,\n",
       "   -0.023404251784086227,\n",
       "   0.04152987897396088,\n",
       "   -0.05420457944273949,\n",
       "   0.04738389700651169,\n",
       "   -0.011123290285468102,\n",
       "   0.08591603487730026,\n",
       "   0.004612111020833254,\n",
       "   0.011034775525331495,\n",
       "   0.02990603633224964,\n",
       "   0.02124852314591408,\n",
       "   -0.010513171553611755,\n",
       "   -0.02231665141880512,\n",
       "   -0.014929615892469885,\n",
       "   0.05105443671345711,\n",
       "   0.023746654391288757,\n",
       "   0.02685713954269886,\n",
       "   0.030929045751690865,\n",
       "   -0.0674777552485466,\n",
       "   -0.040775470435619354,\n",
       "   0.04416549578309059,\n",
       "   0.03371628746390343,\n",
       "   -0.001425658236257732,\n",
       "   0.0003441052685957402,\n",
       "   -0.034428756684064865,\n",
       "   0.030394548550248143,\n",
       "   -0.1174951270222664,\n",
       "   -0.02183778770267963,\n",
       "   -0.0008527752943336964,\n",
       "   -0.06410500407218933,\n",
       "   0.05267355963587761,\n",
       "   -0.07326839119195938,\n",
       "   0.0004584397247526794,\n",
       "   -0.021234946325421333,\n",
       "   0.09597326815128326,\n",
       "   0.011457109823822975,\n",
       "   -0.0738913044333458,\n",
       "   -0.0684734582901001,\n",
       "   0.02307271771132946,\n",
       "   0.0008886153809726238,\n",
       "   0.00600791210308671,\n",
       "   0.03784528374671936,\n",
       "   -0.017070753499865532,\n",
       "   -0.005627393256872892,\n",
       "   0.07103636860847473,\n",
       "   0.04077981784939766,\n",
       "   0.05234888941049576,\n",
       "   -0.060397855937480927,\n",
       "   -0.09088122844696044,\n",
       "   -0.02840319834649563,\n",
       "   -0.017262302339076996,\n",
       "   -0.03441241383552551,\n",
       "   0.032880999147892,\n",
       "   0.021988200023770332,\n",
       "   0.024645352736115456,\n",
       "   0.06655459105968475,\n",
       "   0.06205543130636215,\n",
       "   0.01859542541205883,\n",
       "   0.0583927258849144,\n",
       "   -0.09336560219526292,\n",
       "   -0.02356114611029625,\n",
       "   -0.07909709215164185,\n",
       "   -0.024232132360339165,\n",
       "   -0.04445868730545044,\n",
       "   0.08224666863679886,\n",
       "   -0.032002415508031845,\n",
       "   0.04204987734556198,\n",
       "   -0.06527018547058105,\n",
       "   0.008473937399685383,\n",
       "   -0.02712920866906643,\n",
       "   -0.01053011417388916,\n",
       "   -0.027222242206335068,\n",
       "   0.01336917094886303,\n",
       "   -0.008097917772829533,\n",
       "   0.034705229103565216,\n",
       "   0.07570591568946838,\n",
       "   -0.02500753477215767,\n",
       "   0.0693359524011612,\n",
       "   0.06710892170667648,\n",
       "   -0.016774000599980354,\n",
       "   -0.00816421303898096,\n",
       "   -0.1229599341750145,\n",
       "   -0.023435523733496662,\n",
       "   -0.020980432629585263,\n",
       "   2.8920072215456478e-33,\n",
       "   -0.007756624836474657,\n",
       "   0.029949793592095375,\n",
       "   0.0006049199146218598,\n",
       "   0.02531491033732891,\n",
       "   -0.04578744992613792,\n",
       "   0.034323494881391525,\n",
       "   0.03604554384946823,\n",
       "   0.03026900999248028,\n",
       "   -0.0674089789390564,\n",
       "   0.08413495868444443,\n",
       "   -0.03379209712147713,\n",
       "   0.026444699615240097,\n",
       "   0.03151773288846016,\n",
       "   -0.05369001254439354,\n",
       "   0.011198319494724274,\n",
       "   0.01764700561761856,\n",
       "   -0.013736268505454063,\n",
       "   0.02078266628086567,\n",
       "   0.08524646610021591,\n",
       "   -0.03991461172699928,\n",
       "   0.08561810851097107,\n",
       "   0.008009287528693676,\n",
       "   -0.044616006314754486,\n",
       "   -0.000877325190231204,\n",
       "   -0.05685441195964813,\n",
       "   0.047536835074424744,\n",
       "   -0.09179707616567612,\n",
       "   0.010552100837230682,\n",
       "   -0.013822697103023527,\n",
       "   0.049029797315597534,\n",
       "   0.06551230698823929,\n",
       "   -0.053205057978630066,\n",
       "   0.014185646548867226,\n",
       "   -0.03968517854809761,\n",
       "   0.007325676269829273,\n",
       "   -0.023553472012281414,\n",
       "   0.014770293608307838,\n",
       "   -0.03668823838233948,\n",
       "   0.037929363548755646,\n",
       "   -0.1050819605588913,\n",
       "   0.048592664301395416,\n",
       "   0.0019748855847865343,\n",
       "   -0.022424064576625824,\n",
       "   -0.004208935424685478,\n",
       "   -0.037291187793016434,\n",
       "   0.003250214271247387,\n",
       "   0.041869450360536575,\n",
       "   0.038363978266716,\n",
       "   0.11341862380504608,\n",
       "   -0.06577682495117188,\n",
       "   -0.03730098530650139,\n",
       "   0.04002479463815689,\n",
       "   0.042069051414728165,\n",
       "   -0.08245838433504105,\n",
       "   0.00904091540724039,\n",
       "   -0.10349878668785097,\n",
       "   -0.004565233830362558,\n",
       "   -0.03966491296887398,\n",
       "   -0.07796615362167358,\n",
       "   0.016843978315591812,\n",
       "   0.08251511305570602,\n",
       "   0.14472390711307526,\n",
       "   -0.035975947976112366,\n",
       "   -0.027582818642258644,\n",
       "   -0.1432270109653473,\n",
       "   -0.0004234095686115325,\n",
       "   0.002931945025920868,\n",
       "   0.02881697937846184,\n",
       "   -0.006337819155305624,\n",
       "   0.0012689752038568258,\n",
       "   0.0136337261646986,\n",
       "   0.05030452087521553,\n",
       "   -0.003925449680536985,\n",
       "   0.020909717306494713,\n",
       "   -0.0012657912448048592,\n",
       "   -0.06608081609010696,\n",
       "   0.07618517428636551,\n",
       "   0.04075179621577263,\n",
       "   0.011051768437027931,\n",
       "   -0.04548092186450958,\n",
       "   0.012023902498185636,\n",
       "   -0.04857920482754707,\n",
       "   0.01160662341862917,\n",
       "   0.03809412568807602,\n",
       "   -0.06867360323667526,\n",
       "   0.012910576537251472,\n",
       "   0.04937395080924034,\n",
       "   -3.452423698036e-05,\n",
       "   -0.05794959515333176,\n",
       "   -0.024727847427129745,\n",
       "   -0.022462831810116768,\n",
       "   -0.040013935416936874,\n",
       "   -0.10304447263479231,\n",
       "   0.07601625472307205,\n",
       "   0.014542687684297562,\n",
       "   -6.34566601125617e-33,\n",
       "   -0.008291337639093399,\n",
       "   -0.022984731942415237,\n",
       "   -0.03979486599564552,\n",
       "   -0.05903212726116181,\n",
       "   -0.13347840309143066,\n",
       "   0.022756660357117653,\n",
       "   0.049819767475128174,\n",
       "   -0.016104424372315407,\n",
       "   0.010915505699813366,\n",
       "   0.0389881506562233,\n",
       "   0.028716733679175377,\n",
       "   -0.046434417366981506,\n",
       "   0.005696590524166822,\n",
       "   0.004652535077184439,\n",
       "   -0.01425047218799591,\n",
       "   -0.010616160929203032,\n",
       "   -0.026929158717393875,\n",
       "   0.001724793459288776,\n",
       "   0.026934241876006126,\n",
       "   -0.02609831467270851,\n",
       "   0.01393011026084423,\n",
       "   0.05825934559106827,\n",
       "   0.007826239801943302,\n",
       "   0.024987610056996346,\n",
       "   -0.04101840406656265,\n",
       "   -0.0035547709558159113,\n",
       "   0.015434792265295982,\n",
       "   0.06376892328262329,\n",
       "   0.016719600185751915,\n",
       "   0.08905039727687836,\n",
       "   0.06964839994907379,\n",
       "   -0.07529444247484207,\n",
       "   0.005699077155441046,\n",
       "   0.06861797720193863,\n",
       "   -0.10595010221004486,\n",
       "   -0.10661573708057404,\n",
       "   0.021823368966579437,\n",
       "   -0.0671515092253685,\n",
       "   0.02130825072526932,\n",
       "   -0.0019705926533788443,\n",
       "   0.05812738090753555,\n",
       "   -0.01787881925702095,\n",
       "   -0.02366197854280472,\n",
       "   0.09346047788858414,\n",
       "   0.02942010574042797,\n",
       "   -0.02172264829277992,\n",
       "   0.030435653403401375,\n",
       "   -0.00749151362106204,\n",
       "   0.055121395736932755,\n",
       "   -0.0514482706785202,\n",
       "   -0.04662612080574035,\n",
       "   0.04261690378189087,\n",
       "   -0.023957716301083565,\n",
       "   0.05828267335891723,\n",
       "   -0.034384820610284805,\n",
       "   0.07207431644201279,\n",
       "   -0.04265357553958893,\n",
       "   -0.006364357657730579,\n",
       "   -0.07470571994781494,\n",
       "   -0.0063904328271746635,\n",
       "   0.03069062903523445,\n",
       "   0.1222451850771904,\n",
       "   -0.004424801096320152,\n",
       "   0.04868568107485771,\n",
       "   0.0868396982550621,\n",
       "   -0.0686492994427681,\n",
       "   -0.048484575003385544,\n",
       "   0.002819518791511655,\n",
       "   -0.0049752360209822655,\n",
       "   -0.05191999301314354,\n",
       "   0.03064853139221668,\n",
       "   -0.09687510877847672,\n",
       "   0.009077386930584908,\n",
       "   -0.0674675926566124,\n",
       "   -0.03797168657183647,\n",
       "   0.02119954489171505,\n",
       "   0.07340697199106216,\n",
       "   0.04885952174663544,\n",
       "   -0.11803692579269408,\n",
       "   0.05832231789827347,\n",
       "   -0.02952934429049492,\n",
       "   0.049509380012750626,\n",
       "   -0.04604699835181236,\n",
       "   0.03618071973323822,\n",
       "   0.0410393662750721,\n",
       "   0.05352158844470978,\n",
       "   0.052604373544454575,\n",
       "   0.0856231227517128,\n",
       "   0.0026002516970038414,\n",
       "   0.031224409118294716,\n",
       "   0.012743622995913029,\n",
       "   0.020341994240880013,\n",
       "   0.010382167063653467,\n",
       "   0.020454730838537216,\n",
       "   -0.0856122151017189,\n",
       "   -5.89812501061715e-08,\n",
       "   0.015666503459215164,\n",
       "   0.04773102328181267,\n",
       "   0.04018237814307213,\n",
       "   0.07513922452926636,\n",
       "   0.01828693225979805,\n",
       "   0.003330463543534279,\n",
       "   -0.009361340664327145,\n",
       "   -0.0550871305167675,\n",
       "   -0.07463198155164719,\n",
       "   0.07037796825170517,\n",
       "   0.024058451876044273,\n",
       "   0.03063919208943844,\n",
       "   -0.125073179602623,\n",
       "   -0.029691612347960472,\n",
       "   -0.07143373787403107,\n",
       "   -0.06270997226238251,\n",
       "   -0.09620550274848938,\n",
       "   0.027358459308743477,\n",
       "   -0.009426524862647057,\n",
       "   0.039405375719070435,\n",
       "   -0.047405436635017395,\n",
       "   -0.03965091332793236,\n",
       "   0.08029298484325409,\n",
       "   -0.04572898149490357,\n",
       "   -0.0402904637157917,\n",
       "   -0.02674412913620472,\n",
       "   0.01390018593519926,\n",
       "   -0.002131720772013068,\n",
       "   0.06928027421236038,\n",
       "   0.014831542037427424,\n",
       "   -0.05255091190338135,\n",
       "   0.031665850430727005,\n",
       "   0.03859751299023628,\n",
       "   -0.05489129573106766,\n",
       "   -0.08627984672784805,\n",
       "   0.04882005229592323,\n",
       "   -0.038550011813640594,\n",
       "   0.05275941267609596,\n",
       "   -0.026948891580104828,\n",
       "   0.02749190293252468,\n",
       "   -0.05098222568631172,\n",
       "   -0.08417003601789474,\n",
       "   -0.030793745070695877,\n",
       "   0.044774144887924194,\n",
       "   0.07428622990846634,\n",
       "   0.022937657311558723,\n",
       "   -0.09804148226976396,\n",
       "   -0.057366691529750824,\n",
       "   0.06321568042039871,\n",
       "   -0.05210113897919655,\n",
       "   -0.018872909247875217,\n",
       "   -0.029086893424391747,\n",
       "   -0.0076535539701581,\n",
       "   0.05157271772623062,\n",
       "   -0.03933115676045418,\n",
       "   0.034835197031497955,\n",
       "   -0.11509320139884947,\n",
       "   -0.044556763023138046,\n",
       "   -0.023494159802794456,\n",
       "   -0.04945981502532959,\n",
       "   -0.008853343315422535,\n",
       "   -0.10814478248357771,\n",
       "   -0.02837802842259407,\n",
       "   0.02926740050315857]}]"
      ]
     },
     "execution_count": 50,
     "metadata": {},
     "output_type": "execute_result"
    }
   ],
   "source": [
    "# Fetch the JSON doc\n",
    "client.json().get(f\"{key_prefix}:0\", \"$\")"
   ]
  },
  {
   "cell_type": "code",
   "execution_count": 51,
   "metadata": {
    "ExecuteTime": {
     "end_time": "2024-05-23T00:33:01.134687Z",
     "start_time": "2024-05-23T00:33:01.117739Z"
    },
    "colab": {
     "base_uri": "https://localhost:8080/",
     "height": 112
    },
    "id": "m5yxhMciuPp_",
    "outputId": "9eb4b5cc-3ca7-4651-8a01-05549a8c51ee"
   },
   "outputs": [
    {
     "data": {
      "text/html": [
       "<div>\n",
       "<style scoped>\n",
       "    .dataframe tbody tr th:only-of-type {\n",
       "        vertical-align: middle;\n",
       "    }\n",
       "\n",
       "    .dataframe tbody tr th {\n",
       "        vertical-align: top;\n",
       "    }\n",
       "\n",
       "    .dataframe thead th {\n",
       "        text-align: right;\n",
       "    }\n",
       "</style>\n",
       "<table border=\"1\" class=\"dataframe\">\n",
       "  <thead>\n",
       "    <tr style=\"text-align: right;\">\n",
       "      <th></th>\n",
       "      <th>id</th>\n",
       "      <th>vector_distance</th>\n",
       "      <th>content</th>\n",
       "    </tr>\n",
       "  </thead>\n",
       "  <tbody>\n",
       "    <tr>\n",
       "      <th>0</th>\n",
       "      <td>doc:redispy:81</td>\n",
       "      <td>0.363789558411</td>\n",
       "      <td>NIKE Brand revenues, which represented over 90...</td>\n",
       "    </tr>\n",
       "    <tr>\n",
       "      <th>1</th>\n",
       "      <td>doc:redispy:74</td>\n",
       "      <td>0.453679800034</td>\n",
       "      <td>NIKE designs, develops, markets and sells athl...</td>\n",
       "    </tr>\n",
       "  </tbody>\n",
       "</table>\n",
       "</div>"
      ],
      "text/plain": [
       "               id vector_distance  \\\n",
       "0  doc:redispy:81  0.363789558411   \n",
       "1  doc:redispy:74  0.453679800034   \n",
       "\n",
       "                                             content  \n",
       "0  NIKE Brand revenues, which represented over 90...  \n",
       "1  NIKE designs, develops, markets and sells athl...  "
      ]
     },
     "execution_count": 51,
     "metadata": {},
     "output_type": "execute_result"
    }
   ],
   "source": [
    "# And now you can perform the same kinds of queries\n",
    "query = (\n",
    "    Query(\"@content:profit=>[KNN 2 @chunk_vector $vector as vector_distance]\")\n",
    "     .sort_by(\"vector_distance\")\n",
    "     .return_fields(\"content\", \"vector_distance\")\n",
    "     .paging(0, 2)\n",
    "     .dialect(2)\n",
    ")\n",
    "\n",
    "query_params = {\n",
    "    \"vector\": encode_one(_input)\n",
    "\n",
    "}\n",
    "res = client.ft(index_name).search(query, query_params)\n",
    "\n",
    "table_view(res)"
   ]
  },
  {
   "cell_type": "markdown",
   "metadata": {
    "id": "5QKo9u3euPqA"
   },
   "source": [
    "## Cleanup\n",
    "Clean up the index and data."
   ]
  },
  {
   "cell_type": "code",
   "execution_count": 52,
   "metadata": {
    "ExecuteTime": {
     "end_time": "2024-05-23T00:33:01.146461Z",
     "start_time": "2024-05-23T00:33:01.135750Z"
    },
    "id": "xgACLAd0uPqA"
   },
   "outputs": [
    {
     "data": {
      "text/plain": [
       "b'OK'"
      ]
     },
     "execution_count": 52,
     "metadata": {},
     "output_type": "execute_result"
    }
   ],
   "source": [
    "client.ft(index_name).dropindex(True)"
   ]
  },
  {
   "cell_type": "code",
   "execution_count": 83,
   "metadata": {
    "ExecuteTime": {
     "end_time": "2024-05-23T00:33:01.150348Z",
     "start_time": "2024-05-23T00:33:01.147619Z"
    }
   },
   "outputs": [],
   "source": []
  }
 ],
 "metadata": {
  "accelerator": "GPU",
  "colab": {
   "gpuType": "T4",
   "provenance": []
  },
  "kernelspec": {
   "display_name": "Python 3 (ipykernel)",
   "language": "python",
   "name": "python3"
  },
  "language_info": {
   "codemirror_mode": {
    "name": "ipython",
    "version": 3
   },
   "file_extension": ".py",
   "mimetype": "text/x-python",
   "name": "python",
   "nbconvert_exporter": "python",
   "pygments_lexer": "ipython3",
   "version": "3.9.6"
  }
 },
 "nbformat": 4,
 "nbformat_minor": 4
}
