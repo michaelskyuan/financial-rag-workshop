{
 "cells": [
  {
   "cell_type": "markdown",
   "metadata": {
    "id": "R2-i8jBl9GRH"
   },
   "source": [
    "<div align=\"center\">\n",
    "    <div><img src=\"../assets/redis_logo.svg\" style=\"width: 130px\"> </div>\n",
    "    <div style=\"display: inline-block; text-align: center; margin-bottom: 10px;\">\n",
    "        <span style=\"font-size: 36px;\"><b>Basic RAG with LangChain</b></span>\n",
    "        <br />\n",
    "    </div>\n",
    "    <br />\n",
    "</div>"
   ]
  },
  {
   "cell_type": "markdown",
   "metadata": {
    "id": "ctOVb_LZ1vmk"
   },
   "source": "## Environment Setup"
  },
  {
   "metadata": {
    "ExecuteTime": {
     "end_time": "2024-06-20T20:11:04.938096Z",
     "start_time": "2024-06-20T20:11:03.801586Z"
    }
   },
   "cell_type": "code",
   "source": "%pip install python-dotenv",
   "outputs": [
    {
     "name": "stdout",
     "output_type": "stream",
     "text": [
      "Requirement already satisfied: python-dotenv in /Library/Frameworks/Python.framework/Versions/3.12/lib/python3.12/site-packages (1.0.1)\r\n",
      "Note: you may need to restart the kernel to use updated packages.\n"
     ]
    }
   ],
   "execution_count": 1
  },
  {
   "metadata": {
    "ExecuteTime": {
     "end_time": "2024-06-20T20:11:04.947981Z",
     "start_time": "2024-06-20T20:11:04.939344Z"
    }
   },
   "cell_type": "code",
   "source": [
    "import sys\n",
    "import os\n",
    "import warnings\n",
    "import dotenv\n",
    "# load env vars from .env file\n",
    "dotenv.load_dotenv()\n",
    "\n",
    "warnings.filterwarnings('ignore')\n",
    "dir_path = os.getcwd()\n",
    "parent_directory = os.path.dirname(dir_path)\n",
    "sys.path.insert(0, f'{parent_directory}/helpers')\n",
    "os.environ[\"ROOT_DIR\"] = parent_directory\n",
    "REDIS_URL = os.getenv(\"REDIS_URL\")\n",
    "\n",
    "print(\"========== ENVIRONMENT VARIABLES ==========\")\n",
    "print(f\"Current Directory={dir_path}\")\n",
    "print(f\"Parent Directory={parent_directory}\")\n",
    "print(f\"System path={sys.path}\")\n",
    "print(\"---------------------------------\")\n",
    "print(f'LLM Engine: {os.getenv(\"LOCAL_LLM_ENGINE\")}')\n",
    "print(f'LOCAL_VLLM_MODEL: {os.getenv(\"LOCAL_VLLM_MODEL\")}')\n",
    "print(f'LOCAL_OLLAMA_MODEL: {os.getenv(\"LOCAL_OLLAMA_MODEL\")}')\n",
    "print(f'VLLM_URL: {os.getenv(\"VLLM_URL\")}')\n",
    "print(\"---------------------------------\")\n",
    "print(f\"NLTK_DATA={os.getenv('NLTK_DATA')}\")"
   ],
   "outputs": [
    {
     "name": "stdout",
     "output_type": "stream",
     "text": [
      "/Users/rouzbeh.farahmand/PycharmProjects/boa-financial-rag-workshop/1_getting_started\n",
      "/Users/rouzbeh.farahmand/PycharmProjects/boa-financial-rag-workshop\n",
      "['/Users/rouzbeh.farahmand/PycharmProjects/boa-financial-rag-workshop/helpers', '/Users/rouzbeh.farahmand/PycharmProjects/boa-financial-rag-workshop', '/Library/Frameworks/Python.framework/Versions/3.12/lib/python312.zip', '/Library/Frameworks/Python.framework/Versions/3.12/lib/python3.12', '/Library/Frameworks/Python.framework/Versions/3.12/lib/python3.12/lib-dynload', '', '/Library/Frameworks/Python.framework/Versions/3.12/lib/python3.12/site-packages']\n"
     ]
    }
   ],
   "execution_count": 2
  },
  {
   "metadata": {},
   "cell_type": "markdown",
   "source": "### Install Python Dependencies"
  },
  {
   "metadata": {
    "ExecuteTime": {
     "end_time": "2024-06-20T20:11:07.168751Z",
     "start_time": "2024-06-20T20:11:04.948796Z"
    }
   },
   "cell_type": "code",
   "source": "%pip install -r $ROOT_DIR/requirements.txt",
   "outputs": [
    {
     "name": "stdout",
     "output_type": "stream",
     "text": [
      "Requirement already satisfied: python-dotenv in /Library/Frameworks/Python.framework/Versions/3.12/lib/python3.12/site-packages (from -r /Users/rouzbeh.farahmand/PycharmProjects/boa-financial-rag-workshop/requirements.txt (line 1)) (1.0.1)\r\n",
      "Requirement already satisfied: tiktoken in /Library/Frameworks/Python.framework/Versions/3.12/lib/python3.12/site-packages (from -r /Users/rouzbeh.farahmand/PycharmProjects/boa-financial-rag-workshop/requirements.txt (line 2)) (0.7.0)\r\n",
      "Requirement already satisfied: langchain in /Library/Frameworks/Python.framework/Versions/3.12/lib/python3.12/site-packages (from -r /Users/rouzbeh.farahmand/PycharmProjects/boa-financial-rag-workshop/requirements.txt (line 3)) (0.2.1)\r\n",
      "Requirement already satisfied: langchain-community in /Library/Frameworks/Python.framework/Versions/3.12/lib/python3.12/site-packages (from -r /Users/rouzbeh.farahmand/PycharmProjects/boa-financial-rag-workshop/requirements.txt (line 4)) (0.2.1)\r\n",
      "Requirement already satisfied: sentence-transformers in /Library/Frameworks/Python.framework/Versions/3.12/lib/python3.12/site-packages (from -r /Users/rouzbeh.farahmand/PycharmProjects/boa-financial-rag-workshop/requirements.txt (line 6)) (2.7.0)\r\n",
      "Requirement already satisfied: pandas in /Library/Frameworks/Python.framework/Versions/3.12/lib/python3.12/site-packages (from -r /Users/rouzbeh.farahmand/PycharmProjects/boa-financial-rag-workshop/requirements.txt (line 7)) (2.2.2)\r\n",
      "Requirement already satisfied: pdf2image in /Library/Frameworks/Python.framework/Versions/3.12/lib/python3.12/site-packages (from -r /Users/rouzbeh.farahmand/PycharmProjects/boa-financial-rag-workshop/requirements.txt (line 8)) (1.17.0)\r\n",
      "Requirement already satisfied: spacy in /Library/Frameworks/Python.framework/Versions/3.12/lib/python3.12/site-packages (from -r /Users/rouzbeh.farahmand/PycharmProjects/boa-financial-rag-workshop/requirements.txt (line 9)) (3.7.4)\r\n",
      "Requirement already satisfied: langgraph in /Library/Frameworks/Python.framework/Versions/3.12/lib/python3.12/site-packages (from -r /Users/rouzbeh.farahmand/PycharmProjects/boa-financial-rag-workshop/requirements.txt (line 10)) (0.0.59)\r\n",
      "Requirement already satisfied: redis in /Library/Frameworks/Python.framework/Versions/3.12/lib/python3.12/site-packages (from -r /Users/rouzbeh.farahmand/PycharmProjects/boa-financial-rag-workshop/requirements.txt (line 11)) (5.0.3)\r\n",
      "Requirement already satisfied: redisvl in /Library/Frameworks/Python.framework/Versions/3.12/lib/python3.12/site-packages (from -r /Users/rouzbeh.farahmand/PycharmProjects/boa-financial-rag-workshop/requirements.txt (line 12)) (0.1.3)\r\n",
      "Requirement already satisfied: langchain-openai in /Library/Frameworks/Python.framework/Versions/3.12/lib/python3.12/site-packages (from -r /Users/rouzbeh.farahmand/PycharmProjects/boa-financial-rag-workshop/requirements.txt (line 13)) (0.1.8)\r\n",
      "Requirement already satisfied: openai in /Library/Frameworks/Python.framework/Versions/3.12/lib/python3.12/site-packages (from -r /Users/rouzbeh.farahmand/PycharmProjects/boa-financial-rag-workshop/requirements.txt (line 14)) (1.30.5)\r\n",
      "Requirement already satisfied: unstructured[pdf] in /Library/Frameworks/Python.framework/Versions/3.12/lib/python3.12/site-packages (from -r /Users/rouzbeh.farahmand/PycharmProjects/boa-financial-rag-workshop/requirements.txt (line 5)) (0.14.3)\r\n",
      "Requirement already satisfied: regex>=2022.1.18 in /Library/Frameworks/Python.framework/Versions/3.12/lib/python3.12/site-packages (from tiktoken->-r /Users/rouzbeh.farahmand/PycharmProjects/boa-financial-rag-workshop/requirements.txt (line 2)) (2024.4.16)\r\n",
      "Requirement already satisfied: requests>=2.26.0 in /Library/Frameworks/Python.framework/Versions/3.12/lib/python3.12/site-packages (from tiktoken->-r /Users/rouzbeh.farahmand/PycharmProjects/boa-financial-rag-workshop/requirements.txt (line 2)) (2.31.0)\r\n",
      "Requirement already satisfied: PyYAML>=5.3 in /Library/Frameworks/Python.framework/Versions/3.12/lib/python3.12/site-packages (from langchain->-r /Users/rouzbeh.farahmand/PycharmProjects/boa-financial-rag-workshop/requirements.txt (line 3)) (6.0.1)\r\n",
      "Requirement already satisfied: SQLAlchemy<3,>=1.4 in /Library/Frameworks/Python.framework/Versions/3.12/lib/python3.12/site-packages (from langchain->-r /Users/rouzbeh.farahmand/PycharmProjects/boa-financial-rag-workshop/requirements.txt (line 3)) (2.0.30)\r\n",
      "Requirement already satisfied: aiohttp<4.0.0,>=3.8.3 in /Library/Frameworks/Python.framework/Versions/3.12/lib/python3.12/site-packages (from langchain->-r /Users/rouzbeh.farahmand/PycharmProjects/boa-financial-rag-workshop/requirements.txt (line 3)) (3.9.5)\r\n",
      "Requirement already satisfied: langchain-core<0.3.0,>=0.2.0 in /Library/Frameworks/Python.framework/Versions/3.12/lib/python3.12/site-packages (from langchain->-r /Users/rouzbeh.farahmand/PycharmProjects/boa-financial-rag-workshop/requirements.txt (line 3)) (0.2.2)\r\n",
      "Requirement already satisfied: langchain-text-splitters<0.3.0,>=0.2.0 in /Library/Frameworks/Python.framework/Versions/3.12/lib/python3.12/site-packages (from langchain->-r /Users/rouzbeh.farahmand/PycharmProjects/boa-financial-rag-workshop/requirements.txt (line 3)) (0.2.0)\r\n",
      "Requirement already satisfied: langsmith<0.2.0,>=0.1.17 in /Library/Frameworks/Python.framework/Versions/3.12/lib/python3.12/site-packages (from langchain->-r /Users/rouzbeh.farahmand/PycharmProjects/boa-financial-rag-workshop/requirements.txt (line 3)) (0.1.65)\r\n",
      "Requirement already satisfied: numpy<2,>=1 in /Library/Frameworks/Python.framework/Versions/3.12/lib/python3.12/site-packages (from langchain->-r /Users/rouzbeh.farahmand/PycharmProjects/boa-financial-rag-workshop/requirements.txt (line 3)) (1.26.4)\r\n",
      "Requirement already satisfied: pydantic<3,>=1 in /Library/Frameworks/Python.framework/Versions/3.12/lib/python3.12/site-packages (from langchain->-r /Users/rouzbeh.farahmand/PycharmProjects/boa-financial-rag-workshop/requirements.txt (line 3)) (2.7.0)\r\n",
      "Requirement already satisfied: tenacity<9.0.0,>=8.1.0 in /Library/Frameworks/Python.framework/Versions/3.12/lib/python3.12/site-packages (from langchain->-r /Users/rouzbeh.farahmand/PycharmProjects/boa-financial-rag-workshop/requirements.txt (line 3)) (8.2.3)\r\n",
      "Requirement already satisfied: dataclasses-json<0.7,>=0.5.7 in /Library/Frameworks/Python.framework/Versions/3.12/lib/python3.12/site-packages (from langchain-community->-r /Users/rouzbeh.farahmand/PycharmProjects/boa-financial-rag-workshop/requirements.txt (line 4)) (0.6.6)\r\n",
      "Requirement already satisfied: chardet in /Library/Frameworks/Python.framework/Versions/3.12/lib/python3.12/site-packages (from unstructured[pdf]->-r /Users/rouzbeh.farahmand/PycharmProjects/boa-financial-rag-workshop/requirements.txt (line 5)) (5.2.0)\r\n",
      "Requirement already satisfied: filetype in /Library/Frameworks/Python.framework/Versions/3.12/lib/python3.12/site-packages (from unstructured[pdf]->-r /Users/rouzbeh.farahmand/PycharmProjects/boa-financial-rag-workshop/requirements.txt (line 5)) (1.2.0)\r\n",
      "Requirement already satisfied: python-magic in /Library/Frameworks/Python.framework/Versions/3.12/lib/python3.12/site-packages (from unstructured[pdf]->-r /Users/rouzbeh.farahmand/PycharmProjects/boa-financial-rag-workshop/requirements.txt (line 5)) (0.4.27)\r\n",
      "Requirement already satisfied: lxml in /Library/Frameworks/Python.framework/Versions/3.12/lib/python3.12/site-packages (from unstructured[pdf]->-r /Users/rouzbeh.farahmand/PycharmProjects/boa-financial-rag-workshop/requirements.txt (line 5)) (5.2.2)\r\n",
      "Requirement already satisfied: nltk in /Library/Frameworks/Python.framework/Versions/3.12/lib/python3.12/site-packages (from unstructured[pdf]->-r /Users/rouzbeh.farahmand/PycharmProjects/boa-financial-rag-workshop/requirements.txt (line 5)) (3.8.1)\r\n",
      "Requirement already satisfied: tabulate in /Library/Frameworks/Python.framework/Versions/3.12/lib/python3.12/site-packages (from unstructured[pdf]->-r /Users/rouzbeh.farahmand/PycharmProjects/boa-financial-rag-workshop/requirements.txt (line 5)) (0.9.0)\r\n",
      "Requirement already satisfied: beautifulsoup4 in /Library/Frameworks/Python.framework/Versions/3.12/lib/python3.12/site-packages (from unstructured[pdf]->-r /Users/rouzbeh.farahmand/PycharmProjects/boa-financial-rag-workshop/requirements.txt (line 5)) (4.12.3)\r\n",
      "Requirement already satisfied: emoji in /Library/Frameworks/Python.framework/Versions/3.12/lib/python3.12/site-packages (from unstructured[pdf]->-r /Users/rouzbeh.farahmand/PycharmProjects/boa-financial-rag-workshop/requirements.txt (line 5)) (2.12.1)\r\n",
      "Requirement already satisfied: python-iso639 in /Library/Frameworks/Python.framework/Versions/3.12/lib/python3.12/site-packages (from unstructured[pdf]->-r /Users/rouzbeh.farahmand/PycharmProjects/boa-financial-rag-workshop/requirements.txt (line 5)) (2024.4.27)\r\n",
      "Requirement already satisfied: langdetect in /Library/Frameworks/Python.framework/Versions/3.12/lib/python3.12/site-packages (from unstructured[pdf]->-r /Users/rouzbeh.farahmand/PycharmProjects/boa-financial-rag-workshop/requirements.txt (line 5)) (1.0.9)\r\n",
      "Requirement already satisfied: rapidfuzz in /Library/Frameworks/Python.framework/Versions/3.12/lib/python3.12/site-packages (from unstructured[pdf]->-r /Users/rouzbeh.farahmand/PycharmProjects/boa-financial-rag-workshop/requirements.txt (line 5)) (3.9.2)\r\n",
      "Requirement already satisfied: backoff in /Library/Frameworks/Python.framework/Versions/3.12/lib/python3.12/site-packages (from unstructured[pdf]->-r /Users/rouzbeh.farahmand/PycharmProjects/boa-financial-rag-workshop/requirements.txt (line 5)) (2.2.1)\r\n",
      "Requirement already satisfied: typing-extensions in /Library/Frameworks/Python.framework/Versions/3.12/lib/python3.12/site-packages (from unstructured[pdf]->-r /Users/rouzbeh.farahmand/PycharmProjects/boa-financial-rag-workshop/requirements.txt (line 5)) (4.11.0)\r\n",
      "Requirement already satisfied: unstructured-client in /Library/Frameworks/Python.framework/Versions/3.12/lib/python3.12/site-packages (from unstructured[pdf]->-r /Users/rouzbeh.farahmand/PycharmProjects/boa-financial-rag-workshop/requirements.txt (line 5)) (0.22.0)\r\n",
      "Requirement already satisfied: wrapt in /Library/Frameworks/Python.framework/Versions/3.12/lib/python3.12/site-packages (from unstructured[pdf]->-r /Users/rouzbeh.farahmand/PycharmProjects/boa-financial-rag-workshop/requirements.txt (line 5)) (1.16.0)\r\n",
      "Requirement already satisfied: onnx in /Library/Frameworks/Python.framework/Versions/3.12/lib/python3.12/site-packages (from unstructured[pdf]->-r /Users/rouzbeh.farahmand/PycharmProjects/boa-financial-rag-workshop/requirements.txt (line 5)) (1.16.1)\r\n",
      "Requirement already satisfied: pdfminer.six in /Library/Frameworks/Python.framework/Versions/3.12/lib/python3.12/site-packages (from unstructured[pdf]->-r /Users/rouzbeh.farahmand/PycharmProjects/boa-financial-rag-workshop/requirements.txt (line 5)) (20231228)\r\n",
      "Requirement already satisfied: pikepdf in /Library/Frameworks/Python.framework/Versions/3.12/lib/python3.12/site-packages (from unstructured[pdf]->-r /Users/rouzbeh.farahmand/PycharmProjects/boa-financial-rag-workshop/requirements.txt (line 5)) (8.15.1)\r\n",
      "Requirement already satisfied: pillow-heif in /Library/Frameworks/Python.framework/Versions/3.12/lib/python3.12/site-packages (from unstructured[pdf]->-r /Users/rouzbeh.farahmand/PycharmProjects/boa-financial-rag-workshop/requirements.txt (line 5)) (0.16.0)\r\n",
      "Requirement already satisfied: pypdf in /Library/Frameworks/Python.framework/Versions/3.12/lib/python3.12/site-packages (from unstructured[pdf]->-r /Users/rouzbeh.farahmand/PycharmProjects/boa-financial-rag-workshop/requirements.txt (line 5)) (4.2.0)\r\n",
      "Requirement already satisfied: pytesseract in /Library/Frameworks/Python.framework/Versions/3.12/lib/python3.12/site-packages (from unstructured[pdf]->-r /Users/rouzbeh.farahmand/PycharmProjects/boa-financial-rag-workshop/requirements.txt (line 5)) (0.3.10)\r\n",
      "Requirement already satisfied: google-cloud-vision in /Library/Frameworks/Python.framework/Versions/3.12/lib/python3.12/site-packages (from unstructured[pdf]->-r /Users/rouzbeh.farahmand/PycharmProjects/boa-financial-rag-workshop/requirements.txt (line 5)) (3.7.2)\r\n",
      "Requirement already satisfied: effdet in /Library/Frameworks/Python.framework/Versions/3.12/lib/python3.12/site-packages (from unstructured[pdf]->-r /Users/rouzbeh.farahmand/PycharmProjects/boa-financial-rag-workshop/requirements.txt (line 5)) (0.4.1)\r\n",
      "Requirement already satisfied: unstructured-inference==0.7.33 in /Library/Frameworks/Python.framework/Versions/3.12/lib/python3.12/site-packages (from unstructured[pdf]->-r /Users/rouzbeh.farahmand/PycharmProjects/boa-financial-rag-workshop/requirements.txt (line 5)) (0.7.33)\r\n",
      "Requirement already satisfied: unstructured.pytesseract>=0.3.12 in /Library/Frameworks/Python.framework/Versions/3.12/lib/python3.12/site-packages (from unstructured[pdf]->-r /Users/rouzbeh.farahmand/PycharmProjects/boa-financial-rag-workshop/requirements.txt (line 5)) (0.3.12)\r\n",
      "Requirement already satisfied: layoutparser in /Library/Frameworks/Python.framework/Versions/3.12/lib/python3.12/site-packages (from unstructured-inference==0.7.33->unstructured[pdf]->-r /Users/rouzbeh.farahmand/PycharmProjects/boa-financial-rag-workshop/requirements.txt (line 5)) (0.3.4)\r\n",
      "Requirement already satisfied: python-multipart in /Library/Frameworks/Python.framework/Versions/3.12/lib/python3.12/site-packages (from unstructured-inference==0.7.33->unstructured[pdf]->-r /Users/rouzbeh.farahmand/PycharmProjects/boa-financial-rag-workshop/requirements.txt (line 5)) (0.0.9)\r\n",
      "Requirement already satisfied: huggingface-hub in /Library/Frameworks/Python.framework/Versions/3.12/lib/python3.12/site-packages (from unstructured-inference==0.7.33->unstructured[pdf]->-r /Users/rouzbeh.farahmand/PycharmProjects/boa-financial-rag-workshop/requirements.txt (line 5)) (0.22.2)\r\n",
      "Requirement already satisfied: opencv-python!=4.7.0.68 in /Library/Frameworks/Python.framework/Versions/3.12/lib/python3.12/site-packages (from unstructured-inference==0.7.33->unstructured[pdf]->-r /Users/rouzbeh.farahmand/PycharmProjects/boa-financial-rag-workshop/requirements.txt (line 5)) (4.9.0.80)\r\n",
      "Requirement already satisfied: onnxruntime>=1.17.0 in /Library/Frameworks/Python.framework/Versions/3.12/lib/python3.12/site-packages (from unstructured-inference==0.7.33->unstructured[pdf]->-r /Users/rouzbeh.farahmand/PycharmProjects/boa-financial-rag-workshop/requirements.txt (line 5)) (1.18.0)\r\n",
      "Requirement already satisfied: matplotlib in /Library/Frameworks/Python.framework/Versions/3.12/lib/python3.12/site-packages (from unstructured-inference==0.7.33->unstructured[pdf]->-r /Users/rouzbeh.farahmand/PycharmProjects/boa-financial-rag-workshop/requirements.txt (line 5)) (3.9.0)\r\n",
      "Requirement already satisfied: torch in /Library/Frameworks/Python.framework/Versions/3.12/lib/python3.12/site-packages (from unstructured-inference==0.7.33->unstructured[pdf]->-r /Users/rouzbeh.farahmand/PycharmProjects/boa-financial-rag-workshop/requirements.txt (line 5)) (2.3.0)\r\n",
      "Requirement already satisfied: timm in /Library/Frameworks/Python.framework/Versions/3.12/lib/python3.12/site-packages (from unstructured-inference==0.7.33->unstructured[pdf]->-r /Users/rouzbeh.farahmand/PycharmProjects/boa-financial-rag-workshop/requirements.txt (line 5)) (1.0.3)\r\n",
      "Requirement already satisfied: transformers>=4.25.1 in /Library/Frameworks/Python.framework/Versions/3.12/lib/python3.12/site-packages (from unstructured-inference==0.7.33->unstructured[pdf]->-r /Users/rouzbeh.farahmand/PycharmProjects/boa-financial-rag-workshop/requirements.txt (line 5)) (4.40.0)\r\n",
      "Requirement already satisfied: tqdm in /Library/Frameworks/Python.framework/Versions/3.12/lib/python3.12/site-packages (from sentence-transformers->-r /Users/rouzbeh.farahmand/PycharmProjects/boa-financial-rag-workshop/requirements.txt (line 6)) (4.66.2)\r\n",
      "Requirement already satisfied: scikit-learn in /Library/Frameworks/Python.framework/Versions/3.12/lib/python3.12/site-packages (from sentence-transformers->-r /Users/rouzbeh.farahmand/PycharmProjects/boa-financial-rag-workshop/requirements.txt (line 6)) (1.4.2)\r\n",
      "Requirement already satisfied: scipy in /Library/Frameworks/Python.framework/Versions/3.12/lib/python3.12/site-packages (from sentence-transformers->-r /Users/rouzbeh.farahmand/PycharmProjects/boa-financial-rag-workshop/requirements.txt (line 6)) (1.13.0)\r\n",
      "Requirement already satisfied: Pillow in /Library/Frameworks/Python.framework/Versions/3.12/lib/python3.12/site-packages (from sentence-transformers->-r /Users/rouzbeh.farahmand/PycharmProjects/boa-financial-rag-workshop/requirements.txt (line 6)) (10.3.0)\r\n",
      "Requirement already satisfied: python-dateutil>=2.8.2 in /Library/Frameworks/Python.framework/Versions/3.12/lib/python3.12/site-packages (from pandas->-r /Users/rouzbeh.farahmand/PycharmProjects/boa-financial-rag-workshop/requirements.txt (line 7)) (2.9.0.post0)\r\n",
      "Requirement already satisfied: pytz>=2020.1 in /Library/Frameworks/Python.framework/Versions/3.12/lib/python3.12/site-packages (from pandas->-r /Users/rouzbeh.farahmand/PycharmProjects/boa-financial-rag-workshop/requirements.txt (line 7)) (2024.1)\r\n",
      "Requirement already satisfied: tzdata>=2022.7 in /Library/Frameworks/Python.framework/Versions/3.12/lib/python3.12/site-packages (from pandas->-r /Users/rouzbeh.farahmand/PycharmProjects/boa-financial-rag-workshop/requirements.txt (line 7)) (2024.1)\r\n",
      "Requirement already satisfied: spacy-legacy<3.1.0,>=3.0.11 in /Library/Frameworks/Python.framework/Versions/3.12/lib/python3.12/site-packages (from spacy->-r /Users/rouzbeh.farahmand/PycharmProjects/boa-financial-rag-workshop/requirements.txt (line 9)) (3.0.12)\r\n",
      "Requirement already satisfied: spacy-loggers<2.0.0,>=1.0.0 in /Library/Frameworks/Python.framework/Versions/3.12/lib/python3.12/site-packages (from spacy->-r /Users/rouzbeh.farahmand/PycharmProjects/boa-financial-rag-workshop/requirements.txt (line 9)) (1.0.5)\r\n",
      "Requirement already satisfied: murmurhash<1.1.0,>=0.28.0 in /Library/Frameworks/Python.framework/Versions/3.12/lib/python3.12/site-packages (from spacy->-r /Users/rouzbeh.farahmand/PycharmProjects/boa-financial-rag-workshop/requirements.txt (line 9)) (1.0.10)\r\n",
      "Requirement already satisfied: cymem<2.1.0,>=2.0.2 in /Library/Frameworks/Python.framework/Versions/3.12/lib/python3.12/site-packages (from spacy->-r /Users/rouzbeh.farahmand/PycharmProjects/boa-financial-rag-workshop/requirements.txt (line 9)) (2.0.8)\r\n",
      "Requirement already satisfied: preshed<3.1.0,>=3.0.2 in /Library/Frameworks/Python.framework/Versions/3.12/lib/python3.12/site-packages (from spacy->-r /Users/rouzbeh.farahmand/PycharmProjects/boa-financial-rag-workshop/requirements.txt (line 9)) (3.0.9)\r\n",
      "Requirement already satisfied: thinc<8.3.0,>=8.2.2 in /Library/Frameworks/Python.framework/Versions/3.12/lib/python3.12/site-packages (from spacy->-r /Users/rouzbeh.farahmand/PycharmProjects/boa-financial-rag-workshop/requirements.txt (line 9)) (8.2.3)\r\n",
      "Requirement already satisfied: wasabi<1.2.0,>=0.9.1 in /Library/Frameworks/Python.framework/Versions/3.12/lib/python3.12/site-packages (from spacy->-r /Users/rouzbeh.farahmand/PycharmProjects/boa-financial-rag-workshop/requirements.txt (line 9)) (1.1.2)\r\n",
      "Requirement already satisfied: srsly<3.0.0,>=2.4.3 in /Library/Frameworks/Python.framework/Versions/3.12/lib/python3.12/site-packages (from spacy->-r /Users/rouzbeh.farahmand/PycharmProjects/boa-financial-rag-workshop/requirements.txt (line 9)) (2.4.8)\r\n",
      "Requirement already satisfied: catalogue<2.1.0,>=2.0.6 in /Library/Frameworks/Python.framework/Versions/3.12/lib/python3.12/site-packages (from spacy->-r /Users/rouzbeh.farahmand/PycharmProjects/boa-financial-rag-workshop/requirements.txt (line 9)) (2.0.10)\r\n",
      "Requirement already satisfied: weasel<0.4.0,>=0.1.0 in /Library/Frameworks/Python.framework/Versions/3.12/lib/python3.12/site-packages (from spacy->-r /Users/rouzbeh.farahmand/PycharmProjects/boa-financial-rag-workshop/requirements.txt (line 9)) (0.3.4)\r\n",
      "Requirement already satisfied: typer<0.10.0,>=0.3.0 in /Library/Frameworks/Python.framework/Versions/3.12/lib/python3.12/site-packages (from spacy->-r /Users/rouzbeh.farahmand/PycharmProjects/boa-financial-rag-workshop/requirements.txt (line 9)) (0.9.4)\r\n",
      "Requirement already satisfied: smart-open<7.0.0,>=5.2.1 in /Library/Frameworks/Python.framework/Versions/3.12/lib/python3.12/site-packages (from spacy->-r /Users/rouzbeh.farahmand/PycharmProjects/boa-financial-rag-workshop/requirements.txt (line 9)) (6.4.0)\r\n",
      "Requirement already satisfied: jinja2 in /Library/Frameworks/Python.framework/Versions/3.12/lib/python3.12/site-packages (from spacy->-r /Users/rouzbeh.farahmand/PycharmProjects/boa-financial-rag-workshop/requirements.txt (line 9)) (3.1.3)\r\n",
      "Requirement already satisfied: setuptools in /Library/Frameworks/Python.framework/Versions/3.12/lib/python3.12/site-packages (from spacy->-r /Users/rouzbeh.farahmand/PycharmProjects/boa-financial-rag-workshop/requirements.txt (line 9)) (70.0.0)\r\n",
      "Requirement already satisfied: packaging>=20.0 in /Library/Frameworks/Python.framework/Versions/3.12/lib/python3.12/site-packages (from spacy->-r /Users/rouzbeh.farahmand/PycharmProjects/boa-financial-rag-workshop/requirements.txt (line 9)) (23.2)\r\n",
      "Requirement already satisfied: langcodes<4.0.0,>=3.2.0 in /Library/Frameworks/Python.framework/Versions/3.12/lib/python3.12/site-packages (from spacy->-r /Users/rouzbeh.farahmand/PycharmProjects/boa-financial-rag-workshop/requirements.txt (line 9)) (3.4.0)\r\n",
      "Requirement already satisfied: coloredlogs in /Library/Frameworks/Python.framework/Versions/3.12/lib/python3.12/site-packages (from redisvl->-r /Users/rouzbeh.farahmand/PycharmProjects/boa-financial-rag-workshop/requirements.txt (line 12)) (15.0.1)\r\n",
      "Requirement already satisfied: anyio<5,>=3.5.0 in /Library/Frameworks/Python.framework/Versions/3.12/lib/python3.12/site-packages (from openai->-r /Users/rouzbeh.farahmand/PycharmProjects/boa-financial-rag-workshop/requirements.txt (line 14)) (4.3.0)\r\n",
      "Requirement already satisfied: distro<2,>=1.7.0 in /Library/Frameworks/Python.framework/Versions/3.12/lib/python3.12/site-packages (from openai->-r /Users/rouzbeh.farahmand/PycharmProjects/boa-financial-rag-workshop/requirements.txt (line 14)) (1.9.0)\r\n",
      "Requirement already satisfied: httpx<1,>=0.23.0 in /Library/Frameworks/Python.framework/Versions/3.12/lib/python3.12/site-packages (from openai->-r /Users/rouzbeh.farahmand/PycharmProjects/boa-financial-rag-workshop/requirements.txt (line 14)) (0.27.0)\r\n",
      "Requirement already satisfied: sniffio in /Library/Frameworks/Python.framework/Versions/3.12/lib/python3.12/site-packages (from openai->-r /Users/rouzbeh.farahmand/PycharmProjects/boa-financial-rag-workshop/requirements.txt (line 14)) (1.3.1)\r\n",
      "Requirement already satisfied: aiosignal>=1.1.2 in /Library/Frameworks/Python.framework/Versions/3.12/lib/python3.12/site-packages (from aiohttp<4.0.0,>=3.8.3->langchain->-r /Users/rouzbeh.farahmand/PycharmProjects/boa-financial-rag-workshop/requirements.txt (line 3)) (1.3.1)\r\n",
      "Requirement already satisfied: attrs>=17.3.0 in /Library/Frameworks/Python.framework/Versions/3.12/lib/python3.12/site-packages (from aiohttp<4.0.0,>=3.8.3->langchain->-r /Users/rouzbeh.farahmand/PycharmProjects/boa-financial-rag-workshop/requirements.txt (line 3)) (23.2.0)\r\n",
      "Requirement already satisfied: frozenlist>=1.1.1 in /Library/Frameworks/Python.framework/Versions/3.12/lib/python3.12/site-packages (from aiohttp<4.0.0,>=3.8.3->langchain->-r /Users/rouzbeh.farahmand/PycharmProjects/boa-financial-rag-workshop/requirements.txt (line 3)) (1.4.1)\r\n",
      "Requirement already satisfied: multidict<7.0,>=4.5 in /Library/Frameworks/Python.framework/Versions/3.12/lib/python3.12/site-packages (from aiohttp<4.0.0,>=3.8.3->langchain->-r /Users/rouzbeh.farahmand/PycharmProjects/boa-financial-rag-workshop/requirements.txt (line 3)) (6.0.5)\r\n",
      "Requirement already satisfied: yarl<2.0,>=1.0 in /Library/Frameworks/Python.framework/Versions/3.12/lib/python3.12/site-packages (from aiohttp<4.0.0,>=3.8.3->langchain->-r /Users/rouzbeh.farahmand/PycharmProjects/boa-financial-rag-workshop/requirements.txt (line 3)) (1.9.4)\r\n",
      "Requirement already satisfied: idna>=2.8 in /Library/Frameworks/Python.framework/Versions/3.12/lib/python3.12/site-packages (from anyio<5,>=3.5.0->openai->-r /Users/rouzbeh.farahmand/PycharmProjects/boa-financial-rag-workshop/requirements.txt (line 14)) (3.7)\r\n",
      "Requirement already satisfied: marshmallow<4.0.0,>=3.18.0 in /Library/Frameworks/Python.framework/Versions/3.12/lib/python3.12/site-packages (from dataclasses-json<0.7,>=0.5.7->langchain-community->-r /Users/rouzbeh.farahmand/PycharmProjects/boa-financial-rag-workshop/requirements.txt (line 4)) (3.21.2)\r\n",
      "Requirement already satisfied: typing-inspect<1,>=0.4.0 in /Library/Frameworks/Python.framework/Versions/3.12/lib/python3.12/site-packages (from dataclasses-json<0.7,>=0.5.7->langchain-community->-r /Users/rouzbeh.farahmand/PycharmProjects/boa-financial-rag-workshop/requirements.txt (line 4)) (0.9.0)\r\n",
      "Requirement already satisfied: certifi in /Library/Frameworks/Python.framework/Versions/3.12/lib/python3.12/site-packages (from httpx<1,>=0.23.0->openai->-r /Users/rouzbeh.farahmand/PycharmProjects/boa-financial-rag-workshop/requirements.txt (line 14)) (2024.2.2)\r\n",
      "Requirement already satisfied: httpcore==1.* in /Library/Frameworks/Python.framework/Versions/3.12/lib/python3.12/site-packages (from httpx<1,>=0.23.0->openai->-r /Users/rouzbeh.farahmand/PycharmProjects/boa-financial-rag-workshop/requirements.txt (line 14)) (1.0.5)\r\n",
      "Requirement already satisfied: h11<0.15,>=0.13 in /Library/Frameworks/Python.framework/Versions/3.12/lib/python3.12/site-packages (from httpcore==1.*->httpx<1,>=0.23.0->openai->-r /Users/rouzbeh.farahmand/PycharmProjects/boa-financial-rag-workshop/requirements.txt (line 14)) (0.14.0)\r\n",
      "Requirement already satisfied: filelock in /Library/Frameworks/Python.framework/Versions/3.12/lib/python3.12/site-packages (from huggingface-hub->unstructured-inference==0.7.33->unstructured[pdf]->-r /Users/rouzbeh.farahmand/PycharmProjects/boa-financial-rag-workshop/requirements.txt (line 5)) (3.13.4)\r\n",
      "Requirement already satisfied: fsspec>=2023.5.0 in /Library/Frameworks/Python.framework/Versions/3.12/lib/python3.12/site-packages (from huggingface-hub->unstructured-inference==0.7.33->unstructured[pdf]->-r /Users/rouzbeh.farahmand/PycharmProjects/boa-financial-rag-workshop/requirements.txt (line 5)) (2024.3.1)\r\n",
      "Requirement already satisfied: jsonpatch<2.0,>=1.33 in /Library/Frameworks/Python.framework/Versions/3.12/lib/python3.12/site-packages (from langchain-core<0.3.0,>=0.2.0->langchain->-r /Users/rouzbeh.farahmand/PycharmProjects/boa-financial-rag-workshop/requirements.txt (line 3)) (1.33)\r\n",
      "Requirement already satisfied: language-data>=1.2 in /Library/Frameworks/Python.framework/Versions/3.12/lib/python3.12/site-packages (from langcodes<4.0.0,>=3.2.0->spacy->-r /Users/rouzbeh.farahmand/PycharmProjects/boa-financial-rag-workshop/requirements.txt (line 9)) (1.2.0)\r\n",
      "Requirement already satisfied: orjson<4.0.0,>=3.9.14 in /Library/Frameworks/Python.framework/Versions/3.12/lib/python3.12/site-packages (from langsmith<0.2.0,>=0.1.17->langchain->-r /Users/rouzbeh.farahmand/PycharmProjects/boa-financial-rag-workshop/requirements.txt (line 3)) (3.10.3)\r\n",
      "Requirement already satisfied: annotated-types>=0.4.0 in /Library/Frameworks/Python.framework/Versions/3.12/lib/python3.12/site-packages (from pydantic<3,>=1->langchain->-r /Users/rouzbeh.farahmand/PycharmProjects/boa-financial-rag-workshop/requirements.txt (line 3)) (0.6.0)\r\n",
      "Requirement already satisfied: pydantic-core==2.18.1 in /Library/Frameworks/Python.framework/Versions/3.12/lib/python3.12/site-packages (from pydantic<3,>=1->langchain->-r /Users/rouzbeh.farahmand/PycharmProjects/boa-financial-rag-workshop/requirements.txt (line 3)) (2.18.1)\r\n",
      "Requirement already satisfied: six>=1.5 in /Library/Frameworks/Python.framework/Versions/3.12/lib/python3.12/site-packages (from python-dateutil>=2.8.2->pandas->-r /Users/rouzbeh.farahmand/PycharmProjects/boa-financial-rag-workshop/requirements.txt (line 7)) (1.16.0)\r\n",
      "Requirement already satisfied: charset-normalizer<4,>=2 in /Library/Frameworks/Python.framework/Versions/3.12/lib/python3.12/site-packages (from requests>=2.26.0->tiktoken->-r /Users/rouzbeh.farahmand/PycharmProjects/boa-financial-rag-workshop/requirements.txt (line 2)) (3.3.2)\r\n",
      "Requirement already satisfied: urllib3<3,>=1.21.1 in /Library/Frameworks/Python.framework/Versions/3.12/lib/python3.12/site-packages (from requests>=2.26.0->tiktoken->-r /Users/rouzbeh.farahmand/PycharmProjects/boa-financial-rag-workshop/requirements.txt (line 2)) (2.2.1)\r\n",
      "Requirement already satisfied: blis<0.8.0,>=0.7.8 in /Library/Frameworks/Python.framework/Versions/3.12/lib/python3.12/site-packages (from thinc<8.3.0,>=8.2.2->spacy->-r /Users/rouzbeh.farahmand/PycharmProjects/boa-financial-rag-workshop/requirements.txt (line 9)) (0.7.11)\r\n",
      "Requirement already satisfied: confection<1.0.0,>=0.0.1 in /Library/Frameworks/Python.framework/Versions/3.12/lib/python3.12/site-packages (from thinc<8.3.0,>=8.2.2->spacy->-r /Users/rouzbeh.farahmand/PycharmProjects/boa-financial-rag-workshop/requirements.txt (line 9)) (0.1.4)\r\n",
      "Requirement already satisfied: sympy in /Library/Frameworks/Python.framework/Versions/3.12/lib/python3.12/site-packages (from torch->unstructured-inference==0.7.33->unstructured[pdf]->-r /Users/rouzbeh.farahmand/PycharmProjects/boa-financial-rag-workshop/requirements.txt (line 5)) (1.12)\r\n",
      "Requirement already satisfied: networkx in /Library/Frameworks/Python.framework/Versions/3.12/lib/python3.12/site-packages (from torch->unstructured-inference==0.7.33->unstructured[pdf]->-r /Users/rouzbeh.farahmand/PycharmProjects/boa-financial-rag-workshop/requirements.txt (line 5)) (3.3)\r\n",
      "Requirement already satisfied: tokenizers<0.20,>=0.19 in /Library/Frameworks/Python.framework/Versions/3.12/lib/python3.12/site-packages (from transformers>=4.25.1->unstructured-inference==0.7.33->unstructured[pdf]->-r /Users/rouzbeh.farahmand/PycharmProjects/boa-financial-rag-workshop/requirements.txt (line 5)) (0.19.1)\r\n",
      "Requirement already satisfied: safetensors>=0.4.1 in /Library/Frameworks/Python.framework/Versions/3.12/lib/python3.12/site-packages (from transformers>=4.25.1->unstructured-inference==0.7.33->unstructured[pdf]->-r /Users/rouzbeh.farahmand/PycharmProjects/boa-financial-rag-workshop/requirements.txt (line 5)) (0.4.3)\r\n",
      "Requirement already satisfied: click<9.0.0,>=7.1.1 in /Library/Frameworks/Python.framework/Versions/3.12/lib/python3.12/site-packages (from typer<0.10.0,>=0.3.0->spacy->-r /Users/rouzbeh.farahmand/PycharmProjects/boa-financial-rag-workshop/requirements.txt (line 9)) (8.1.7)\r\n",
      "Requirement already satisfied: cloudpathlib<0.17.0,>=0.7.0 in /Library/Frameworks/Python.framework/Versions/3.12/lib/python3.12/site-packages (from weasel<0.4.0,>=0.1.0->spacy->-r /Users/rouzbeh.farahmand/PycharmProjects/boa-financial-rag-workshop/requirements.txt (line 9)) (0.16.0)\r\n",
      "Requirement already satisfied: soupsieve>1.2 in /Library/Frameworks/Python.framework/Versions/3.12/lib/python3.12/site-packages (from beautifulsoup4->unstructured[pdf]->-r /Users/rouzbeh.farahmand/PycharmProjects/boa-financial-rag-workshop/requirements.txt (line 5)) (2.5)\r\n",
      "Requirement already satisfied: humanfriendly>=9.1 in /Library/Frameworks/Python.framework/Versions/3.12/lib/python3.12/site-packages (from coloredlogs->redisvl->-r /Users/rouzbeh.farahmand/PycharmProjects/boa-financial-rag-workshop/requirements.txt (line 12)) (10.0)\r\n",
      "Requirement already satisfied: torchvision in /Library/Frameworks/Python.framework/Versions/3.12/lib/python3.12/site-packages (from effdet->unstructured[pdf]->-r /Users/rouzbeh.farahmand/PycharmProjects/boa-financial-rag-workshop/requirements.txt (line 5)) (0.18.0)\r\n",
      "Requirement already satisfied: pycocotools>=2.0.2 in /Library/Frameworks/Python.framework/Versions/3.12/lib/python3.12/site-packages (from effdet->unstructured[pdf]->-r /Users/rouzbeh.farahmand/PycharmProjects/boa-financial-rag-workshop/requirements.txt (line 5)) (2.0.7)\r\n",
      "Requirement already satisfied: omegaconf>=2.0 in /Library/Frameworks/Python.framework/Versions/3.12/lib/python3.12/site-packages (from effdet->unstructured[pdf]->-r /Users/rouzbeh.farahmand/PycharmProjects/boa-financial-rag-workshop/requirements.txt (line 5)) (2.3.0)\r\n",
      "Requirement already satisfied: google-api-core!=2.0.*,!=2.1.*,!=2.10.*,!=2.2.*,!=2.3.*,!=2.4.*,!=2.5.*,!=2.6.*,!=2.7.*,!=2.8.*,!=2.9.*,<3.0.0dev,>=1.34.1 in /Library/Frameworks/Python.framework/Versions/3.12/lib/python3.12/site-packages (from google-api-core[grpc]!=2.0.*,!=2.1.*,!=2.10.*,!=2.2.*,!=2.3.*,!=2.4.*,!=2.5.*,!=2.6.*,!=2.7.*,!=2.8.*,!=2.9.*,<3.0.0dev,>=1.34.1->google-cloud-vision->unstructured[pdf]->-r /Users/rouzbeh.farahmand/PycharmProjects/boa-financial-rag-workshop/requirements.txt (line 5)) (2.19.0)\r\n",
      "Requirement already satisfied: google-auth!=2.24.0,!=2.25.0,<3.0.0dev,>=2.14.1 in /Library/Frameworks/Python.framework/Versions/3.12/lib/python3.12/site-packages (from google-cloud-vision->unstructured[pdf]->-r /Users/rouzbeh.farahmand/PycharmProjects/boa-financial-rag-workshop/requirements.txt (line 5)) (2.29.0)\r\n",
      "Requirement already satisfied: proto-plus<2.0.0dev,>=1.22.3 in /Library/Frameworks/Python.framework/Versions/3.12/lib/python3.12/site-packages (from google-cloud-vision->unstructured[pdf]->-r /Users/rouzbeh.farahmand/PycharmProjects/boa-financial-rag-workshop/requirements.txt (line 5)) (1.23.0)\r\n",
      "Requirement already satisfied: protobuf!=3.20.0,!=3.20.1,!=4.21.0,!=4.21.1,!=4.21.2,!=4.21.3,!=4.21.4,!=4.21.5,<5.0.0dev,>=3.19.5 in /Library/Frameworks/Python.framework/Versions/3.12/lib/python3.12/site-packages (from google-cloud-vision->unstructured[pdf]->-r /Users/rouzbeh.farahmand/PycharmProjects/boa-financial-rag-workshop/requirements.txt (line 5)) (4.25.3)\r\n",
      "Requirement already satisfied: MarkupSafe>=2.0 in /Library/Frameworks/Python.framework/Versions/3.12/lib/python3.12/site-packages (from jinja2->spacy->-r /Users/rouzbeh.farahmand/PycharmProjects/boa-financial-rag-workshop/requirements.txt (line 9)) (2.1.5)\r\n",
      "Requirement already satisfied: joblib in /Library/Frameworks/Python.framework/Versions/3.12/lib/python3.12/site-packages (from nltk->unstructured[pdf]->-r /Users/rouzbeh.farahmand/PycharmProjects/boa-financial-rag-workshop/requirements.txt (line 5)) (1.4.0)\r\n",
      "Requirement already satisfied: cryptography>=36.0.0 in /Library/Frameworks/Python.framework/Versions/3.12/lib/python3.12/site-packages (from pdfminer.six->unstructured[pdf]->-r /Users/rouzbeh.farahmand/PycharmProjects/boa-financial-rag-workshop/requirements.txt (line 5)) (42.0.7)\r\n",
      "Requirement already satisfied: Deprecated in /Library/Frameworks/Python.framework/Versions/3.12/lib/python3.12/site-packages (from pikepdf->unstructured[pdf]->-r /Users/rouzbeh.farahmand/PycharmProjects/boa-financial-rag-workshop/requirements.txt (line 5)) (1.2.14)\r\n",
      "Requirement already satisfied: threadpoolctl>=2.0.0 in /Library/Frameworks/Python.framework/Versions/3.12/lib/python3.12/site-packages (from scikit-learn->sentence-transformers->-r /Users/rouzbeh.farahmand/PycharmProjects/boa-financial-rag-workshop/requirements.txt (line 6)) (3.4.0)\r\n",
      "Requirement already satisfied: deepdiff>=6.0 in /Library/Frameworks/Python.framework/Versions/3.12/lib/python3.12/site-packages (from unstructured-client->unstructured[pdf]->-r /Users/rouzbeh.farahmand/PycharmProjects/boa-financial-rag-workshop/requirements.txt (line 5)) (7.0.1)\r\n",
      "Requirement already satisfied: jsonpath-python>=1.0.6 in /Library/Frameworks/Python.framework/Versions/3.12/lib/python3.12/site-packages (from unstructured-client->unstructured[pdf]->-r /Users/rouzbeh.farahmand/PycharmProjects/boa-financial-rag-workshop/requirements.txt (line 5)) (1.0.6)\r\n",
      "Requirement already satisfied: mypy-extensions>=1.0.0 in /Library/Frameworks/Python.framework/Versions/3.12/lib/python3.12/site-packages (from unstructured-client->unstructured[pdf]->-r /Users/rouzbeh.farahmand/PycharmProjects/boa-financial-rag-workshop/requirements.txt (line 5)) (1.0.0)\r\n",
      "Requirement already satisfied: cffi>=1.12 in /Library/Frameworks/Python.framework/Versions/3.12/lib/python3.12/site-packages (from cryptography>=36.0.0->pdfminer.six->unstructured[pdf]->-r /Users/rouzbeh.farahmand/PycharmProjects/boa-financial-rag-workshop/requirements.txt (line 5)) (1.16.0)\r\n",
      "Requirement already satisfied: ordered-set<4.2.0,>=4.1.0 in /Library/Frameworks/Python.framework/Versions/3.12/lib/python3.12/site-packages (from deepdiff>=6.0->unstructured-client->unstructured[pdf]->-r /Users/rouzbeh.farahmand/PycharmProjects/boa-financial-rag-workshop/requirements.txt (line 5)) (4.1.0)\r\n",
      "Requirement already satisfied: googleapis-common-protos<2.0.dev0,>=1.56.2 in /Library/Frameworks/Python.framework/Versions/3.12/lib/python3.12/site-packages (from google-api-core!=2.0.*,!=2.1.*,!=2.10.*,!=2.2.*,!=2.3.*,!=2.4.*,!=2.5.*,!=2.6.*,!=2.7.*,!=2.8.*,!=2.9.*,<3.0.0dev,>=1.34.1->google-api-core[grpc]!=2.0.*,!=2.1.*,!=2.10.*,!=2.2.*,!=2.3.*,!=2.4.*,!=2.5.*,!=2.6.*,!=2.7.*,!=2.8.*,!=2.9.*,<3.0.0dev,>=1.34.1->google-cloud-vision->unstructured[pdf]->-r /Users/rouzbeh.farahmand/PycharmProjects/boa-financial-rag-workshop/requirements.txt (line 5)) (1.63.0)\r\n",
      "Requirement already satisfied: grpcio<2.0dev,>=1.33.2 in /Library/Frameworks/Python.framework/Versions/3.12/lib/python3.12/site-packages (from google-api-core[grpc]!=2.0.*,!=2.1.*,!=2.10.*,!=2.2.*,!=2.3.*,!=2.4.*,!=2.5.*,!=2.6.*,!=2.7.*,!=2.8.*,!=2.9.*,<3.0.0dev,>=1.34.1->google-cloud-vision->unstructured[pdf]->-r /Users/rouzbeh.farahmand/PycharmProjects/boa-financial-rag-workshop/requirements.txt (line 5)) (1.64.0)\r\n",
      "Requirement already satisfied: grpcio-status<2.0.dev0,>=1.33.2 in /Library/Frameworks/Python.framework/Versions/3.12/lib/python3.12/site-packages (from google-api-core[grpc]!=2.0.*,!=2.1.*,!=2.10.*,!=2.2.*,!=2.3.*,!=2.4.*,!=2.5.*,!=2.6.*,!=2.7.*,!=2.8.*,!=2.9.*,<3.0.0dev,>=1.34.1->google-cloud-vision->unstructured[pdf]->-r /Users/rouzbeh.farahmand/PycharmProjects/boa-financial-rag-workshop/requirements.txt (line 5)) (1.62.2)\r\n",
      "Requirement already satisfied: cachetools<6.0,>=2.0.0 in /Library/Frameworks/Python.framework/Versions/3.12/lib/python3.12/site-packages (from google-auth!=2.24.0,!=2.25.0,<3.0.0dev,>=2.14.1->google-cloud-vision->unstructured[pdf]->-r /Users/rouzbeh.farahmand/PycharmProjects/boa-financial-rag-workshop/requirements.txt (line 5)) (5.3.3)\r\n",
      "Requirement already satisfied: pyasn1-modules>=0.2.1 in /Library/Frameworks/Python.framework/Versions/3.12/lib/python3.12/site-packages (from google-auth!=2.24.0,!=2.25.0,<3.0.0dev,>=2.14.1->google-cloud-vision->unstructured[pdf]->-r /Users/rouzbeh.farahmand/PycharmProjects/boa-financial-rag-workshop/requirements.txt (line 5)) (0.4.0)\r\n",
      "Requirement already satisfied: rsa<5,>=3.1.4 in /Library/Frameworks/Python.framework/Versions/3.12/lib/python3.12/site-packages (from google-auth!=2.24.0,!=2.25.0,<3.0.0dev,>=2.14.1->google-cloud-vision->unstructured[pdf]->-r /Users/rouzbeh.farahmand/PycharmProjects/boa-financial-rag-workshop/requirements.txt (line 5)) (4.9)\r\n",
      "Requirement already satisfied: jsonpointer>=1.9 in /Library/Frameworks/Python.framework/Versions/3.12/lib/python3.12/site-packages (from jsonpatch<2.0,>=1.33->langchain-core<0.3.0,>=0.2.0->langchain->-r /Users/rouzbeh.farahmand/PycharmProjects/boa-financial-rag-workshop/requirements.txt (line 3)) (2.4)\r\n",
      "Requirement already satisfied: marisa-trie>=0.7.7 in /Library/Frameworks/Python.framework/Versions/3.12/lib/python3.12/site-packages (from language-data>=1.2->langcodes<4.0.0,>=3.2.0->spacy->-r /Users/rouzbeh.farahmand/PycharmProjects/boa-financial-rag-workshop/requirements.txt (line 9)) (1.1.1)\r\n",
      "Requirement already satisfied: antlr4-python3-runtime==4.9.* in /Library/Frameworks/Python.framework/Versions/3.12/lib/python3.12/site-packages (from omegaconf>=2.0->effdet->unstructured[pdf]->-r /Users/rouzbeh.farahmand/PycharmProjects/boa-financial-rag-workshop/requirements.txt (line 5)) (4.9.3)\r\n",
      "Requirement already satisfied: flatbuffers in /Library/Frameworks/Python.framework/Versions/3.12/lib/python3.12/site-packages (from onnxruntime>=1.17.0->unstructured-inference==0.7.33->unstructured[pdf]->-r /Users/rouzbeh.farahmand/PycharmProjects/boa-financial-rag-workshop/requirements.txt (line 5)) (24.3.25)\r\n",
      "Requirement already satisfied: contourpy>=1.0.1 in /Library/Frameworks/Python.framework/Versions/3.12/lib/python3.12/site-packages (from matplotlib->unstructured-inference==0.7.33->unstructured[pdf]->-r /Users/rouzbeh.farahmand/PycharmProjects/boa-financial-rag-workshop/requirements.txt (line 5)) (1.2.1)\r\n",
      "Requirement already satisfied: cycler>=0.10 in /Library/Frameworks/Python.framework/Versions/3.12/lib/python3.12/site-packages (from matplotlib->unstructured-inference==0.7.33->unstructured[pdf]->-r /Users/rouzbeh.farahmand/PycharmProjects/boa-financial-rag-workshop/requirements.txt (line 5)) (0.12.1)\r\n",
      "Requirement already satisfied: fonttools>=4.22.0 in /Library/Frameworks/Python.framework/Versions/3.12/lib/python3.12/site-packages (from matplotlib->unstructured-inference==0.7.33->unstructured[pdf]->-r /Users/rouzbeh.farahmand/PycharmProjects/boa-financial-rag-workshop/requirements.txt (line 5)) (4.52.4)\r\n",
      "Requirement already satisfied: kiwisolver>=1.3.1 in /Library/Frameworks/Python.framework/Versions/3.12/lib/python3.12/site-packages (from matplotlib->unstructured-inference==0.7.33->unstructured[pdf]->-r /Users/rouzbeh.farahmand/PycharmProjects/boa-financial-rag-workshop/requirements.txt (line 5)) (1.4.5)\r\n",
      "Requirement already satisfied: pyparsing>=2.3.1 in /Library/Frameworks/Python.framework/Versions/3.12/lib/python3.12/site-packages (from matplotlib->unstructured-inference==0.7.33->unstructured[pdf]->-r /Users/rouzbeh.farahmand/PycharmProjects/boa-financial-rag-workshop/requirements.txt (line 5)) (3.1.2)\r\n",
      "Requirement already satisfied: iopath in /Library/Frameworks/Python.framework/Versions/3.12/lib/python3.12/site-packages (from layoutparser->unstructured-inference==0.7.33->unstructured[pdf]->-r /Users/rouzbeh.farahmand/PycharmProjects/boa-financial-rag-workshop/requirements.txt (line 5)) (0.1.10)\r\n",
      "Requirement already satisfied: pdfplumber in /Library/Frameworks/Python.framework/Versions/3.12/lib/python3.12/site-packages (from layoutparser->unstructured-inference==0.7.33->unstructured[pdf]->-r /Users/rouzbeh.farahmand/PycharmProjects/boa-financial-rag-workshop/requirements.txt (line 5)) (0.11.0)\r\n",
      "Requirement already satisfied: mpmath>=0.19 in /Library/Frameworks/Python.framework/Versions/3.12/lib/python3.12/site-packages (from sympy->torch->unstructured-inference==0.7.33->unstructured[pdf]->-r /Users/rouzbeh.farahmand/PycharmProjects/boa-financial-rag-workshop/requirements.txt (line 5)) (1.3.0)\r\n",
      "Requirement already satisfied: pycparser in /Library/Frameworks/Python.framework/Versions/3.12/lib/python3.12/site-packages (from cffi>=1.12->cryptography>=36.0.0->pdfminer.six->unstructured[pdf]->-r /Users/rouzbeh.farahmand/PycharmProjects/boa-financial-rag-workshop/requirements.txt (line 5)) (2.22)\r\n",
      "Requirement already satisfied: pyasn1<0.7.0,>=0.4.6 in /Library/Frameworks/Python.framework/Versions/3.12/lib/python3.12/site-packages (from pyasn1-modules>=0.2.1->google-auth!=2.24.0,!=2.25.0,<3.0.0dev,>=2.14.1->google-cloud-vision->unstructured[pdf]->-r /Users/rouzbeh.farahmand/PycharmProjects/boa-financial-rag-workshop/requirements.txt (line 5)) (0.6.0)\r\n",
      "Requirement already satisfied: portalocker in /Library/Frameworks/Python.framework/Versions/3.12/lib/python3.12/site-packages (from iopath->layoutparser->unstructured-inference==0.7.33->unstructured[pdf]->-r /Users/rouzbeh.farahmand/PycharmProjects/boa-financial-rag-workshop/requirements.txt (line 5)) (2.8.2)\r\n",
      "Requirement already satisfied: pypdfium2>=4.18.0 in /Library/Frameworks/Python.framework/Versions/3.12/lib/python3.12/site-packages (from pdfplumber->layoutparser->unstructured-inference==0.7.33->unstructured[pdf]->-r /Users/rouzbeh.farahmand/PycharmProjects/boa-financial-rag-workshop/requirements.txt (line 5)) (4.30.0)\r\n",
      "Note: you may need to restart the kernel to use updated packages.\n"
     ]
    }
   ],
   "execution_count": 3
  },
  {
   "metadata": {
    "ExecuteTime": {
     "end_time": "2024-06-20T20:11:07.547378Z",
     "start_time": "2024-06-20T20:11:07.169642Z"
    }
   },
   "cell_type": "code",
   "source": "from utils import *",
   "outputs": [],
   "execution_count": 4
  },
  {
   "metadata": {},
   "cell_type": "markdown",
   "source": "### Configure your Redis Stack\n"
  },
  {
   "cell_type": "code",
   "metadata": {
    "ExecuteTime": {
     "end_time": "2024-06-20T20:11:07.550Z",
     "start_time": "2024-06-20T20:11:07.548573Z"
    }
   },
   "source": [
    "import os\n",
    "\n",
    "# Replace values below with your own if using Redis Cloud instance\n",
    "REDIS_HOST = os.getenv(\"REDIS_HOST\", \"localhost\")\n",
    "REDIS_PORT = os.getenv(\"REDIS_PORT\", \"6379\")\n",
    "REDIS_PASSWORD = os.getenv(\"REDIS_PASSWORD\", \"\")\n",
    "\n",
    "# If SSL is enabled on the endpoint, use rediss:// as the URL prefix\n",
    "REDIS_URL = f\"redis://{REDIS_HOST}:{REDIS_PORT}\""
   ],
   "outputs": [],
   "execution_count": 5
  },
  {
   "metadata": {},
   "cell_type": "markdown",
   "source": [
    "### SentenceTransformerEmbeddings Models Cache folder\n",
    "We are using `SentenceTransformerEmbeddings` in this demo and here we specify the cache folder. If you already downloaded the models in a local file system, set this folder here, otherwise the library tries to download the models in this folder if not available locally.\n",
    "\n",
    "In particular, these models will be downloaded if not present in the cache folder:\n",
    "\n",
    "models/models--sentence-transformers--all-MiniLM-L6-v2\n",
    "\n",
    "models/models--sentence-transformers--all-mpnet-base-v2\n"
   ]
  },
  {
   "metadata": {
    "ExecuteTime": {
     "end_time": "2024-06-20T20:11:07.551696Z",
     "start_time": "2024-06-20T20:11:07.550461Z"
    }
   },
   "cell_type": "code",
   "source": [
    "#setting the local downloaded sentence transformer models f\n",
    "os.environ[\"TRANSFORMERS_CACHE\"] = f\"{parent_directory}/models\""
   ],
   "outputs": [],
   "execution_count": 6
  },
  {
   "cell_type": "markdown",
   "metadata": {},
   "source": [
    "## RAG with LangChain"
   ]
  },
  {
   "cell_type": "markdown",
   "metadata": {
    "id": "7MaVqU8Y1vms"
   },
   "source": [
    "### Dataset Preparation (PDF Documents)\n",
    "\n",
    "To best demonstrate Redis as a vector database layer, we will load a single\n",
    "financial (10k filings) doc and preprocess it using some helpers from LangChain:\n",
    "\n",
    "- `UnstructuredFileLoader` is not the only document loader type that LangChain provides. Docs: https://python.langchain.com/docs/integrations/document_loaders/unstructured_file\n",
    "- `RecursiveCharacterTextSplitter` is what we use to create smaller chunks of text from the doc. Docs: https://api.python.langchain.com/en/latest/character/langchain_text_splitters.character.RecursiveCharacterTextSplitter.html"
   ]
  },
  {
   "cell_type": "code",
   "metadata": {
    "colab": {
     "base_uri": "https://localhost:8080/"
    },
    "id": "I7VS1bPr1vmt",
    "outputId": "72299230-26c4-4d80-d61f-138616e2173b",
    "ExecuteTime": {
     "end_time": "2024-06-20T20:11:07.564048Z",
     "start_time": "2024-06-20T20:11:07.552200Z"
    }
   },
   "source": [
    "from langchain.text_splitter import RecursiveCharacterTextSplitter\n",
    "from langchain.document_loaders import UnstructuredFileLoader\n",
    "\n",
    "# Load list of pdfs from a folder\n",
    "data_path = f\"{parent_directory}/resources/10K\"\n",
    "docs = [os.path.join(data_path, file) for file in os.listdir(data_path)]\n",
    "\n",
    "print(\"Listing available documents ...\", docs)"
   ],
   "outputs": [
    {
     "name": "stdout",
     "output_type": "stream",
     "text": [
      "Listing available documents ... ['/Users/rouzbeh.farahmand/PycharmProjects/boa-financial-rag-workshop/resources/10K/nke-10k-2023.pdf']\n"
     ]
    }
   ],
   "execution_count": 7
  },
  {
   "cell_type": "code",
   "metadata": {
    "ExecuteTime": {
     "end_time": "2024-06-20T20:11:18.208053Z",
     "start_time": "2024-06-20T20:11:07.564527Z"
    }
   },
   "source": [
    "# pick out the Nike doc for this exercise\n",
    "doc = [doc for doc in docs if \"nke\" in doc][0]\n",
    "\n",
    "text_splitter = RecursiveCharacterTextSplitter(chunk_size=500, chunk_overlap=0)\n",
    "    \n",
    "\n",
    "loader = UnstructuredFileLoader(\n",
    "    doc, mode=\"single\", strategy=\"fast\"\n",
    ")\n",
    "\n",
    "# extract, load, and make chunks\n",
    "chunks = loader.load_and_split(text_splitter)\n",
    "\n",
    "print(\"Done preprocessing. Created\", len(chunks), \"chunks of the original pdf\", doc)"
   ],
   "outputs": [
    {
     "name": "stdout",
     "output_type": "stream",
     "text": [
      "Done preprocessing. Created 180 chunks of the original pdf /Users/rouzbeh.farahmand/PycharmProjects/boa-financial-rag-workshop/resources/10K/nke-10k-2023.pdf\n"
     ]
    }
   ],
   "execution_count": 8
  },
  {
   "metadata": {
    "ExecuteTime": {
     "end_time": "2024-06-20T20:11:18.210483Z",
     "start_time": "2024-06-20T20:11:18.208826Z"
    }
   },
   "cell_type": "code",
   "source": "print(f\"created {len(chunks)} chunks \")",
   "outputs": [
    {
     "name": "stdout",
     "output_type": "stream",
     "text": [
      "created 180 chunks \n"
     ]
    }
   ],
   "execution_count": 9
  },
  {
   "metadata": {},
   "cell_type": "markdown",
   "source": [
    "### Initialize Embeddings Engine\n",
    "Here we will use LangChain's built in embedding engine so that it will work seemlessly with the LangChain VectorStore classes."
   ]
  },
  {
   "metadata": {},
   "cell_type": "markdown",
   "source": ""
  },
  {
   "metadata": {
    "ExecuteTime": {
     "end_time": "2024-06-20T20:11:23.996061Z",
     "start_time": "2024-06-20T20:11:18.210933Z"
    }
   },
   "cell_type": "code",
   "source": [
    "from langchain.embeddings.sentence_transformer import SentenceTransformerEmbeddings \n",
    "embeddings = SentenceTransformerEmbeddings(model_name=\"sentence-transformers/all-MiniLM-L6-v2\", cache_folder=os.getenv(\"TRANSFORMERS_CACHE\", f\"{parent_directory}/models\"))"
   ],
   "outputs": [],
   "execution_count": 10
  },
  {
   "metadata": {},
   "cell_type": "markdown",
   "source": [
    "## Vector Search with LangChain\n",
    "### Create Redis vector store instance\n",
    "\n",
    "We also need to create a schema for the vector index so we can take advantage of the metadata along with the vectors.\n",
    "\n",
    "\n",
    "**Important Note-1**: If you use your own embedding model with different dimensions, make sure to modify the `dims` in the schema below accordingly.\n",
    "\n",
    "**Important Note-2**: LangChain does not support JSON data types yet. Only supports HASH for now. This update should be coming soon."
   ]
  },
  {
   "cell_type": "code",
   "metadata": {
    "colab": {
     "base_uri": "https://localhost:8080/"
    },
    "id": "yY69FViAjNv1",
    "outputId": "ab7b212b-3c55-44b1-cf72-6eb926cf302f",
    "ExecuteTime": {
     "end_time": "2024-06-20T20:11:25.690725Z",
     "start_time": "2024-06-20T20:11:23.996930Z"
    }
   },
   "source": [
    "from langchain_community.vectorstores import Redis\n",
    "\n",
    "index_name = 'basiclangchain'\n",
    "vector_schema = {\n",
    "        \"name\": \"content_vector\",\n",
    "        \"algorithm\": \"FLAT\",\n",
    "        \"dims\": 384,\n",
    "        \"distance_metric\": \"COSINE\",\n",
    "        \"datatype\": \"FLOAT32\",\n",
    "    }\n",
    "index_schema = {\n",
    "    \"vector\": [vector_schema],\n",
    "    \"text\": [{\"name\": \"content\"}],\n",
    "    \"content_vector_key\": \"content_vector\"    # name of the vector field in langchain\n",
    "}\n",
    "\n",
    "print(f\"loading {len(chunks)} chucks to REDIS_URL={REDIS_URL}\")\n",
    "# construct the vector store class from texts and metadata\n",
    "rds = Redis.from_documents(\n",
    "    documents=chunks,\n",
    "    embedding=embeddings,\n",
    "    vector_schema=vector_schema,\n",
    "    redis_url=REDIS_URL,\n",
    "    index_name = index_name\n",
    ")"
   ],
   "outputs": [
    {
     "name": "stdout",
     "output_type": "stream",
     "text": [
      "loading 180 chucks to REDIS_URL=redis://localhost:6379\n"
     ]
    }
   ],
   "execution_count": 11
  },
  {
   "cell_type": "code",
   "metadata": {
    "colab": {
     "base_uri": "https://localhost:8080/"
    },
    "id": "gntcxF1P1vmx",
    "outputId": "3bef4861-8778-4ab7-fb61-710aba655f2c",
    "ExecuteTime": {
     "end_time": "2024-06-20T20:11:25.696033Z",
     "start_time": "2024-06-20T20:11:25.691787Z"
    }
   },
   "source": [
    "# access underlying redis client to see how many docs have been stores\n",
    "rds.client.dbsize()"
   ],
   "outputs": [
    {
     "data": {
      "text/plain": [
       "3445"
      ]
     },
     "execution_count": 12,
     "metadata": {},
     "output_type": "execute_result"
    }
   ],
   "execution_count": 12
  },
  {
   "cell_type": "markdown",
   "metadata": {
    "id": "61xV5qyp1vmy"
   },
   "source": [
    "### Query the database\n",
    "Now we can use the LangChain vector store class to perform similarity search operations on Redis"
   ]
  },
  {
   "cell_type": "code",
   "metadata": {
    "id": "Gv6SxKOB1vmy",
    "ExecuteTime": {
     "end_time": "2024-06-20T20:11:25.700335Z",
     "start_time": "2024-06-20T20:11:25.696807Z"
    }
   },
   "source": [
    "from langchain.vectorstores.redis import RedisText"
   ],
   "outputs": [],
   "execution_count": 13
  },
  {
   "cell_type": "code",
   "metadata": {
    "colab": {
     "base_uri": "https://localhost:8080/"
    },
    "id": "Q3pH3MPD1vmy",
    "outputId": "2754347f-be31-4a38-d356-31ecc235ffe8",
    "ExecuteTime": {
     "end_time": "2024-06-20T20:11:25.807833Z",
     "start_time": "2024-06-20T20:11:25.703011Z"
    }
   },
   "source": [
    "# basic \"top 4\" vector search on a given query\n",
    "rds.similarity_search_with_score(query=\"Profit margins\", k=4)"
   ],
   "outputs": [
    {
     "data": {
      "text/plain": [
       "[(Document(page_content=\"(Dollars in millions, except per share data)\\n\\nRevenues Cost of sales\\n\\nGross profit Gross margin\\n\\nDemand creation expense Operating overhead expense\\n\\nTotal selling and administrative expense % of revenues\\n\\nInterest expense (income), net\\n\\nOther (income) expense, net Income before income taxes\\n\\nIncome tax expense Effective tax rate\\n\\nNET INCOME Diluted earnings per common share\\n\\n$\\n\\n$ $\\n\\nFISCAL 2023\\n\\n51,217 28,925\\n\\n22,292\\n\\n43.5 %\\n\\n4,060 12,317\\n\\n16,377\\n\\n32.0 % (6)\\n\\n(280) 6,201\\n\\n1,131\\n\\n18.2 %\\n\\n5,070 3.23\\n\\n$\\n\\n$ $\\n\\nFISCAL 2022\\n\\n46,710 25,231\\n\\n21,479\\n\\n46.0 %\\n\\n3,850 10,954\\n\\n14,804\\n\\n31.7 % 205\\n\\n(181) 6,651\\n\\n605 9.1 %\\n\\n6,046 3.75\\n\\n% CHANGE\\n\\n10 % $ 15 %\\n\\n4 %\\n\\n5 % 12 %\\n\\n11 %\\n\\n—\\n\\n— -7 %\\n\\n87 %\\n\\n16 % $ -14 % $\\n\\nFISCAL 2021\\n\\n% CHANGE\\n\\n44,538 24,576\\n\\n5 % 3 %\\n\\n19,962\\n\\n8 %\\n\\n44.8 %\\n\\n3,114 9,911\\n\\n24 % 11 %\\n\\n13,025\\n\\n14 %\\n\\n29.2 % 262\\n\\n—\\n\\n14 6,661\\n\\n— 0 %\\n\\n934 14.0 %\\n\\n35 %\\n\\n5,727 3.56\\n\\n6 % 5 %\\n\\n2023 FORM 10-K 31\\n\\nTable of Contents\\n\\nCONSOLIDATED OPERATING RESULTS REVENUES\\n\\n(Dollars in millions)\\n\\nFISCAL 2023\\n\\nFISCAL 2022\\n\\n% CHANGE\\n\\n% CHANGE EXCLUDING CURRENCY (1) CHANGES\\n\\nFISCAL 2021\\n\\n% CHANGE\\n\\nNIKE, Inc. Revenues:\\n\\nNIKE Brand Revenues by:\\n\\nFootwear Apparel\\n\\n$\\n\\n33,135 $ 13,843\\n\\n29,143 13,567\\n\\n14 % 2 %\\n\\n20 % $ 8 %\\n\\n28,021 12,865\\n\\n4 % 5 %\\n\\nEquipment Global Brand Divisions\\n\\n(2)\\n\\nTotal NIKE Brand Revenues\\n\\n$\\n\\n1,727 58\\n\\n48,763 $\\n\\n1,624 102 44,436\\n\\n6 % -43 % 10 %\\n\\n13 % -43 % 16 % $\\n\\n1,382 25 42,293\\n\\n18 % 308 % 5 %\\n\\nConverse Corporate\\n\\n(3)\\n\\n2,427 27\\n\\n2,346 (72)\\n\\n3 % —\\n\\n8 % —\\n\\n2,205 40\\n\\n6 % —\\n\\nTOTAL NIKE, INC. REVENUES\\n\\n$\\n\\n51,217 $\\n\\n46,710\\n\\n10 %\\n\\n16 % $\\n\\n44,538\\n\\n5 %\\n\\nSupplemental NIKE Brand Revenues Details: NIKE Brand Revenues by:\\n\\nSales to Wholesale Customers\\n\\n$\\n\\n27,397 $\\n\\n25,608\\n\\n7 %\\n\\n14 % $\\n\\n25,898\\n\\n1 %\\n\\nSales through NIKE Direct Global Brand Divisions\\n\\n(2)\\n\\n21,308 58\\n\\n18,726 102\\n\\n14 % -43 %\\n\\n20 % -43 %\\n\\n16,370 25\\n\\n14 % 308 %\\n\\nTOTAL NIKE BRAND REVENUES (1) NIKE Brand Revenues on a Wholesale Equivalent Basis :\\n\\n$\\n\\n48,763 $\\n\\n44,436\\n\\n10 %\\n\\n16 % $\\n\\n42,293\\n\\n5 %\\n\\nSales to Wholesale Customers Sales from our Wholesale Operations to NIKE Direct Operations\\n\\nTOTAL NIKE BRAND WHOLESALE EQUIVALENT REVENUES NIKE Brand Wholesale Equivalent Revenues by:\\n\\n(1),(4)\\n\\n$\\n\\n$\\n\\n27,397 $ 12,730\\n\\n40,127 $\\n\\n25,608 10,543\\n\\n36,151\\n\\n7 % 21 %\\n\\n11 %\\n\\n14 % $ 27 %\\n\\n18 % $\\n\\n25,898 9,872\\n\\n35,770\\n\\n1 % 7 % 1 %\\n\\nMen's Women's NIKE Kids'\\n\\n$\\n\\n20,733 $ 8,606 5,038\\n\\n18,797 8,273 4,874\\n\\n10 % 4 % 3 %\\n\\n17 % $ 11 % 10 %\\n\\n18,391 8,225 4,882\\n\\n2 % 1 % 0 %\\n\\nJordan Brand (5) Others\\n\\n6,589 (839)\\n\\n5,122 (915)\\n\\n29 % 8 %\\n\\n35 % -3 %\", metadata={'id': 'doc:basiclangchain:c4091b9773c94e2991750321bf16c60f', 'source': '/Users/rouzbeh.farahmand/PycharmProjects/boa-financial-rag-workshop/resources/10K/nke-10k-2023.pdf'}),\n",
       "  0.499),\n",
       " (Document(page_content=\"(Dollars in millions, except per share data)\\n\\nRevenues Cost of sales\\n\\nGross profit Gross margin\\n\\nDemand creation expense Operating overhead expense\\n\\nTotal selling and administrative expense % of revenues\\n\\nInterest expense (income), net\\n\\nOther (income) expense, net Income before income taxes\\n\\nIncome tax expense Effective tax rate\\n\\nNET INCOME Diluted earnings per common share\\n\\n$\\n\\n$ $\\n\\nFISCAL 2023\\n\\n51,217 28,925\\n\\n22,292\\n\\n43.5 %\\n\\n4,060 12,317\\n\\n16,377\\n\\n32.0 % (6)\\n\\n(280) 6,201\\n\\n1,131\\n\\n18.2 %\\n\\n5,070 3.23\\n\\n$\\n\\n$ $\\n\\nFISCAL 2022\\n\\n46,710 25,231\\n\\n21,479\\n\\n46.0 %\\n\\n3,850 10,954\\n\\n14,804\\n\\n31.7 % 205\\n\\n(181) 6,651\\n\\n605 9.1 %\\n\\n6,046 3.75\\n\\n% CHANGE\\n\\n10 % $ 15 %\\n\\n4 %\\n\\n5 % 12 %\\n\\n11 %\\n\\n—\\n\\n— -7 %\\n\\n87 %\\n\\n16 % $ -14 % $\\n\\nFISCAL 2021\\n\\n% CHANGE\\n\\n44,538 24,576\\n\\n5 % 3 %\\n\\n19,962\\n\\n8 %\\n\\n44.8 %\\n\\n3,114 9,911\\n\\n24 % 11 %\\n\\n13,025\\n\\n14 %\\n\\n29.2 % 262\\n\\n—\\n\\n14 6,661\\n\\n— 0 %\\n\\n934 14.0 %\\n\\n35 %\\n\\n5,727 3.56\\n\\n6 % 5 %\\n\\n2023 FORM 10-K 31\\n\\nTable of Contents\\n\\nCONSOLIDATED OPERATING RESULTS REVENUES\\n\\n(Dollars in millions)\\n\\nFISCAL 2023\\n\\nFISCAL 2022\\n\\n% CHANGE\\n\\n% CHANGE EXCLUDING CURRENCY (1) CHANGES\\n\\nFISCAL 2021\\n\\n% CHANGE\\n\\nNIKE, Inc. Revenues:\\n\\nNIKE Brand Revenues by:\\n\\nFootwear Apparel\\n\\n$\\n\\n33,135 $ 13,843\\n\\n29,143 13,567\\n\\n14 % 2 %\\n\\n20 % $ 8 %\\n\\n28,021 12,865\\n\\n4 % 5 %\\n\\nEquipment Global Brand Divisions\\n\\n(2)\\n\\nTotal NIKE Brand Revenues\\n\\n$\\n\\n1,727 58\\n\\n48,763 $\\n\\n1,624 102 44,436\\n\\n6 % -43 % 10 %\\n\\n13 % -43 % 16 % $\\n\\n1,382 25 42,293\\n\\n18 % 308 % 5 %\\n\\nConverse Corporate\\n\\n(3)\\n\\n2,427 27\\n\\n2,346 (72)\\n\\n3 % —\\n\\n8 % —\\n\\n2,205 40\\n\\n6 % —\\n\\nTOTAL NIKE, INC. REVENUES\\n\\n$\\n\\n51,217 $\\n\\n46,710\\n\\n10 %\\n\\n16 % $\\n\\n44,538\\n\\n5 %\\n\\nSupplemental NIKE Brand Revenues Details: NIKE Brand Revenues by:\\n\\nSales to Wholesale Customers\\n\\n$\\n\\n27,397 $\\n\\n25,608\\n\\n7 %\\n\\n14 % $\\n\\n25,898\\n\\n1 %\\n\\nSales through NIKE Direct Global Brand Divisions\\n\\n(2)\\n\\n21,308 58\\n\\n18,726 102\\n\\n14 % -43 %\\n\\n20 % -43 %\\n\\n16,370 25\\n\\n14 % 308 %\\n\\nTOTAL NIKE BRAND REVENUES (1) NIKE Brand Revenues on a Wholesale Equivalent Basis :\\n\\n$\\n\\n48,763 $\\n\\n44,436\\n\\n10 %\\n\\n16 % $\\n\\n42,293\\n\\n5 %\\n\\nSales to Wholesale Customers Sales from our Wholesale Operations to NIKE Direct Operations\\n\\nTOTAL NIKE BRAND WHOLESALE EQUIVALENT REVENUES NIKE Brand Wholesale Equivalent Revenues by:\\n\\n(1),(4)\\n\\n$\\n\\n$\\n\\n27,397 $ 12,730\\n\\n40,127 $\\n\\n25,608 10,543\\n\\n36,151\\n\\n7 % 21 %\\n\\n11 %\\n\\n14 % $ 27 %\\n\\n18 % $\\n\\n25,898 9,872\\n\\n35,770\\n\\n1 % 7 % 1 %\\n\\nMen's Women's NIKE Kids'\\n\\n$\\n\\n20,733 $ 8,606 5,038\\n\\n18,797 8,273 4,874\\n\\n10 % 4 % 3 %\\n\\n17 % $ 11 % 10 %\\n\\n18,391 8,225 4,882\\n\\n2 % 1 % 0 %\\n\\nJordan Brand (5) Others\\n\\n6,589 (839)\\n\\n5,122 (915)\\n\\n29 % 8 %\\n\\n35 % -3 %\", metadata={'id': 'doc:basiclangchain:cda327bc88404ec68006afaf2461c3c8', 'source': '/Users/rouzbeh.farahmand/PycharmProjects/boa-financial-rag-workshop/resources/10K/nke-10k-2023.pdf'}),\n",
       "  0.499),\n",
       " (Document(page_content=\"(Dollars in millions, except per share data)\\n\\nRevenues Cost of sales\\n\\nGross profit Gross margin\\n\\nDemand creation expense Operating overhead expense\\n\\nTotal selling and administrative expense % of revenues\\n\\nInterest expense (income), net\\n\\nOther (income) expense, net Income before income taxes\\n\\nIncome tax expense Effective tax rate\\n\\nNET INCOME Diluted earnings per common share\\n\\n$\\n\\n$ $\\n\\nFISCAL 2023\\n\\n51,217 28,925\\n\\n22,292\\n\\n43.5 %\\n\\n4,060 12,317\\n\\n16,377\\n\\n32.0 % (6)\\n\\n(280) 6,201\\n\\n1,131\\n\\n18.2 %\\n\\n5,070 3.23\\n\\n$\\n\\n$ $\\n\\nFISCAL 2022\\n\\n46,710 25,231\\n\\n21,479\\n\\n46.0 %\\n\\n3,850 10,954\\n\\n14,804\\n\\n31.7 % 205\\n\\n(181) 6,651\\n\\n605 9.1 %\\n\\n6,046 3.75\\n\\n% CHANGE\\n\\n10 % $ 15 %\\n\\n4 %\\n\\n5 % 12 %\\n\\n11 %\\n\\n—\\n\\n— -7 %\\n\\n87 %\\n\\n16 % $ -14 % $\\n\\nFISCAL 2021\\n\\n% CHANGE\\n\\n44,538 24,576\\n\\n5 % 3 %\\n\\n19,962\\n\\n8 %\\n\\n44.8 %\\n\\n3,114 9,911\\n\\n24 % 11 %\\n\\n13,025\\n\\n14 %\\n\\n29.2 % 262\\n\\n—\\n\\n14 6,661\\n\\n— 0 %\\n\\n934 14.0 %\\n\\n35 %\\n\\n5,727 3.56\\n\\n6 % 5 %\\n\\n2023 FORM 10-K 31\\n\\nTable of Contents\\n\\nCONSOLIDATED OPERATING RESULTS REVENUES\\n\\n(Dollars in millions)\\n\\nFISCAL 2023\\n\\nFISCAL 2022\\n\\n% CHANGE\\n\\n% CHANGE EXCLUDING CURRENCY (1) CHANGES\\n\\nFISCAL 2021\\n\\n% CHANGE\\n\\nNIKE, Inc. Revenues:\\n\\nNIKE Brand Revenues by:\\n\\nFootwear Apparel\\n\\n$\\n\\n33,135 $ 13,843\\n\\n29,143 13,567\\n\\n14 % 2 %\\n\\n20 % $ 8 %\\n\\n28,021 12,865\\n\\n4 % 5 %\\n\\nEquipment Global Brand Divisions\\n\\n(2)\\n\\nTotal NIKE Brand Revenues\\n\\n$\\n\\n1,727 58\\n\\n48,763 $\\n\\n1,624 102 44,436\\n\\n6 % -43 % 10 %\\n\\n13 % -43 % 16 % $\\n\\n1,382 25 42,293\\n\\n18 % 308 % 5 %\\n\\nConverse Corporate\\n\\n(3)\\n\\n2,427 27\\n\\n2,346 (72)\\n\\n3 % —\\n\\n8 % —\\n\\n2,205 40\\n\\n6 % —\\n\\nTOTAL NIKE, INC. REVENUES\\n\\n$\\n\\n51,217 $\\n\\n46,710\\n\\n10 %\\n\\n16 % $\\n\\n44,538\\n\\n5 %\\n\\nSupplemental NIKE Brand Revenues Details: NIKE Brand Revenues by:\\n\\nSales to Wholesale Customers\\n\\n$\\n\\n27,397 $\\n\\n25,608\\n\\n7 %\\n\\n14 % $\\n\\n25,898\\n\\n1 %\\n\\nSales through NIKE Direct Global Brand Divisions\\n\\n(2)\\n\\n21,308 58\\n\\n18,726 102\\n\\n14 % -43 %\\n\\n20 % -43 %\\n\\n16,370 25\\n\\n14 % 308 %\\n\\nTOTAL NIKE BRAND REVENUES (1) NIKE Brand Revenues on a Wholesale Equivalent Basis :\\n\\n$\\n\\n48,763 $\\n\\n44,436\\n\\n10 %\\n\\n16 % $\\n\\n42,293\\n\\n5 %\\n\\nSales to Wholesale Customers Sales from our Wholesale Operations to NIKE Direct Operations\\n\\nTOTAL NIKE BRAND WHOLESALE EQUIVALENT REVENUES NIKE Brand Wholesale Equivalent Revenues by:\\n\\n(1),(4)\\n\\n$\\n\\n$\\n\\n27,397 $ 12,730\\n\\n40,127 $\\n\\n25,608 10,543\\n\\n36,151\\n\\n7 % 21 %\\n\\n11 %\\n\\n14 % $ 27 %\\n\\n18 % $\\n\\n25,898 9,872\\n\\n35,770\\n\\n1 % 7 % 1 %\\n\\nMen's Women's NIKE Kids'\\n\\n$\\n\\n20,733 $ 8,606 5,038\\n\\n18,797 8,273 4,874\\n\\n10 % 4 % 3 %\\n\\n17 % $ 11 % 10 %\\n\\n18,391 8,225 4,882\\n\\n2 % 1 % 0 %\\n\\nJordan Brand (5) Others\\n\\n6,589 (839)\\n\\n5,122 (915)\\n\\n29 % 8 %\\n\\n35 % -3 %\", metadata={'id': 'doc:basiclangchain:149529462a3f4cdc8f6306a02603c416', 'source': '/Users/rouzbeh.farahmand/PycharmProjects/boa-financial-rag-workshop/resources/10K/nke-10k-2023.pdf'}),\n",
       "  0.499),\n",
       " (Document(page_content=\"(Dollars in millions, except per share data)\\n\\nRevenues Cost of sales\\n\\nGross profit Gross margin\\n\\nDemand creation expense Operating overhead expense\\n\\nTotal selling and administrative expense % of revenues\\n\\nInterest expense (income), net\\n\\nOther (income) expense, net Income before income taxes\\n\\nIncome tax expense Effective tax rate\\n\\nNET INCOME Diluted earnings per common share\\n\\n$\\n\\n$ $\\n\\nFISCAL 2023\\n\\n51,217 28,925\\n\\n22,292\\n\\n43.5 %\\n\\n4,060 12,317\\n\\n16,377\\n\\n32.0 % (6)\\n\\n(280) 6,201\\n\\n1,131\\n\\n18.2 %\\n\\n5,070 3.23\\n\\n$\\n\\n$ $\\n\\nFISCAL 2022\\n\\n46,710 25,231\\n\\n21,479\\n\\n46.0 %\\n\\n3,850 10,954\\n\\n14,804\\n\\n31.7 % 205\\n\\n(181) 6,651\\n\\n605 9.1 %\\n\\n6,046 3.75\\n\\n% CHANGE\\n\\n10 % $ 15 %\\n\\n4 %\\n\\n5 % 12 %\\n\\n11 %\\n\\n—\\n\\n— -7 %\\n\\n87 %\\n\\n16 % $ -14 % $\\n\\nFISCAL 2021\\n\\n% CHANGE\\n\\n44,538 24,576\\n\\n5 % 3 %\\n\\n19,962\\n\\n8 %\\n\\n44.8 %\\n\\n3,114 9,911\\n\\n24 % 11 %\\n\\n13,025\\n\\n14 %\\n\\n29.2 % 262\\n\\n—\\n\\n14 6,661\\n\\n— 0 %\\n\\n934 14.0 %\\n\\n35 %\\n\\n5,727 3.56\\n\\n6 % 5 %\\n\\n2023 FORM 10-K 31\\n\\nTable of Contents\\n\\nCONSOLIDATED OPERATING RESULTS REVENUES\\n\\n(Dollars in millions)\\n\\nFISCAL 2023\\n\\nFISCAL 2022\\n\\n% CHANGE\\n\\n% CHANGE EXCLUDING CURRENCY (1) CHANGES\\n\\nFISCAL 2021\\n\\n% CHANGE\\n\\nNIKE, Inc. Revenues:\\n\\nNIKE Brand Revenues by:\\n\\nFootwear Apparel\\n\\n$\\n\\n33,135 $ 13,843\\n\\n29,143 13,567\\n\\n14 % 2 %\\n\\n20 % $ 8 %\\n\\n28,021 12,865\\n\\n4 % 5 %\\n\\nEquipment Global Brand Divisions\\n\\n(2)\\n\\nTotal NIKE Brand Revenues\\n\\n$\\n\\n1,727 58\\n\\n48,763 $\\n\\n1,624 102 44,436\\n\\n6 % -43 % 10 %\\n\\n13 % -43 % 16 % $\\n\\n1,382 25 42,293\\n\\n18 % 308 % 5 %\\n\\nConverse Corporate\\n\\n(3)\\n\\n2,427 27\\n\\n2,346 (72)\\n\\n3 % —\\n\\n8 % —\\n\\n2,205 40\\n\\n6 % —\\n\\nTOTAL NIKE, INC. REVENUES\\n\\n$\\n\\n51,217 $\\n\\n46,710\\n\\n10 %\\n\\n16 % $\\n\\n44,538\\n\\n5 %\\n\\nSupplemental NIKE Brand Revenues Details: NIKE Brand Revenues by:\\n\\nSales to Wholesale Customers\\n\\n$\\n\\n27,397 $\\n\\n25,608\\n\\n7 %\\n\\n14 % $\\n\\n25,898\\n\\n1 %\\n\\nSales through NIKE Direct Global Brand Divisions\\n\\n(2)\\n\\n21,308 58\\n\\n18,726 102\\n\\n14 % -43 %\\n\\n20 % -43 %\\n\\n16,370 25\\n\\n14 % 308 %\\n\\nTOTAL NIKE BRAND REVENUES (1) NIKE Brand Revenues on a Wholesale Equivalent Basis :\\n\\n$\\n\\n48,763 $\\n\\n44,436\\n\\n10 %\\n\\n16 % $\\n\\n42,293\\n\\n5 %\\n\\nSales to Wholesale Customers Sales from our Wholesale Operations to NIKE Direct Operations\\n\\nTOTAL NIKE BRAND WHOLESALE EQUIVALENT REVENUES NIKE Brand Wholesale Equivalent Revenues by:\\n\\n(1),(4)\\n\\n$\\n\\n$\\n\\n27,397 $ 12,730\\n\\n40,127 $\\n\\n25,608 10,543\\n\\n36,151\\n\\n7 % 21 %\\n\\n11 %\\n\\n14 % $ 27 %\\n\\n18 % $\\n\\n25,898 9,872\\n\\n35,770\\n\\n1 % 7 % 1 %\\n\\nMen's Women's NIKE Kids'\\n\\n$\\n\\n20,733 $ 8,606 5,038\\n\\n18,797 8,273 4,874\\n\\n10 % 4 % 3 %\\n\\n17 % $ 11 % 10 %\\n\\n18,391 8,225 4,882\\n\\n2 % 1 % 0 %\\n\\nJordan Brand (5) Others\\n\\n6,589 (839)\\n\\n5,122 (915)\\n\\n29 % 8 %\\n\\n35 % -3 %\", metadata={'id': 'doc:basiclangchain:4f2c021c587641a2807ae295d33e1cf4', 'source': '/Users/rouzbeh.farahmand/PycharmProjects/boa-financial-rag-workshop/resources/10K/nke-10k-2023.pdf'}),\n",
       "  0.499)]"
      ]
     },
     "execution_count": 14,
     "metadata": {},
     "output_type": "execute_result"
    }
   ],
   "execution_count": 14
  },
  {
   "cell_type": "code",
   "metadata": {
    "colab": {
     "base_uri": "https://localhost:8080/"
    },
    "id": "od6Wqmya1vmy",
    "outputId": "5dbac581-4a07-45b0-d630-995342e91dc7",
    "ExecuteTime": {
     "end_time": "2024-06-20T20:11:25.824355Z",
     "start_time": "2024-06-20T20:11:25.808496Z"
    }
   },
   "source": [
    "# vector search with metadata filtering\n",
    "f = RedisText(\"content\") % \"profit\"\n",
    "rds.similarity_search_with_score(query=\"Profit margins\", k=4, filter=f)"
   ],
   "outputs": [
    {
     "data": {
      "text/plain": [
       "[(Document(page_content=\"(Dollars in millions, except per share data)\\n\\nRevenues Cost of sales\\n\\nGross profit Gross margin\\n\\nDemand creation expense Operating overhead expense\\n\\nTotal selling and administrative expense % of revenues\\n\\nInterest expense (income), net\\n\\nOther (income) expense, net Income before income taxes\\n\\nIncome tax expense Effective tax rate\\n\\nNET INCOME Diluted earnings per common share\\n\\n$\\n\\n$ $\\n\\nFISCAL 2023\\n\\n51,217 28,925\\n\\n22,292\\n\\n43.5 %\\n\\n4,060 12,317\\n\\n16,377\\n\\n32.0 % (6)\\n\\n(280) 6,201\\n\\n1,131\\n\\n18.2 %\\n\\n5,070 3.23\\n\\n$\\n\\n$ $\\n\\nFISCAL 2022\\n\\n46,710 25,231\\n\\n21,479\\n\\n46.0 %\\n\\n3,850 10,954\\n\\n14,804\\n\\n31.7 % 205\\n\\n(181) 6,651\\n\\n605 9.1 %\\n\\n6,046 3.75\\n\\n% CHANGE\\n\\n10 % $ 15 %\\n\\n4 %\\n\\n5 % 12 %\\n\\n11 %\\n\\n—\\n\\n— -7 %\\n\\n87 %\\n\\n16 % $ -14 % $\\n\\nFISCAL 2021\\n\\n% CHANGE\\n\\n44,538 24,576\\n\\n5 % 3 %\\n\\n19,962\\n\\n8 %\\n\\n44.8 %\\n\\n3,114 9,911\\n\\n24 % 11 %\\n\\n13,025\\n\\n14 %\\n\\n29.2 % 262\\n\\n—\\n\\n14 6,661\\n\\n— 0 %\\n\\n934 14.0 %\\n\\n35 %\\n\\n5,727 3.56\\n\\n6 % 5 %\\n\\n2023 FORM 10-K 31\\n\\nTable of Contents\\n\\nCONSOLIDATED OPERATING RESULTS REVENUES\\n\\n(Dollars in millions)\\n\\nFISCAL 2023\\n\\nFISCAL 2022\\n\\n% CHANGE\\n\\n% CHANGE EXCLUDING CURRENCY (1) CHANGES\\n\\nFISCAL 2021\\n\\n% CHANGE\\n\\nNIKE, Inc. Revenues:\\n\\nNIKE Brand Revenues by:\\n\\nFootwear Apparel\\n\\n$\\n\\n33,135 $ 13,843\\n\\n29,143 13,567\\n\\n14 % 2 %\\n\\n20 % $ 8 %\\n\\n28,021 12,865\\n\\n4 % 5 %\\n\\nEquipment Global Brand Divisions\\n\\n(2)\\n\\nTotal NIKE Brand Revenues\\n\\n$\\n\\n1,727 58\\n\\n48,763 $\\n\\n1,624 102 44,436\\n\\n6 % -43 % 10 %\\n\\n13 % -43 % 16 % $\\n\\n1,382 25 42,293\\n\\n18 % 308 % 5 %\\n\\nConverse Corporate\\n\\n(3)\\n\\n2,427 27\\n\\n2,346 (72)\\n\\n3 % —\\n\\n8 % —\\n\\n2,205 40\\n\\n6 % —\\n\\nTOTAL NIKE, INC. REVENUES\\n\\n$\\n\\n51,217 $\\n\\n46,710\\n\\n10 %\\n\\n16 % $\\n\\n44,538\\n\\n5 %\\n\\nSupplemental NIKE Brand Revenues Details: NIKE Brand Revenues by:\\n\\nSales to Wholesale Customers\\n\\n$\\n\\n27,397 $\\n\\n25,608\\n\\n7 %\\n\\n14 % $\\n\\n25,898\\n\\n1 %\\n\\nSales through NIKE Direct Global Brand Divisions\\n\\n(2)\\n\\n21,308 58\\n\\n18,726 102\\n\\n14 % -43 %\\n\\n20 % -43 %\\n\\n16,370 25\\n\\n14 % 308 %\\n\\nTOTAL NIKE BRAND REVENUES (1) NIKE Brand Revenues on a Wholesale Equivalent Basis :\\n\\n$\\n\\n48,763 $\\n\\n44,436\\n\\n10 %\\n\\n16 % $\\n\\n42,293\\n\\n5 %\\n\\nSales to Wholesale Customers Sales from our Wholesale Operations to NIKE Direct Operations\\n\\nTOTAL NIKE BRAND WHOLESALE EQUIVALENT REVENUES NIKE Brand Wholesale Equivalent Revenues by:\\n\\n(1),(4)\\n\\n$\\n\\n$\\n\\n27,397 $ 12,730\\n\\n40,127 $\\n\\n25,608 10,543\\n\\n36,151\\n\\n7 % 21 %\\n\\n11 %\\n\\n14 % $ 27 %\\n\\n18 % $\\n\\n25,898 9,872\\n\\n35,770\\n\\n1 % 7 % 1 %\\n\\nMen's Women's NIKE Kids'\\n\\n$\\n\\n20,733 $ 8,606 5,038\\n\\n18,797 8,273 4,874\\n\\n10 % 4 % 3 %\\n\\n17 % $ 11 % 10 %\\n\\n18,391 8,225 4,882\\n\\n2 % 1 % 0 %\\n\\nJordan Brand (5) Others\\n\\n6,589 (839)\\n\\n5,122 (915)\\n\\n29 % 8 %\\n\\n35 % -3 %\", metadata={'id': 'doc:basiclangchain:c4091b9773c94e2991750321bf16c60f', 'source': '/Users/rouzbeh.farahmand/PycharmProjects/boa-financial-rag-workshop/resources/10K/nke-10k-2023.pdf'}),\n",
       "  0.499),\n",
       " (Document(page_content=\"(Dollars in millions, except per share data)\\n\\nRevenues Cost of sales\\n\\nGross profit Gross margin\\n\\nDemand creation expense Operating overhead expense\\n\\nTotal selling and administrative expense % of revenues\\n\\nInterest expense (income), net\\n\\nOther (income) expense, net Income before income taxes\\n\\nIncome tax expense Effective tax rate\\n\\nNET INCOME Diluted earnings per common share\\n\\n$\\n\\n$ $\\n\\nFISCAL 2023\\n\\n51,217 28,925\\n\\n22,292\\n\\n43.5 %\\n\\n4,060 12,317\\n\\n16,377\\n\\n32.0 % (6)\\n\\n(280) 6,201\\n\\n1,131\\n\\n18.2 %\\n\\n5,070 3.23\\n\\n$\\n\\n$ $\\n\\nFISCAL 2022\\n\\n46,710 25,231\\n\\n21,479\\n\\n46.0 %\\n\\n3,850 10,954\\n\\n14,804\\n\\n31.7 % 205\\n\\n(181) 6,651\\n\\n605 9.1 %\\n\\n6,046 3.75\\n\\n% CHANGE\\n\\n10 % $ 15 %\\n\\n4 %\\n\\n5 % 12 %\\n\\n11 %\\n\\n—\\n\\n— -7 %\\n\\n87 %\\n\\n16 % $ -14 % $\\n\\nFISCAL 2021\\n\\n% CHANGE\\n\\n44,538 24,576\\n\\n5 % 3 %\\n\\n19,962\\n\\n8 %\\n\\n44.8 %\\n\\n3,114 9,911\\n\\n24 % 11 %\\n\\n13,025\\n\\n14 %\\n\\n29.2 % 262\\n\\n—\\n\\n14 6,661\\n\\n— 0 %\\n\\n934 14.0 %\\n\\n35 %\\n\\n5,727 3.56\\n\\n6 % 5 %\\n\\n2023 FORM 10-K 31\\n\\nTable of Contents\\n\\nCONSOLIDATED OPERATING RESULTS REVENUES\\n\\n(Dollars in millions)\\n\\nFISCAL 2023\\n\\nFISCAL 2022\\n\\n% CHANGE\\n\\n% CHANGE EXCLUDING CURRENCY (1) CHANGES\\n\\nFISCAL 2021\\n\\n% CHANGE\\n\\nNIKE, Inc. Revenues:\\n\\nNIKE Brand Revenues by:\\n\\nFootwear Apparel\\n\\n$\\n\\n33,135 $ 13,843\\n\\n29,143 13,567\\n\\n14 % 2 %\\n\\n20 % $ 8 %\\n\\n28,021 12,865\\n\\n4 % 5 %\\n\\nEquipment Global Brand Divisions\\n\\n(2)\\n\\nTotal NIKE Brand Revenues\\n\\n$\\n\\n1,727 58\\n\\n48,763 $\\n\\n1,624 102 44,436\\n\\n6 % -43 % 10 %\\n\\n13 % -43 % 16 % $\\n\\n1,382 25 42,293\\n\\n18 % 308 % 5 %\\n\\nConverse Corporate\\n\\n(3)\\n\\n2,427 27\\n\\n2,346 (72)\\n\\n3 % —\\n\\n8 % —\\n\\n2,205 40\\n\\n6 % —\\n\\nTOTAL NIKE, INC. REVENUES\\n\\n$\\n\\n51,217 $\\n\\n46,710\\n\\n10 %\\n\\n16 % $\\n\\n44,538\\n\\n5 %\\n\\nSupplemental NIKE Brand Revenues Details: NIKE Brand Revenues by:\\n\\nSales to Wholesale Customers\\n\\n$\\n\\n27,397 $\\n\\n25,608\\n\\n7 %\\n\\n14 % $\\n\\n25,898\\n\\n1 %\\n\\nSales through NIKE Direct Global Brand Divisions\\n\\n(2)\\n\\n21,308 58\\n\\n18,726 102\\n\\n14 % -43 %\\n\\n20 % -43 %\\n\\n16,370 25\\n\\n14 % 308 %\\n\\nTOTAL NIKE BRAND REVENUES (1) NIKE Brand Revenues on a Wholesale Equivalent Basis :\\n\\n$\\n\\n48,763 $\\n\\n44,436\\n\\n10 %\\n\\n16 % $\\n\\n42,293\\n\\n5 %\\n\\nSales to Wholesale Customers Sales from our Wholesale Operations to NIKE Direct Operations\\n\\nTOTAL NIKE BRAND WHOLESALE EQUIVALENT REVENUES NIKE Brand Wholesale Equivalent Revenues by:\\n\\n(1),(4)\\n\\n$\\n\\n$\\n\\n27,397 $ 12,730\\n\\n40,127 $\\n\\n25,608 10,543\\n\\n36,151\\n\\n7 % 21 %\\n\\n11 %\\n\\n14 % $ 27 %\\n\\n18 % $\\n\\n25,898 9,872\\n\\n35,770\\n\\n1 % 7 % 1 %\\n\\nMen's Women's NIKE Kids'\\n\\n$\\n\\n20,733 $ 8,606 5,038\\n\\n18,797 8,273 4,874\\n\\n10 % 4 % 3 %\\n\\n17 % $ 11 % 10 %\\n\\n18,391 8,225 4,882\\n\\n2 % 1 % 0 %\\n\\nJordan Brand (5) Others\\n\\n6,589 (839)\\n\\n5,122 (915)\\n\\n29 % 8 %\\n\\n35 % -3 %\", metadata={'id': 'doc:basiclangchain:cda327bc88404ec68006afaf2461c3c8', 'source': '/Users/rouzbeh.farahmand/PycharmProjects/boa-financial-rag-workshop/resources/10K/nke-10k-2023.pdf'}),\n",
       "  0.499),\n",
       " (Document(page_content=\"(Dollars in millions, except per share data)\\n\\nRevenues Cost of sales\\n\\nGross profit Gross margin\\n\\nDemand creation expense Operating overhead expense\\n\\nTotal selling and administrative expense % of revenues\\n\\nInterest expense (income), net\\n\\nOther (income) expense, net Income before income taxes\\n\\nIncome tax expense Effective tax rate\\n\\nNET INCOME Diluted earnings per common share\\n\\n$\\n\\n$ $\\n\\nFISCAL 2023\\n\\n51,217 28,925\\n\\n22,292\\n\\n43.5 %\\n\\n4,060 12,317\\n\\n16,377\\n\\n32.0 % (6)\\n\\n(280) 6,201\\n\\n1,131\\n\\n18.2 %\\n\\n5,070 3.23\\n\\n$\\n\\n$ $\\n\\nFISCAL 2022\\n\\n46,710 25,231\\n\\n21,479\\n\\n46.0 %\\n\\n3,850 10,954\\n\\n14,804\\n\\n31.7 % 205\\n\\n(181) 6,651\\n\\n605 9.1 %\\n\\n6,046 3.75\\n\\n% CHANGE\\n\\n10 % $ 15 %\\n\\n4 %\\n\\n5 % 12 %\\n\\n11 %\\n\\n—\\n\\n— -7 %\\n\\n87 %\\n\\n16 % $ -14 % $\\n\\nFISCAL 2021\\n\\n% CHANGE\\n\\n44,538 24,576\\n\\n5 % 3 %\\n\\n19,962\\n\\n8 %\\n\\n44.8 %\\n\\n3,114 9,911\\n\\n24 % 11 %\\n\\n13,025\\n\\n14 %\\n\\n29.2 % 262\\n\\n—\\n\\n14 6,661\\n\\n— 0 %\\n\\n934 14.0 %\\n\\n35 %\\n\\n5,727 3.56\\n\\n6 % 5 %\\n\\n2023 FORM 10-K 31\\n\\nTable of Contents\\n\\nCONSOLIDATED OPERATING RESULTS REVENUES\\n\\n(Dollars in millions)\\n\\nFISCAL 2023\\n\\nFISCAL 2022\\n\\n% CHANGE\\n\\n% CHANGE EXCLUDING CURRENCY (1) CHANGES\\n\\nFISCAL 2021\\n\\n% CHANGE\\n\\nNIKE, Inc. Revenues:\\n\\nNIKE Brand Revenues by:\\n\\nFootwear Apparel\\n\\n$\\n\\n33,135 $ 13,843\\n\\n29,143 13,567\\n\\n14 % 2 %\\n\\n20 % $ 8 %\\n\\n28,021 12,865\\n\\n4 % 5 %\\n\\nEquipment Global Brand Divisions\\n\\n(2)\\n\\nTotal NIKE Brand Revenues\\n\\n$\\n\\n1,727 58\\n\\n48,763 $\\n\\n1,624 102 44,436\\n\\n6 % -43 % 10 %\\n\\n13 % -43 % 16 % $\\n\\n1,382 25 42,293\\n\\n18 % 308 % 5 %\\n\\nConverse Corporate\\n\\n(3)\\n\\n2,427 27\\n\\n2,346 (72)\\n\\n3 % —\\n\\n8 % —\\n\\n2,205 40\\n\\n6 % —\\n\\nTOTAL NIKE, INC. REVENUES\\n\\n$\\n\\n51,217 $\\n\\n46,710\\n\\n10 %\\n\\n16 % $\\n\\n44,538\\n\\n5 %\\n\\nSupplemental NIKE Brand Revenues Details: NIKE Brand Revenues by:\\n\\nSales to Wholesale Customers\\n\\n$\\n\\n27,397 $\\n\\n25,608\\n\\n7 %\\n\\n14 % $\\n\\n25,898\\n\\n1 %\\n\\nSales through NIKE Direct Global Brand Divisions\\n\\n(2)\\n\\n21,308 58\\n\\n18,726 102\\n\\n14 % -43 %\\n\\n20 % -43 %\\n\\n16,370 25\\n\\n14 % 308 %\\n\\nTOTAL NIKE BRAND REVENUES (1) NIKE Brand Revenues on a Wholesale Equivalent Basis :\\n\\n$\\n\\n48,763 $\\n\\n44,436\\n\\n10 %\\n\\n16 % $\\n\\n42,293\\n\\n5 %\\n\\nSales to Wholesale Customers Sales from our Wholesale Operations to NIKE Direct Operations\\n\\nTOTAL NIKE BRAND WHOLESALE EQUIVALENT REVENUES NIKE Brand Wholesale Equivalent Revenues by:\\n\\n(1),(4)\\n\\n$\\n\\n$\\n\\n27,397 $ 12,730\\n\\n40,127 $\\n\\n25,608 10,543\\n\\n36,151\\n\\n7 % 21 %\\n\\n11 %\\n\\n14 % $ 27 %\\n\\n18 % $\\n\\n25,898 9,872\\n\\n35,770\\n\\n1 % 7 % 1 %\\n\\nMen's Women's NIKE Kids'\\n\\n$\\n\\n20,733 $ 8,606 5,038\\n\\n18,797 8,273 4,874\\n\\n10 % 4 % 3 %\\n\\n17 % $ 11 % 10 %\\n\\n18,391 8,225 4,882\\n\\n2 % 1 % 0 %\\n\\nJordan Brand (5) Others\\n\\n6,589 (839)\\n\\n5,122 (915)\\n\\n29 % 8 %\\n\\n35 % -3 %\", metadata={'id': 'doc:basiclangchain:149529462a3f4cdc8f6306a02603c416', 'source': '/Users/rouzbeh.farahmand/PycharmProjects/boa-financial-rag-workshop/resources/10K/nke-10k-2023.pdf'}),\n",
       "  0.499),\n",
       " (Document(page_content=\"(Dollars in millions, except per share data)\\n\\nRevenues Cost of sales\\n\\nGross profit Gross margin\\n\\nDemand creation expense Operating overhead expense\\n\\nTotal selling and administrative expense % of revenues\\n\\nInterest expense (income), net\\n\\nOther (income) expense, net Income before income taxes\\n\\nIncome tax expense Effective tax rate\\n\\nNET INCOME Diluted earnings per common share\\n\\n$\\n\\n$ $\\n\\nFISCAL 2023\\n\\n51,217 28,925\\n\\n22,292\\n\\n43.5 %\\n\\n4,060 12,317\\n\\n16,377\\n\\n32.0 % (6)\\n\\n(280) 6,201\\n\\n1,131\\n\\n18.2 %\\n\\n5,070 3.23\\n\\n$\\n\\n$ $\\n\\nFISCAL 2022\\n\\n46,710 25,231\\n\\n21,479\\n\\n46.0 %\\n\\n3,850 10,954\\n\\n14,804\\n\\n31.7 % 205\\n\\n(181) 6,651\\n\\n605 9.1 %\\n\\n6,046 3.75\\n\\n% CHANGE\\n\\n10 % $ 15 %\\n\\n4 %\\n\\n5 % 12 %\\n\\n11 %\\n\\n—\\n\\n— -7 %\\n\\n87 %\\n\\n16 % $ -14 % $\\n\\nFISCAL 2021\\n\\n% CHANGE\\n\\n44,538 24,576\\n\\n5 % 3 %\\n\\n19,962\\n\\n8 %\\n\\n44.8 %\\n\\n3,114 9,911\\n\\n24 % 11 %\\n\\n13,025\\n\\n14 %\\n\\n29.2 % 262\\n\\n—\\n\\n14 6,661\\n\\n— 0 %\\n\\n934 14.0 %\\n\\n35 %\\n\\n5,727 3.56\\n\\n6 % 5 %\\n\\n2023 FORM 10-K 31\\n\\nTable of Contents\\n\\nCONSOLIDATED OPERATING RESULTS REVENUES\\n\\n(Dollars in millions)\\n\\nFISCAL 2023\\n\\nFISCAL 2022\\n\\n% CHANGE\\n\\n% CHANGE EXCLUDING CURRENCY (1) CHANGES\\n\\nFISCAL 2021\\n\\n% CHANGE\\n\\nNIKE, Inc. Revenues:\\n\\nNIKE Brand Revenues by:\\n\\nFootwear Apparel\\n\\n$\\n\\n33,135 $ 13,843\\n\\n29,143 13,567\\n\\n14 % 2 %\\n\\n20 % $ 8 %\\n\\n28,021 12,865\\n\\n4 % 5 %\\n\\nEquipment Global Brand Divisions\\n\\n(2)\\n\\nTotal NIKE Brand Revenues\\n\\n$\\n\\n1,727 58\\n\\n48,763 $\\n\\n1,624 102 44,436\\n\\n6 % -43 % 10 %\\n\\n13 % -43 % 16 % $\\n\\n1,382 25 42,293\\n\\n18 % 308 % 5 %\\n\\nConverse Corporate\\n\\n(3)\\n\\n2,427 27\\n\\n2,346 (72)\\n\\n3 % —\\n\\n8 % —\\n\\n2,205 40\\n\\n6 % —\\n\\nTOTAL NIKE, INC. REVENUES\\n\\n$\\n\\n51,217 $\\n\\n46,710\\n\\n10 %\\n\\n16 % $\\n\\n44,538\\n\\n5 %\\n\\nSupplemental NIKE Brand Revenues Details: NIKE Brand Revenues by:\\n\\nSales to Wholesale Customers\\n\\n$\\n\\n27,397 $\\n\\n25,608\\n\\n7 %\\n\\n14 % $\\n\\n25,898\\n\\n1 %\\n\\nSales through NIKE Direct Global Brand Divisions\\n\\n(2)\\n\\n21,308 58\\n\\n18,726 102\\n\\n14 % -43 %\\n\\n20 % -43 %\\n\\n16,370 25\\n\\n14 % 308 %\\n\\nTOTAL NIKE BRAND REVENUES (1) NIKE Brand Revenues on a Wholesale Equivalent Basis :\\n\\n$\\n\\n48,763 $\\n\\n44,436\\n\\n10 %\\n\\n16 % $\\n\\n42,293\\n\\n5 %\\n\\nSales to Wholesale Customers Sales from our Wholesale Operations to NIKE Direct Operations\\n\\nTOTAL NIKE BRAND WHOLESALE EQUIVALENT REVENUES NIKE Brand Wholesale Equivalent Revenues by:\\n\\n(1),(4)\\n\\n$\\n\\n$\\n\\n27,397 $ 12,730\\n\\n40,127 $\\n\\n25,608 10,543\\n\\n36,151\\n\\n7 % 21 %\\n\\n11 %\\n\\n14 % $ 27 %\\n\\n18 % $\\n\\n25,898 9,872\\n\\n35,770\\n\\n1 % 7 % 1 %\\n\\nMen's Women's NIKE Kids'\\n\\n$\\n\\n20,733 $ 8,606 5,038\\n\\n18,797 8,273 4,874\\n\\n10 % 4 % 3 %\\n\\n17 % $ 11 % 10 %\\n\\n18,391 8,225 4,882\\n\\n2 % 1 % 0 %\\n\\nJordan Brand (5) Others\\n\\n6,589 (839)\\n\\n5,122 (915)\\n\\n29 % 8 %\\n\\n35 % -3 %\", metadata={'id': 'doc:basiclangchain:4f2c021c587641a2807ae295d33e1cf4', 'source': '/Users/rouzbeh.farahmand/PycharmProjects/boa-financial-rag-workshop/resources/10K/nke-10k-2023.pdf'}),\n",
       "  0.499)]"
      ]
     },
     "execution_count": 15,
     "metadata": {},
     "output_type": "execute_result"
    }
   ],
   "execution_count": 15
  },
  {
   "cell_type": "code",
   "metadata": {
    "colab": {
     "base_uri": "https://localhost:8080/"
    },
    "id": "DT9sPHw51vmy",
    "outputId": "7d2b8969-91b8-4ff7-81ba-9d0cb6280edc",
    "ExecuteTime": {
     "end_time": "2024-06-20T20:11:25.879760Z",
     "start_time": "2024-06-20T20:11:25.825078Z"
    }
   },
   "source": [
    "# vector search with combinations of metadata filtering\n",
    "f = (RedisText(\"content\") % \"profit\") | (RedisText(\"content\") % \"revenue\")\n",
    "rds.similarity_search_with_score(query=\"Nike company revenue\", k=4, filter=f)"
   ],
   "outputs": [
    {
     "data": {
      "text/plain": [
       "[(Document(page_content='4,780 (508)\\n\\n7 % -80 %\\n\\nTOTAL NIKE BRAND WHOLESALE EQUIVALENT REVENUES\\n\\n$\\n\\n40,127 $\\n\\n36,151\\n\\n11 %\\n\\n18 % $\\n\\n35,770\\n\\n1 %\\n\\n(1)\\n\\nThe percent change excluding currency changes and the presentation of wholesale equivalent revenues represent non-GAAP financial measures. For further information, see \"Use of Non-GAAP Financial Measures\".\\n\\n(2) Global Brand Divisions revenues include NIKE Brand licensing and other miscellaneous revenues that are not part of a geographic operating segment.\\n\\n(3) Corporate revenues primarily consist of foreign currency hedge gains and losses related to revenues generated by entities within the NIKE Brand geographic operating segments and Converse, but\\n\\nmanaged through our central foreign exchange risk management program.\\n\\n(4)\\n\\nAs a result of the Consumer Direct Acceleration strategy, announced in fiscal 2021, the Company is now organized around a consumer construct of Men\\'s, Women\\'s and Kids\\'. Beginning in the first quarter of fiscal 2022, unisex products are classified within Men\\'s, and Jordan Brand revenues are separately reported. Certain prior year amounts were reclassified to conform to fiscal 2022 presentation. These changes had no impact on previously reported consolidated results of operations or shareholders\\' equity.\\n\\n(5) Others include products not allocated to Men\\'s, Women\\'s, NIKE Kids\\' and Jordan Brand, as well as certain adjustments that are not allocated to products designated by consumer.\\n\\n2023 FORM 10-K 32\\n\\n% CHANGE EXCLUDING CURRENCY (1) CHANGES\\n\\n4 % 6 %\\n\\n18 % 302 % 6 %\\n\\n7 % —\\n\\n6 %\\n\\n1 %\\n\\n15 % 302 %\\n\\n6 %\\n\\n1 % 7 % 1 %\\n\\n3 % 1 % 0 %\\n\\n7 % -79 %\\n\\n1 %\\n\\nTable of Contents\\n\\nFISCAL 2023 NIKE BRAND REVENUE HIGHLIGHTS The following tables present NIKE Brand revenues disaggregated by reportable operating segment, distribution channel and major product line:\\n\\nFISCAL 2023 COMPARED TO FISCAL 2022\\n\\nNIKE, Inc. Revenues were $51.2 billion in fiscal 2023, which increased 10% and 16% compared to fiscal 2022 on a reported and currency-neutral basis, respectively. The increase was due to higher revenues in North America, Europe, Middle East & Africa (\"EMEA\"), APLA and Greater China, which contributed approximately 7, 6, 2 and 1 percentage points to NIKE, Inc. Revenues, respectively.', metadata={'id': 'doc:basiclangchain:aed4e3079c5449d28d79552cf139430c', 'source': '/Users/rouzbeh.farahmand/PycharmProjects/boa-financial-rag-workshop/resources/10K/nke-10k-2023.pdf'}),\n",
       "  0.2835),\n",
       " (Document(page_content='4,780 (508)\\n\\n7 % -80 %\\n\\nTOTAL NIKE BRAND WHOLESALE EQUIVALENT REVENUES\\n\\n$\\n\\n40,127 $\\n\\n36,151\\n\\n11 %\\n\\n18 % $\\n\\n35,770\\n\\n1 %\\n\\n(1)\\n\\nThe percent change excluding currency changes and the presentation of wholesale equivalent revenues represent non-GAAP financial measures. For further information, see \"Use of Non-GAAP Financial Measures\".\\n\\n(2) Global Brand Divisions revenues include NIKE Brand licensing and other miscellaneous revenues that are not part of a geographic operating segment.\\n\\n(3) Corporate revenues primarily consist of foreign currency hedge gains and losses related to revenues generated by entities within the NIKE Brand geographic operating segments and Converse, but\\n\\nmanaged through our central foreign exchange risk management program.\\n\\n(4)\\n\\nAs a result of the Consumer Direct Acceleration strategy, announced in fiscal 2021, the Company is now organized around a consumer construct of Men\\'s, Women\\'s and Kids\\'. Beginning in the first quarter of fiscal 2022, unisex products are classified within Men\\'s, and Jordan Brand revenues are separately reported. Certain prior year amounts were reclassified to conform to fiscal 2022 presentation. These changes had no impact on previously reported consolidated results of operations or shareholders\\' equity.\\n\\n(5) Others include products not allocated to Men\\'s, Women\\'s, NIKE Kids\\' and Jordan Brand, as well as certain adjustments that are not allocated to products designated by consumer.\\n\\n2023 FORM 10-K 32\\n\\n% CHANGE EXCLUDING CURRENCY (1) CHANGES\\n\\n4 % 6 %\\n\\n18 % 302 % 6 %\\n\\n7 % —\\n\\n6 %\\n\\n1 %\\n\\n15 % 302 %\\n\\n6 %\\n\\n1 % 7 % 1 %\\n\\n3 % 1 % 0 %\\n\\n7 % -79 %\\n\\n1 %\\n\\nTable of Contents\\n\\nFISCAL 2023 NIKE BRAND REVENUE HIGHLIGHTS The following tables present NIKE Brand revenues disaggregated by reportable operating segment, distribution channel and major product line:\\n\\nFISCAL 2023 COMPARED TO FISCAL 2022\\n\\nNIKE, Inc. Revenues were $51.2 billion in fiscal 2023, which increased 10% and 16% compared to fiscal 2022 on a reported and currency-neutral basis, respectively. The increase was due to higher revenues in North America, Europe, Middle East & Africa (\"EMEA\"), APLA and Greater China, which contributed approximately 7, 6, 2 and 1 percentage points to NIKE, Inc. Revenues, respectively.', metadata={'id': 'doc:basiclangchain:06a196da1abd4f629c1aaef3de70751f', 'source': '/Users/rouzbeh.farahmand/PycharmProjects/boa-financial-rag-workshop/resources/10K/nke-10k-2023.pdf'}),\n",
       "  0.2835),\n",
       " (Document(page_content='4,780 (508)\\n\\n7 % -80 %\\n\\nTOTAL NIKE BRAND WHOLESALE EQUIVALENT REVENUES\\n\\n$\\n\\n40,127 $\\n\\n36,151\\n\\n11 %\\n\\n18 % $\\n\\n35,770\\n\\n1 %\\n\\n(1)\\n\\nThe percent change excluding currency changes and the presentation of wholesale equivalent revenues represent non-GAAP financial measures. For further information, see \"Use of Non-GAAP Financial Measures\".\\n\\n(2) Global Brand Divisions revenues include NIKE Brand licensing and other miscellaneous revenues that are not part of a geographic operating segment.\\n\\n(3) Corporate revenues primarily consist of foreign currency hedge gains and losses related to revenues generated by entities within the NIKE Brand geographic operating segments and Converse, but\\n\\nmanaged through our central foreign exchange risk management program.\\n\\n(4)\\n\\nAs a result of the Consumer Direct Acceleration strategy, announced in fiscal 2021, the Company is now organized around a consumer construct of Men\\'s, Women\\'s and Kids\\'. Beginning in the first quarter of fiscal 2022, unisex products are classified within Men\\'s, and Jordan Brand revenues are separately reported. Certain prior year amounts were reclassified to conform to fiscal 2022 presentation. These changes had no impact on previously reported consolidated results of operations or shareholders\\' equity.\\n\\n(5) Others include products not allocated to Men\\'s, Women\\'s, NIKE Kids\\' and Jordan Brand, as well as certain adjustments that are not allocated to products designated by consumer.\\n\\n2023 FORM 10-K 32\\n\\n% CHANGE EXCLUDING CURRENCY (1) CHANGES\\n\\n4 % 6 %\\n\\n18 % 302 % 6 %\\n\\n7 % —\\n\\n6 %\\n\\n1 %\\n\\n15 % 302 %\\n\\n6 %\\n\\n1 % 7 % 1 %\\n\\n3 % 1 % 0 %\\n\\n7 % -79 %\\n\\n1 %\\n\\nTable of Contents\\n\\nFISCAL 2023 NIKE BRAND REVENUE HIGHLIGHTS The following tables present NIKE Brand revenues disaggregated by reportable operating segment, distribution channel and major product line:\\n\\nFISCAL 2023 COMPARED TO FISCAL 2022\\n\\nNIKE, Inc. Revenues were $51.2 billion in fiscal 2023, which increased 10% and 16% compared to fiscal 2022 on a reported and currency-neutral basis, respectively. The increase was due to higher revenues in North America, Europe, Middle East & Africa (\"EMEA\"), APLA and Greater China, which contributed approximately 7, 6, 2 and 1 percentage points to NIKE, Inc. Revenues, respectively.', metadata={'id': 'doc:basiclangchain:3d527b76c7014ccd94f99aa4b3e79bf8', 'source': '/Users/rouzbeh.farahmand/PycharmProjects/boa-financial-rag-workshop/resources/10K/nke-10k-2023.pdf'}),\n",
       "  0.2835),\n",
       " (Document(page_content='4,780 (508)\\n\\n7 % -80 %\\n\\nTOTAL NIKE BRAND WHOLESALE EQUIVALENT REVENUES\\n\\n$\\n\\n40,127 $\\n\\n36,151\\n\\n11 %\\n\\n18 % $\\n\\n35,770\\n\\n1 %\\n\\n(1)\\n\\nThe percent change excluding currency changes and the presentation of wholesale equivalent revenues represent non-GAAP financial measures. For further information, see \"Use of Non-GAAP Financial Measures\".\\n\\n(2) Global Brand Divisions revenues include NIKE Brand licensing and other miscellaneous revenues that are not part of a geographic operating segment.\\n\\n(3) Corporate revenues primarily consist of foreign currency hedge gains and losses related to revenues generated by entities within the NIKE Brand geographic operating segments and Converse, but\\n\\nmanaged through our central foreign exchange risk management program.\\n\\n(4)\\n\\nAs a result of the Consumer Direct Acceleration strategy, announced in fiscal 2021, the Company is now organized around a consumer construct of Men\\'s, Women\\'s and Kids\\'. Beginning in the first quarter of fiscal 2022, unisex products are classified within Men\\'s, and Jordan Brand revenues are separately reported. Certain prior year amounts were reclassified to conform to fiscal 2022 presentation. These changes had no impact on previously reported consolidated results of operations or shareholders\\' equity.\\n\\n(5) Others include products not allocated to Men\\'s, Women\\'s, NIKE Kids\\' and Jordan Brand, as well as certain adjustments that are not allocated to products designated by consumer.\\n\\n2023 FORM 10-K 32\\n\\n% CHANGE EXCLUDING CURRENCY (1) CHANGES\\n\\n4 % 6 %\\n\\n18 % 302 % 6 %\\n\\n7 % —\\n\\n6 %\\n\\n1 %\\n\\n15 % 302 %\\n\\n6 %\\n\\n1 % 7 % 1 %\\n\\n3 % 1 % 0 %\\n\\n7 % -79 %\\n\\n1 %\\n\\nTable of Contents\\n\\nFISCAL 2023 NIKE BRAND REVENUE HIGHLIGHTS The following tables present NIKE Brand revenues disaggregated by reportable operating segment, distribution channel and major product line:\\n\\nFISCAL 2023 COMPARED TO FISCAL 2022\\n\\nNIKE, Inc. Revenues were $51.2 billion in fiscal 2023, which increased 10% and 16% compared to fiscal 2022 on a reported and currency-neutral basis, respectively. The increase was due to higher revenues in North America, Europe, Middle East & Africa (\"EMEA\"), APLA and Greater China, which contributed approximately 7, 6, 2 and 1 percentage points to NIKE, Inc. Revenues, respectively.', metadata={'id': 'doc:basiclangchain:d54487075b0144a6a24846df80feb7de', 'source': '/Users/rouzbeh.farahmand/PycharmProjects/boa-financial-rag-workshop/resources/10K/nke-10k-2023.pdf'}),\n",
       "  0.2835)]"
      ]
     },
     "execution_count": 16,
     "metadata": {},
     "output_type": "execute_result"
    }
   ],
   "execution_count": 16
  },
  {
   "cell_type": "code",
   "metadata": {
    "colab": {
     "base_uri": "https://localhost:8080/"
    },
    "id": "kIoGJOop1vmz",
    "outputId": "9abbf5fd-77de-4094-a2e8-fba2fc5a3a05",
    "ExecuteTime": {
     "end_time": "2024-06-20T20:11:25.894634Z",
     "start_time": "2024-06-20T20:11:25.880283Z"
    }
   },
   "source": [
    "# filter results to a certain distance threshold\n",
    "rds.similarity_search_with_score(query=\"Nike company revenue\", k=4, distance_threshold=0.5)"
   ],
   "outputs": [
    {
     "data": {
      "text/plain": [
       "[(Document(page_content='As discussed in Note 15 — Operating Segments and Related Information in the accompanying Notes to the Consolidated Financial Statements, our operating segments are evidence of the structure of the Company\\'s internal organization. The NIKE Brand segments are defined by geographic regions for operations participating in NIKE Brand sales activity.\\n\\nThe breakdown of Revenues is as follows:\\n\\n(Dollars in millions)\\n\\nFISCAL 2023 FISCAL 2022\\n\\n% CHANGE\\n\\n% CHANGE EXCLUDING CURRENCY (1) CHANGES FISCAL 2021\\n\\n% CHANGE\\n\\nNorth America Europe, Middle East & Africa Greater China\\n\\n$\\n\\n21,608 $ 13,418 7,248\\n\\n18,353 12,479 7,547\\n\\n18 % 8 % -4 %\\n\\n18 % $ 21 % 4 %\\n\\n17,179 11,456 8,290\\n\\n7 % 9 % -9 %\\n\\nAsia Pacific & Latin America Global Brand Divisions\\n\\n(3)\\n\\n(2)\\n\\n6,431 58\\n\\n5,955 102\\n\\n8 % -43 %\\n\\n17 % -43 %\\n\\n5,343 25\\n\\n11 % 308 %\\n\\nTOTAL NIKE BRAND Converse\\n\\n$\\n\\n48,763 $ 2,427\\n\\n44,436 2,346\\n\\n10 % 3 %\\n\\n16 % $ 8 %\\n\\n42,293 2,205\\n\\n5 % 6 %\\n\\n(4)\\n\\nCorporate TOTAL NIKE, INC. REVENUES\\n\\n$\\n\\n27\\n\\n51,217 $\\n\\n(72) 46,710\\n\\n— 10 %\\n\\n— 16 % $\\n\\n40 44,538\\n\\n— 5 %\\n\\n(1) The percent change excluding currency changes represents a non-GAAP financial measure. For further information, see \"Use of Non-GAAP Financial Measures\".\\n\\n(2) For additional information on the transition of our NIKE Brand businesses within our CASA territory to a third-party distributor, see Note 18 — Acquisitions and Divestitures of the Notes to Consolidated\\n\\nFinancial Statements contained in Item 8 of this Annual Report.\\n\\n(3) Global Brand Divisions revenues include NIKE Brand licensing and other miscellaneous revenues that are not part of a geographic operating segment.\\n\\n(4) Corporate revenues primarily consist of foreign currency hedge gains and losses related to revenues generated by entities within the NIKE Brand geographic operating segments and Converse, but\\n\\nmanaged through our central foreign exchange risk management program.\\n\\nThe primary financial measure used by the Company to evaluate performance is Earnings Before Interest and Taxes (\"EBIT\"). As discussed in Note 15 — Operating Segments and Related Information in the accompanying Notes to the Consolidated Financial Statements, certain corporate costs are not included in EBIT.\\n\\nThe breakdown of EBIT is as follows:\\n\\n(Dollars in millions)\\n\\nFISCAL 2023\\n\\nFISCAL 2022\\n\\n% CHANGE\\n\\nFISCAL 2021\\n\\nNorth America Europe, Middle East & Africa Greater China\\n\\n$\\n\\n5,454 3,531 2,283\\n\\n$\\n\\n5,114 3,293 2,365\\n\\n7 % $ 7 % -3 %\\n\\n5,089 2,435 3,243\\n\\nAsia Pacific & Latin America Global Brand Divisions (1)', metadata={'id': 'doc:basiclangchain:efc2d4c9ab814029a314d0c6ef603bbb', 'source': '/Users/rouzbeh.farahmand/PycharmProjects/boa-financial-rag-workshop/resources/10K/nke-10k-2023.pdf'}),\n",
       "  0.2333),\n",
       " (Document(page_content='As discussed in Note 15 — Operating Segments and Related Information in the accompanying Notes to the Consolidated Financial Statements, our operating segments are evidence of the structure of the Company\\'s internal organization. The NIKE Brand segments are defined by geographic regions for operations participating in NIKE Brand sales activity.\\n\\nThe breakdown of Revenues is as follows:\\n\\n(Dollars in millions)\\n\\nFISCAL 2023 FISCAL 2022\\n\\n% CHANGE\\n\\n% CHANGE EXCLUDING CURRENCY (1) CHANGES FISCAL 2021\\n\\n% CHANGE\\n\\nNorth America Europe, Middle East & Africa Greater China\\n\\n$\\n\\n21,608 $ 13,418 7,248\\n\\n18,353 12,479 7,547\\n\\n18 % 8 % -4 %\\n\\n18 % $ 21 % 4 %\\n\\n17,179 11,456 8,290\\n\\n7 % 9 % -9 %\\n\\nAsia Pacific & Latin America Global Brand Divisions\\n\\n(3)\\n\\n(2)\\n\\n6,431 58\\n\\n5,955 102\\n\\n8 % -43 %\\n\\n17 % -43 %\\n\\n5,343 25\\n\\n11 % 308 %\\n\\nTOTAL NIKE BRAND Converse\\n\\n$\\n\\n48,763 $ 2,427\\n\\n44,436 2,346\\n\\n10 % 3 %\\n\\n16 % $ 8 %\\n\\n42,293 2,205\\n\\n5 % 6 %\\n\\n(4)\\n\\nCorporate TOTAL NIKE, INC. REVENUES\\n\\n$\\n\\n27\\n\\n51,217 $\\n\\n(72) 46,710\\n\\n— 10 %\\n\\n— 16 % $\\n\\n40 44,538\\n\\n— 5 %\\n\\n(1) The percent change excluding currency changes represents a non-GAAP financial measure. For further information, see \"Use of Non-GAAP Financial Measures\".\\n\\n(2) For additional information on the transition of our NIKE Brand businesses within our CASA territory to a third-party distributor, see Note 18 — Acquisitions and Divestitures of the Notes to Consolidated\\n\\nFinancial Statements contained in Item 8 of this Annual Report.\\n\\n(3) Global Brand Divisions revenues include NIKE Brand licensing and other miscellaneous revenues that are not part of a geographic operating segment.\\n\\n(4) Corporate revenues primarily consist of foreign currency hedge gains and losses related to revenues generated by entities within the NIKE Brand geographic operating segments and Converse, but\\n\\nmanaged through our central foreign exchange risk management program.\\n\\nThe primary financial measure used by the Company to evaluate performance is Earnings Before Interest and Taxes (\"EBIT\"). As discussed in Note 15 — Operating Segments and Related Information in the accompanying Notes to the Consolidated Financial Statements, certain corporate costs are not included in EBIT.\\n\\nThe breakdown of EBIT is as follows:\\n\\n(Dollars in millions)\\n\\nFISCAL 2023\\n\\nFISCAL 2022\\n\\n% CHANGE\\n\\nFISCAL 2021\\n\\nNorth America Europe, Middle East & Africa Greater China\\n\\n$\\n\\n5,454 3,531 2,283\\n\\n$\\n\\n5,114 3,293 2,365\\n\\n7 % $ 7 % -3 %\\n\\n5,089 2,435 3,243\\n\\nAsia Pacific & Latin America Global Brand Divisions (1)', metadata={'id': 'doc:basiclangchain:619ff59709f54d438b446e7d6ac03a33', 'source': '/Users/rouzbeh.farahmand/PycharmProjects/boa-financial-rag-workshop/resources/10K/nke-10k-2023.pdf'}),\n",
       "  0.2333),\n",
       " (Document(page_content='As discussed in Note 15 — Operating Segments and Related Information in the accompanying Notes to the Consolidated Financial Statements, our operating segments are evidence of the structure of the Company\\'s internal organization. The NIKE Brand segments are defined by geographic regions for operations participating in NIKE Brand sales activity.\\n\\nThe breakdown of Revenues is as follows:\\n\\n(Dollars in millions)\\n\\nFISCAL 2023 FISCAL 2022\\n\\n% CHANGE\\n\\n% CHANGE EXCLUDING CURRENCY (1) CHANGES FISCAL 2021\\n\\n% CHANGE\\n\\nNorth America Europe, Middle East & Africa Greater China\\n\\n$\\n\\n21,608 $ 13,418 7,248\\n\\n18,353 12,479 7,547\\n\\n18 % 8 % -4 %\\n\\n18 % $ 21 % 4 %\\n\\n17,179 11,456 8,290\\n\\n7 % 9 % -9 %\\n\\nAsia Pacific & Latin America Global Brand Divisions\\n\\n(3)\\n\\n(2)\\n\\n6,431 58\\n\\n5,955 102\\n\\n8 % -43 %\\n\\n17 % -43 %\\n\\n5,343 25\\n\\n11 % 308 %\\n\\nTOTAL NIKE BRAND Converse\\n\\n$\\n\\n48,763 $ 2,427\\n\\n44,436 2,346\\n\\n10 % 3 %\\n\\n16 % $ 8 %\\n\\n42,293 2,205\\n\\n5 % 6 %\\n\\n(4)\\n\\nCorporate TOTAL NIKE, INC. REVENUES\\n\\n$\\n\\n27\\n\\n51,217 $\\n\\n(72) 46,710\\n\\n— 10 %\\n\\n— 16 % $\\n\\n40 44,538\\n\\n— 5 %\\n\\n(1) The percent change excluding currency changes represents a non-GAAP financial measure. For further information, see \"Use of Non-GAAP Financial Measures\".\\n\\n(2) For additional information on the transition of our NIKE Brand businesses within our CASA territory to a third-party distributor, see Note 18 — Acquisitions and Divestitures of the Notes to Consolidated\\n\\nFinancial Statements contained in Item 8 of this Annual Report.\\n\\n(3) Global Brand Divisions revenues include NIKE Brand licensing and other miscellaneous revenues that are not part of a geographic operating segment.\\n\\n(4) Corporate revenues primarily consist of foreign currency hedge gains and losses related to revenues generated by entities within the NIKE Brand geographic operating segments and Converse, but\\n\\nmanaged through our central foreign exchange risk management program.\\n\\nThe primary financial measure used by the Company to evaluate performance is Earnings Before Interest and Taxes (\"EBIT\"). As discussed in Note 15 — Operating Segments and Related Information in the accompanying Notes to the Consolidated Financial Statements, certain corporate costs are not included in EBIT.\\n\\nThe breakdown of EBIT is as follows:\\n\\n(Dollars in millions)\\n\\nFISCAL 2023\\n\\nFISCAL 2022\\n\\n% CHANGE\\n\\nFISCAL 2021\\n\\nNorth America Europe, Middle East & Africa Greater China\\n\\n$\\n\\n5,454 3,531 2,283\\n\\n$\\n\\n5,114 3,293 2,365\\n\\n7 % $ 7 % -3 %\\n\\n5,089 2,435 3,243\\n\\nAsia Pacific & Latin America Global Brand Divisions (1)', metadata={'id': 'doc:basiclangchain:dba7edfd7b3749e2996643a6472efbd6', 'source': '/Users/rouzbeh.farahmand/PycharmProjects/boa-financial-rag-workshop/resources/10K/nke-10k-2023.pdf'}),\n",
       "  0.2333),\n",
       " (Document(page_content='As discussed in Note 15 — Operating Segments and Related Information in the accompanying Notes to the Consolidated Financial Statements, our operating segments are evidence of the structure of the Company\\'s internal organization. The NIKE Brand segments are defined by geographic regions for operations participating in NIKE Brand sales activity.\\n\\nThe breakdown of Revenues is as follows:\\n\\n(Dollars in millions)\\n\\nFISCAL 2023 FISCAL 2022\\n\\n% CHANGE\\n\\n% CHANGE EXCLUDING CURRENCY (1) CHANGES FISCAL 2021\\n\\n% CHANGE\\n\\nNorth America Europe, Middle East & Africa Greater China\\n\\n$\\n\\n21,608 $ 13,418 7,248\\n\\n18,353 12,479 7,547\\n\\n18 % 8 % -4 %\\n\\n18 % $ 21 % 4 %\\n\\n17,179 11,456 8,290\\n\\n7 % 9 % -9 %\\n\\nAsia Pacific & Latin America Global Brand Divisions\\n\\n(3)\\n\\n(2)\\n\\n6,431 58\\n\\n5,955 102\\n\\n8 % -43 %\\n\\n17 % -43 %\\n\\n5,343 25\\n\\n11 % 308 %\\n\\nTOTAL NIKE BRAND Converse\\n\\n$\\n\\n48,763 $ 2,427\\n\\n44,436 2,346\\n\\n10 % 3 %\\n\\n16 % $ 8 %\\n\\n42,293 2,205\\n\\n5 % 6 %\\n\\n(4)\\n\\nCorporate TOTAL NIKE, INC. REVENUES\\n\\n$\\n\\n27\\n\\n51,217 $\\n\\n(72) 46,710\\n\\n— 10 %\\n\\n— 16 % $\\n\\n40 44,538\\n\\n— 5 %\\n\\n(1) The percent change excluding currency changes represents a non-GAAP financial measure. For further information, see \"Use of Non-GAAP Financial Measures\".\\n\\n(2) For additional information on the transition of our NIKE Brand businesses within our CASA territory to a third-party distributor, see Note 18 — Acquisitions and Divestitures of the Notes to Consolidated\\n\\nFinancial Statements contained in Item 8 of this Annual Report.\\n\\n(3) Global Brand Divisions revenues include NIKE Brand licensing and other miscellaneous revenues that are not part of a geographic operating segment.\\n\\n(4) Corporate revenues primarily consist of foreign currency hedge gains and losses related to revenues generated by entities within the NIKE Brand geographic operating segments and Converse, but\\n\\nmanaged through our central foreign exchange risk management program.\\n\\nThe primary financial measure used by the Company to evaluate performance is Earnings Before Interest and Taxes (\"EBIT\"). As discussed in Note 15 — Operating Segments and Related Information in the accompanying Notes to the Consolidated Financial Statements, certain corporate costs are not included in EBIT.\\n\\nThe breakdown of EBIT is as follows:\\n\\n(Dollars in millions)\\n\\nFISCAL 2023\\n\\nFISCAL 2022\\n\\n% CHANGE\\n\\nFISCAL 2021\\n\\nNorth America Europe, Middle East & Africa Greater China\\n\\n$\\n\\n5,454 3,531 2,283\\n\\n$\\n\\n5,114 3,293 2,365\\n\\n7 % $ 7 % -3 %\\n\\n5,089 2,435 3,243\\n\\nAsia Pacific & Latin America Global Brand Divisions (1)', metadata={'id': 'doc:basiclangchain:3ac16489b42644ae8e0391505586d873', 'source': '/Users/rouzbeh.farahmand/PycharmProjects/boa-financial-rag-workshop/resources/10K/nke-10k-2023.pdf'}),\n",
       "  0.2333)]"
      ]
     },
     "execution_count": 17,
     "metadata": {},
     "output_type": "execute_result"
    }
   ],
   "execution_count": 17
  },
  {
   "cell_type": "markdown",
   "metadata": {
    "id": "XdzQa112Bf2b"
   },
   "source": [
    "## RAG with HuggingFace LLM\n",
    "LangChain makes it easy to now take this vector store and build retireval augmented generation (RAG) applications over your data."
   ]
  },
  {
   "metadata": {},
   "cell_type": "markdown",
   "source": [
    "### Initialize a local llama LLM\n",
    "Alternatively, if you like to connect to a local Ollama LLM, you can use below LLM. If you have a local OpenAI-compatible server running via vLLM or Ollama, add your LLM here."
   ]
  },
  {
   "metadata": {
    "ExecuteTime": {
     "end_time": "2024-06-20T20:11:25.897657Z",
     "start_time": "2024-06-20T20:11:25.895224Z"
    }
   },
   "cell_type": "code",
   "source": [
    "llm = get_llm( \n",
    "        local_llm_engine=os.getenv(\"LOCAL_LLM_ENGINE\"),\n",
    "        vllm_url=os.getenv(\"VLLM_URL\"),\n",
    "        vllm_model=os.getenv(\"LOCAL_VLLM_MODEL\"),\n",
    "        ollama_model=os.getenv(\"LOCAL_OLLAMA_MODEL\"),\n",
    "        temperature=0)"
   ],
   "outputs": [],
   "execution_count": 18
  },
  {
   "cell_type": "markdown",
   "metadata": {
    "id": "-SQXQB-c1vmz"
   },
   "source": [
    "### Setup prompt\n",
    "PromptTemplate defines the exect text of the response that would be fed to the LLM. This step is optional, but the defaults usually work well for OpenAI and might fall short for other models."
   ]
  },
  {
   "cell_type": "code",
   "metadata": {
    "id": "yKKn2KKp3TQ4",
    "ExecuteTime": {
     "end_time": "2024-06-20T20:11:25.900043Z",
     "start_time": "2024-06-20T20:11:25.898266Z"
    }
   },
   "source": [
    "def get_prompt():\n",
    "    \"\"\"Create the QA chain.\"\"\"\n",
    "    from langchain.prompts import PromptTemplate\n",
    "\n",
    "    # Define our prompt\n",
    "    prompt_template = \"\"\"Use the following pieces of context from financial 10k filings data to answer the user question at the end. Only use the result from tools and evidence provided to you. If you don't know the answer, say that you don't know, don't try to make up an answer. Provide the source of the document that you used to get the answer.\n",
    "\n",
    "    This should be in the following format:\n",
    "\n",
    "    Question: [question here]\n",
    "    Answer: [answer here]\n",
    "    Source: [source document here]\n",
    "\n",
    "    Begin!\n",
    "\n",
    "    Context:\n",
    "    ---------\n",
    "    {context}\n",
    "    ---------\n",
    "    Question: {question}\n",
    "    Answer:\"\"\"\n",
    "\n",
    "    prompt = PromptTemplate(\n",
    "        template=prompt_template,\n",
    "        input_variables=[\"context\", \"question\"]\n",
    "    )\n",
    "    return prompt"
   ],
   "outputs": [],
   "execution_count": 19
  },
  {
   "cell_type": "markdown",
   "metadata": {
    "id": "xgEXBujxG1dO"
   },
   "source": [
    "### Putting it all together\n",
    "\n",
    "This is where the Langchain brings all the components together in a form of a simple RAG application with the financial PDF document."
   ]
  },
  {
   "cell_type": "code",
   "metadata": {
    "id": "RKNSP0zqZq98",
    "ExecuteTime": {
     "end_time": "2024-06-20T20:11:25.938600Z",
     "start_time": "2024-06-20T20:11:25.900479Z"
    }
   },
   "source": [
    "from langchain.chains import RetrievalQA\n",
    "\n",
    "qa = RetrievalQA.from_chain_type(\n",
    "    llm=llm,\n",
    "    chain_type=\"stuff\",\n",
    "    retriever=rds.as_retriever(search_type=\"similarity_distance_threshold\",search_kwargs={\"distance_threshold\":0.8}),\n",
    "    return_source_documents=True,\n",
    "    chain_type_kwargs={\"prompt\": get_prompt()},\n",
    "    verbose=True\n",
    ")"
   ],
   "outputs": [],
   "execution_count": 20
  },
  {
   "cell_type": "markdown",
   "metadata": {
    "id": "SURTtVbYBFGc"
   },
   "source": [
    "### Finally - let's ask questions!\n",
    "\n"
   ]
  },
  {
   "cell_type": "code",
   "metadata": {
    "colab": {
     "base_uri": "https://localhost:8080/",
     "height": 52
    },
    "id": "0JkswfOHZu9h",
    "outputId": "813fffe6-3d8b-4df7-a035-c54e421c0856",
    "ExecuteTime": {
     "end_time": "2024-06-20T20:11:42.825855Z",
     "start_time": "2024-06-20T20:11:25.939238Z"
    }
   },
   "source": [
    "query = \"What was Nike's revenue last year compared to this year??\"\n",
    "res=qa(query)\n",
    "res['result']"
   ],
   "outputs": [
    {
     "name": "stderr",
     "output_type": "stream",
     "text": [
      "/Library/Frameworks/Python.framework/Versions/3.12/lib/python3.12/site-packages/langchain_core/_api/deprecation.py:119: LangChainDeprecationWarning: The method `Chain.__call__` was deprecated in langchain 0.1.0 and will be removed in 0.3.0. Use invoke instead.\n",
      "  warn_deprecated(\n"
     ]
    },
    {
     "name": "stdout",
     "output_type": "stream",
     "text": [
      "\n",
      "\n",
      "\u001B[1m> Entering new RetrievalQA chain...\u001B[0m\n",
      "\n",
      "\u001B[1m> Finished chain.\u001B[0m\n"
     ]
    },
    {
     "data": {
      "text/plain": [
       "\"Based on the provided data, Nike's revenue for the previous year (FISCAL 2022) is:\\n\\n* TOTAL NIKE, INC. REVENUES: $51,217\\n\\nAnd for this year (FISCAL 2023), it is:\\n\\n* TOTAL NIKE, INC. REVENUES: $46,710\\n\\nSo, there was a decrease of approximately:\\n\\n* 10% ($4,507)\\n\\ncompared to the previous year's revenue.\""
      ]
     },
     "execution_count": 21,
     "metadata": {},
     "output_type": "execute_result"
    }
   ],
   "execution_count": 21
  },
  {
   "cell_type": "code",
   "metadata": {
    "colab": {
     "base_uri": "https://localhost:8080/",
     "height": 52
    },
    "id": "ZvioUduS1vm0",
    "outputId": "a8ba0e5d-c06b-4848-d066-c26884b3caee",
    "ExecuteTime": {
     "end_time": "2024-06-20T20:12:08.012731Z",
     "start_time": "2024-06-20T20:11:42.828926Z"
    }
   },
   "source": [
    "query = \"How many products does Nike offer? What is the industry that Nike is part of?\"\n",
    "res=qa(query)\n",
    "res['result']"
   ],
   "outputs": [
    {
     "name": "stdout",
     "output_type": "stream",
     "text": [
      "\n",
      "\n",
      "\u001B[1m> Entering new RetrievalQA chain...\u001B[0m\n",
      "\n",
      "\u001B[1m> Finished chain.\u001B[0m\n"
     ]
    },
    {
     "data": {
      "text/plain": [
       "'Question: How many products does Nike offer? What is the industry that Nike is part of?\\n\\nAnswer: According to the provided context, Nike offers a variety of products, including:\\n\\n* Athletic footwear products (Men\\'s, Women\\'s, and Jordan Brand)\\n* Apparel products\\n* Equipment, accessories, and services\\n\\nAs for the industry that Nike is part of, it is stated that:\\n\\n\"NIKE, Inc. was incorporated in 1967 under the laws of the State of Oregon. As used in this Annual Report on Form 10-K (this \\'Annual Report\\'), the terms \\'we\\', \\'us\\', \\'our\\', \\'NIKE\\' and the \\'Company\\' refer to NIKE, Inc. and its predecessors, subsidiaries and affiliates, collectively, unless the context indicates otherwise.\"\\n\\nBased on this information, it can be inferred that Nike is part of the athletic apparel and footwear industry.\\n\\nNote: The provided text does not explicitly state the number of products offered by Nike.'"
      ]
     },
     "execution_count": 22,
     "metadata": {},
     "output_type": "execute_result"
    }
   ],
   "execution_count": 22
  },
  {
   "cell_type": "code",
   "metadata": {
    "colab": {
     "base_uri": "https://localhost:8080/",
     "height": 35
    },
    "id": "Q9mE5z-61vm1",
    "outputId": "e3860d3e-e68b-489b-9897-c7118377c7bb",
    "ExecuteTime": {
     "end_time": "2024-06-20T20:12:34.956347Z",
     "start_time": "2024-06-20T20:12:08.014873Z"
    }
   },
   "source": [
    "query = \"Is Nike an ethical company?\"\n",
    "res=qa(query)\n",
    "res['result']"
   ],
   "outputs": [
    {
     "name": "stdout",
     "output_type": "stream",
     "text": [
      "\n",
      "\n",
      "\u001B[1m> Entering new RetrievalQA chain...\u001B[0m\n",
      "\n",
      "\u001B[1m> Finished chain.\u001B[0m\n"
     ]
    },
    {
     "data": {
      "text/plain": [
       "\"I don't know.\\n\\nThe provided context is the 10-K filing of NIKE, Inc., which primarily discusses the company's business activities, products, and operations. It does not provide any information or insights about the company's ethics or moral character. To determine whether Nike is an ethical company, one would need to examine external reports, ratings, and reviews from reputable sources such as Corporate Social Responsibility (CSR) organizations, NGOs, or industry watchdogs.\\n\\nSome possible places to look for answers might include:\\n\\n1. CSR reports: Companies like Dow Jones Sustainability Indexes, Sustainability Accounting Standards Board (SASB), or the Global Reporting Initiative (GRI) provide ratings and assessments of companies' sustainability and social responsibility practices.\\n2. Industry reports: Reports from industry associations, trade publications, or research firms may offer insights into a company's ethics and business practices.\\n3. NGO/NGI reviews: Non-governmental organizations (NGOs) or non-profit groups that focus on corporate accountability, labor rights, or environmental concerns might have published reports or ratings about Nike's ethical standing.\\n\\nPlease note that my initial answer is based solely on the provided context, which does not contain any information relevant to determining whether Nike is an ethical company.\""
      ]
     },
     "execution_count": 23,
     "metadata": {},
     "output_type": "execute_result"
    }
   ],
   "execution_count": 23
  },
  {
   "cell_type": "code",
   "metadata": {
    "colab": {
     "base_uri": "https://localhost:8080/",
     "height": 35
    },
    "id": "kjTO0RtH1vm1",
    "outputId": "f415c57b-1612-450a-db33-6b9616bff84b",
    "ExecuteTime": {
     "end_time": "2024-06-20T20:12:53.379305Z",
     "start_time": "2024-06-20T20:12:34.958422Z"
    }
   },
   "source": [
    "query = \"How many employees work at Nike???\"\n",
    "res=qa(query)\n",
    "res['result']"
   ],
   "outputs": [
    {
     "name": "stdout",
     "output_type": "stream",
     "text": [
      "\n",
      "\n",
      "\u001B[1m> Entering new RetrievalQA chain...\u001B[0m\n",
      "\n",
      "\u001B[1m> Finished chain.\u001B[0m\n"
     ]
    },
    {
     "data": {
      "text/plain": [
       "\"The provided financial data does not include information about the number of employees working at Nike. The data appears to be related to revenues, sales-related reserves, and operating segments, but it does not provide details on human resources or employee counts.\\n\\nTo find the answer to this question, you may want to look for a different type of report, such as an Annual Report (Form 10-K) or a Quarterly Report (Form 10-Q), which may include information about Nike's workforce. Alternatively, you can search for publicly available reports or news articles that may provide details on the company's employee count.\""
      ]
     },
     "execution_count": 24,
     "metadata": {},
     "output_type": "execute_result"
    }
   ],
   "execution_count": 24
  },
  {
   "cell_type": "markdown",
   "metadata": {
    "id": "5itk4UPF1vm1"
   },
   "source": [
    "## Cleanup\n",
    "\n",
    "Cleanup the index and data."
   ]
  },
  {
   "cell_type": "code",
   "metadata": {
    "id": "DtZi-mQ61vm-",
    "ExecuteTime": {
     "end_time": "2024-06-20T20:12:53.387246Z",
     "start_time": "2024-06-20T20:12:53.380994Z"
    }
   },
   "source": "#rds.drop_index(index_name=index_name, redis_url=REDIS_URL, delete_documents=True)",
   "outputs": [],
   "execution_count": 25
  }
 ],
 "metadata": {
  "accelerator": "GPU",
  "colab": {
   "gpuType": "T4",
   "provenance": []
  },
  "kernelspec": {
   "display_name": "Python 3 (ipykernel)",
   "name": "python3",
   "language": "python"
  },
  "language_info": {
   "codemirror_mode": {
    "name": "ipython",
    "version": 3
   },
   "file_extension": ".py",
   "mimetype": "text/x-python",
   "name": "python",
   "nbconvert_exporter": "python",
   "pygments_lexer": "ipython3",
   "version": "3.9.18"
  }
 },
 "nbformat": 4,
 "nbformat_minor": 0
}
